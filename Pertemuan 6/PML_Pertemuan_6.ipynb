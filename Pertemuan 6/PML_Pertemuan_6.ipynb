{
  "cells": [
    {
      "cell_type": "markdown",
      "metadata": {
        "id": "bUf7uD-v6Y1f"
      },
      "source": [
        "## Persiapan Streamlit"
      ]
    },
    {
      "cell_type": "code",
      "source": [
        "from google.colab import drive\n",
        "drive.mount('/content/drive')"
      ],
      "metadata": {
        "colab": {
          "base_uri": "https://localhost:8080/"
        },
        "id": "KlOIKApvuiiM",
        "outputId": "f21f0250-e4c1-498e-9034-9b197add3256"
      },
      "execution_count": 1,
      "outputs": [
        {
          "output_type": "stream",
          "name": "stdout",
          "text": [
            "Mounted at /content/drive\n"
          ]
        }
      ]
    },
    {
      "cell_type": "code",
      "execution_count": 2,
      "metadata": {
        "id": "cdO7QRj7o16X"
      },
      "outputs": [],
      "source": [
        "!mkdir Pengembangan_Machine_Learning"
      ]
    },
    {
      "cell_type": "code",
      "execution_count": 3,
      "metadata": {
        "id": "WlvI0uDLo60H",
        "colab": {
          "base_uri": "https://localhost:8080/"
        },
        "outputId": "bb54b159-988f-4b79-e0df-c4d18442d3e3"
      },
      "outputs": [
        {
          "output_type": "stream",
          "name": "stdout",
          "text": [
            "/content/Pengembangan_Machine_Learning\n"
          ]
        }
      ],
      "source": [
        "cd Pengembangan_Machine_Learning"
      ]
    },
    {
      "cell_type": "code",
      "source": [
        "!pwd"
      ],
      "metadata": {
        "id": "JO4vXRnYFSTw",
        "colab": {
          "base_uri": "https://localhost:8080/"
        },
        "outputId": "b5a3d91b-9e22-44a1-d7d6-bbbfcf6cd557"
      },
      "execution_count": 4,
      "outputs": [
        {
          "output_type": "stream",
          "name": "stdout",
          "text": [
            "/content/Pengembangan_Machine_Learning\n"
          ]
        }
      ]
    },
    {
      "cell_type": "code",
      "source": [
        "%%writefile requirements.txt\n",
        "# Berikut adalah daftar library yang akan digunakan dalam project ini\n",
        "streamlit"
      ],
      "metadata": {
        "id": "0QI5cEX1FZPG",
        "colab": {
          "base_uri": "https://localhost:8080/"
        },
        "outputId": "fecc5e05-90aa-449b-9df2-fe6da4fda7bb"
      },
      "execution_count": 5,
      "outputs": [
        {
          "output_type": "stream",
          "name": "stdout",
          "text": [
            "Writing requirements.txt\n"
          ]
        }
      ]
    },
    {
      "cell_type": "code",
      "source": [
        "!ls"
      ],
      "metadata": {
        "id": "He4D9HGhFa_y",
        "colab": {
          "base_uri": "https://localhost:8080/"
        },
        "outputId": "7a49cbfd-663e-467e-c0ae-c0763002eeb9"
      },
      "execution_count": 6,
      "outputs": [
        {
          "output_type": "stream",
          "name": "stdout",
          "text": [
            "requirements.txt\n"
          ]
        }
      ]
    },
    {
      "cell_type": "code",
      "source": [
        "!cat requirements.txt"
      ],
      "metadata": {
        "id": "bwQqVrsaFfhd",
        "colab": {
          "base_uri": "https://localhost:8080/"
        },
        "outputId": "2d646946-ecf3-4545-e7c1-b367fc84230f"
      },
      "execution_count": 7,
      "outputs": [
        {
          "output_type": "stream",
          "name": "stdout",
          "text": [
            "# Berikut adalah daftar library yang akan digunakan dalam project ini\n",
            "streamlit\n"
          ]
        }
      ]
    },
    {
      "cell_type": "code",
      "source": [
        "!pip install -q -r requirements.txt"
      ],
      "metadata": {
        "id": "oHS2JVqYFkbb",
        "colab": {
          "base_uri": "https://localhost:8080/"
        },
        "outputId": "d8db6f05-2707-4933-8905-8cecf9007bc7"
      },
      "execution_count": 8,
      "outputs": [
        {
          "output_type": "stream",
          "name": "stdout",
          "text": [
            "\u001b[2K     \u001b[90m━━━━━━━━━━━━━━━━━━━━━━━━━━━━━━━━━━━━━━━━\u001b[0m \u001b[32m44.3/44.3 kB\u001b[0m \u001b[31m2.1 MB/s\u001b[0m eta \u001b[36m0:00:00\u001b[0m\n",
            "\u001b[2K   \u001b[90m━━━━━━━━━━━━━━━━━━━━━━━━━━━━━━━━━━━━━━━━\u001b[0m \u001b[32m9.9/9.9 MB\u001b[0m \u001b[31m80.5 MB/s\u001b[0m eta \u001b[36m0:00:00\u001b[0m\n",
            "\u001b[2K   \u001b[90m━━━━━━━━━━━━━━━━━━━━━━━━━━━━━━━━━━━━━━━━\u001b[0m \u001b[32m6.9/6.9 MB\u001b[0m \u001b[31m73.7 MB/s\u001b[0m eta \u001b[36m0:00:00\u001b[0m\n",
            "\u001b[2K   \u001b[90m━━━━━━━━━━━━━━━━━━━━━━━━━━━━━━━━━━━━━━━━\u001b[0m \u001b[32m79.1/79.1 kB\u001b[0m \u001b[31m5.7 MB/s\u001b[0m eta \u001b[36m0:00:00\u001b[0m\n",
            "\u001b[?25h"
          ]
        }
      ]
    },
    {
      "cell_type": "code",
      "execution_count": 9,
      "metadata": {
        "id": "1zyxZfx0o-Bp",
        "colab": {
          "base_uri": "https://localhost:8080/"
        },
        "outputId": "6036fd29-7f1d-4610-d261-16165d82b5c7"
      },
      "outputs": [
        {
          "output_type": "stream",
          "name": "stdout",
          "text": [
            "streamlit                             1.45.1\n"
          ]
        }
      ],
      "source": [
        "!pip list | grep streamlit"
      ]
    },
    {
      "cell_type": "code",
      "execution_count": 10,
      "metadata": {
        "id": "VdSqmROmo-_Y"
      },
      "outputs": [],
      "source": [
        "!pip install streamlit -q"
      ]
    },
    {
      "cell_type": "markdown",
      "source": [
        "### Buat File Home.py"
      ],
      "metadata": {
        "id": "sFw9yT5OFsQ-"
      }
    },
    {
      "cell_type": "code",
      "execution_count": 11,
      "metadata": {
        "id": "q2GcvoeHpB_o",
        "colab": {
          "base_uri": "https://localhost:8080/"
        },
        "outputId": "01b6e56e-b53b-46ba-f15a-b6473d94ca20"
      },
      "outputs": [
        {
          "output_type": "stream",
          "name": "stdout",
          "text": [
            "Writing Home.py\n"
          ]
        }
      ],
      "source": [
        "%%writefile Home.py\n",
        "import streamlit as st\n",
        "st.title(\"Pengembangan Machine Learning\")\n",
        "\n",
        "st.header(\"Pertemuan 6\")\n",
        "st.subheader(\"MEMBUAT VISUALISASI DATA INTERAKTIF PADA APLIKASI WEB\")\n",
        "st.text(\"Tujuan Pembelajaran:\")\n",
        "st.text(\"▪ Menjelaskan konsep dan prinsip visualisasi data\")\n",
        "st.text(\"▪ Menjelaskan jenis grafik sederhana pada streamlit\")\n",
        "st.text(\"▪ Menerapkan berbagai jenis grafik pada aplikasi web\")\n",
        "st.text(\"▪ Membuat visualisasi data pada aplikasi web\")"
      ]
    },
    {
      "cell_type": "code",
      "source": [
        "pwd"
      ],
      "metadata": {
        "id": "Y1xnhI7oFwUi",
        "colab": {
          "base_uri": "https://localhost:8080/",
          "height": 36
        },
        "outputId": "3e378c1a-26f0-4c56-834f-3db7412ca72b"
      },
      "execution_count": 12,
      "outputs": [
        {
          "output_type": "execute_result",
          "data": {
            "text/plain": [
              "'/content/Pengembangan_Machine_Learning'"
            ],
            "application/vnd.google.colaboratory.intrinsic+json": {
              "type": "string"
            }
          },
          "metadata": {},
          "execution_count": 12
        }
      ]
    },
    {
      "cell_type": "code",
      "execution_count": 13,
      "metadata": {
        "id": "ehortH0hpMiz",
        "colab": {
          "base_uri": "https://localhost:8080/"
        },
        "outputId": "61a32601-cb0f-4361-d28b-6eb3d77c2ded"
      },
      "outputs": [
        {
          "output_type": "stream",
          "name": "stdout",
          "text": [
            "Home.py  requirements.txt\n"
          ]
        }
      ],
      "source": [
        "!ls"
      ]
    },
    {
      "cell_type": "markdown",
      "source": [
        "### Buat Direktori Pages"
      ],
      "metadata": {
        "id": "RjG4ibb9F0p6"
      }
    },
    {
      "cell_type": "code",
      "execution_count": 14,
      "metadata": {
        "id": "EtthnVTEpJ7t"
      },
      "outputs": [],
      "source": [
        "!mkdir pages"
      ]
    },
    {
      "cell_type": "code",
      "source": [
        "!ls"
      ],
      "metadata": {
        "id": "orQZ8r3EF843",
        "colab": {
          "base_uri": "https://localhost:8080/"
        },
        "outputId": "a151c8a8-39b3-464b-d36c-5e3d6e99ac17"
      },
      "execution_count": 15,
      "outputs": [
        {
          "output_type": "stream",
          "name": "stdout",
          "text": [
            "Home.py  pages\trequirements.txt\n"
          ]
        }
      ]
    },
    {
      "cell_type": "code",
      "execution_count": 16,
      "metadata": {
        "id": "1EnvvMCRpSnf"
      },
      "outputs": [],
      "source": [
        "!ls pages"
      ]
    },
    {
      "cell_type": "markdown",
      "source": [
        "## Pertemuan 6"
      ],
      "metadata": {
        "id": "6gAmGMqAWK8l"
      }
    },
    {
      "cell_type": "code",
      "source": [
        "%%writefile pages/Contoh_Pertemuan_6.py\n",
        "import streamlit as st\n",
        "import pandas as pd\n",
        "\n",
        "# Membuat data contoh\n",
        "data = pd.DataFrame({\n",
        "    'Tahun': [2020,2021,2022,2023],\n",
        "    'Pendapatan': [100, 150, 200, 250]\n",
        "})\n",
        "\n",
        "# Menampilkan grafik area\n",
        "st.area_chart(data.set_index('Tahun'))\n",
        "\n",
        "# Menampilkan grafik garis\n",
        "st.line_chart(data.set_index('Tahun'))\n",
        "\n",
        "# Menampilkan grafik batang\n",
        "st.bar_chart(data.set_index('Tahun'))\n",
        "\n",
        "data2 = pd.DataFrame({\n",
        "    'X': [1,2,3,4,5],\n",
        "    'Y': [2,3,5,7,11]\n",
        "})\n",
        "# Menampilkan grafik sebar\n",
        "st.scatter_chart(data2)\n",
        "\n",
        "# Membuat data koordinat contoh\n",
        "data3 = pd.DataFrame({\n",
        "    'latitude': [40.7128, 34.0522, 51.5074],\n",
        "    'longitude': [-74.0060, -118.2437, -0.1278]\n",
        "})\n",
        "\n",
        "# Menampilkan peta\n",
        "st.map(data3)"
      ],
      "metadata": {
        "id": "KRreeSihWMbW",
        "colab": {
          "base_uri": "https://localhost:8080/"
        },
        "outputId": "090cab18-44dc-4485-8423-59ed5c3203b0"
      },
      "execution_count": 17,
      "outputs": [
        {
          "output_type": "stream",
          "name": "stdout",
          "text": [
            "Writing pages/Contoh_Pertemuan_6.py\n"
          ]
        }
      ]
    },
    {
      "cell_type": "code",
      "source": [
        "%%writefile pages/Latihan_Pertemuan_6.py\n",
        "import streamlit as st\n",
        "import pandas as pd\n",
        "import matplotlib.pyplot as plt\n",
        "import plotly.express as px\n",
        "import seaborn as sns\n",
        "\n",
        "# Load dataset\n",
        "df = pd.read_csv('/content/drive/MyDrive/Colab Notebooks/PENGEMBANGAN MACHINE LEARNING/asset/Iris.csv')\n",
        "\n",
        "# Judul aplikasi\n",
        "st.title(\"Visualisasi Data Iris dengan Tab Interaktif\")\n",
        "st.markdown(\"Visualisasi berbagai jenis grafik berdasarkan dataset Iris\")\n",
        "\n",
        "# Membuat 5 tab\n",
        "tab1, tab2, tab3, tab4, tab5 = st.tabs([\"Grafik Area\", \"Grafik Garis\", \"Grafik Batang\", \"Grafik Scatter\", \"Peta\"])\n",
        "\n",
        "with tab1:\n",
        "    st.header(\"Grafik Area: Panjang dan Lebar Sepal\")\n",
        "    fig_area = px.area(df, x='Id', y=['SepalLengthCm', 'SepalWidthCm'], title='Area Chart Sepal')\n",
        "    st.plotly_chart(fig_area, use_container_width=True)\n",
        "\n",
        "with tab2:\n",
        "    st.header(\"Grafik Garis: Petal Length dan Width\")\n",
        "    fig_line = px.line(df, x='Id', y=['PetalLengthCm', 'PetalWidthCm'], color='Species', title='Line Chart Petal per Spesies')\n",
        "    st.plotly_chart(fig_line, use_container_width=True)\n",
        "\n",
        "with tab3:\n",
        "    st.header(\"Grafik Batang: Rata-rata Ukuran Sepal per Spesies\")\n",
        "    avg_sepal = df.groupby('Species')[['SepalLengthCm', 'SepalWidthCm']].mean().reset_index()\n",
        "    fig_bar = px.bar(avg_sepal, x='Species', y=['SepalLengthCm', 'SepalWidthCm'], barmode='group',\n",
        "                     title=\"Rata-rata Sepal per Spesies\")\n",
        "    st.plotly_chart(fig_bar, use_container_width=True)\n",
        "\n",
        "with tab4:\n",
        "    st.header(\"Grafik Scatter: Petal Length vs Width\")\n",
        "    fig_scatter = px.scatter(df, x='PetalLengthCm', y='PetalWidthCm', color='Species', symbol='Species',\n",
        "                             title=\"Scatter Plot Petal\", size='SepalLengthCm')\n",
        "    st.plotly_chart(fig_scatter, use_container_width=True)\n",
        "\n",
        "with tab5:\n",
        "    st.header(\"Peta: Simulasi Peta Spesies (Dummy Coordinates)\")\n",
        "    # Karena dataset tidak memiliki koordinat, kita buat dummy data\n",
        "    import numpy as np\n",
        "    df['Latitude'] = np.random.uniform(low=-6.2, high=-6.0, size=len(df))\n",
        "    df['Longitude'] = np.random.uniform(low=106.7, high=107.0, size=len(df))\n",
        "\n",
        "    fig_map = px.scatter_mapbox(df, lat='Latitude', lon='Longitude', color='Species', zoom=9,\n",
        "                                mapbox_style=\"carto-positron\", title=\"Sebaran Dummy Spesies di Peta\")\n",
        "    st.plotly_chart(fig_map, use_container_width=True)"
      ],
      "metadata": {
        "id": "qdrnqlKAXtY-",
        "colab": {
          "base_uri": "https://localhost:8080/"
        },
        "outputId": "c64c1599-02e9-4490-c183-d930087b18e1"
      },
      "execution_count": 18,
      "outputs": [
        {
          "output_type": "stream",
          "name": "stdout",
          "text": [
            "Writing pages/Latihan_Pertemuan_6.py\n"
          ]
        }
      ]
    },
    {
      "cell_type": "code",
      "source": [
        "%%writefile pages/Tugas_Pertemuan_6.py\n",
        "import streamlit as st\n",
        "import pandas as pd\n",
        "import matplotlib.pyplot as plt\n",
        "import seaborn as sns\n",
        "\n",
        "# Memuat data nutrition\n",
        "data = pd.read_csv('/content/drive/MyDrive/Colab Notebooks/PENGEMBANGAN MACHINE LEARNING/asset/nutrition.csv')  # Ganti path sesuai lokasi file Anda\n",
        "\n",
        "# Menyiapkan kolom untuk tab\n",
        "tabs = [\"Grafik Area\", \"Grafik Garis\", \"Grafik Batang\", \"Grafik Scatter\", \"Peta\"]\n",
        "selected_tab = st.sidebar.radio(\"Pilih Grafik:\", tabs)\n",
        "\n",
        "# Menampilkan data\n",
        "st.title(\"Dashboard Nutrition Dataset\")\n",
        "st.write(\"Data Nutrition (versi 1)\")\n",
        "st.write(data.head())\n",
        "\n",
        "# Memastikan kolom numerik yang sesuai\n",
        "numerik_data = data[['calories', 'proteins', 'fat', 'carbohydrate']]\n",
        "\n",
        "# Grafik Area\n",
        "if selected_tab == \"Grafik Area\":\n",
        "    st.subheader(\"Grafik Area\")\n",
        "    try:\n",
        "        st.area_chart(numerik_data)\n",
        "    except:\n",
        "        st.warning(\"Tidak dapat menampilkan grafik area. Pastikan hanya data numerik.\")\n",
        "\n",
        "# Grafik Garis\n",
        "elif selected_tab == \"Grafik Garis\":\n",
        "    st.subheader(\"Grafik Garis\")\n",
        "    try:\n",
        "        st.line_chart(numerik_data)\n",
        "    except:\n",
        "        st.warning(\"Tidak dapat menampilkan grafik garis. Pastikan hanya data numerik.\")\n",
        "\n",
        "# Grafik Batang\n",
        "elif selected_tab == \"Grafik Batang\":\n",
        "    st.subheader(\"Grafik Batang\")\n",
        "    try:\n",
        "        st.bar_chart(numerik_data)\n",
        "    except:\n",
        "        st.warning(\"Tidak dapat menampilkan grafik batang. Pastikan hanya data numerik.\")\n",
        "\n",
        "# Grafik Scatter\n",
        "elif selected_tab == \"Grafik Scatter\":\n",
        "    st.subheader(\"Grafik Scatter\")\n",
        "    numeric_columns = numerik_data.columns.tolist()\n",
        "    if len(numeric_columns) >= 2:\n",
        "        x_axis = st.selectbox(\"Pilih sumbu X:\", numeric_columns)\n",
        "        y_axis = st.selectbox(\"Pilih sumbu Y:\", numeric_columns, index=1)\n",
        "        fig, ax = plt.subplots()\n",
        "        sns.scatterplot(data=data, x=x_axis, y=y_axis, ax=ax)\n",
        "        st.pyplot(fig)\n",
        "    else:\n",
        "        st.warning(\"Tidak cukup data numerik untuk scatter plot.\")\n",
        "\n",
        "# Peta\n",
        "elif selected_tab == \"Peta\":\n",
        "    st.subheader(\"Peta Nutrition\")\n",
        "    if 'latitude' in data.columns and 'longitude' in data.columns:\n",
        "        st.map(data[['latitude', 'longitude']])\n",
        "    else:\n",
        "        st.warning(\"Data tidak memiliki kolom latitude dan longitude.\")"
      ],
      "metadata": {
        "id": "1i5cuP7QZXDz",
        "colab": {
          "base_uri": "https://localhost:8080/"
        },
        "outputId": "2b757f80-5c38-47ae-9280-12408a686aab"
      },
      "execution_count": 19,
      "outputs": [
        {
          "output_type": "stream",
          "name": "stdout",
          "text": [
            "Writing pages/Tugas_Pertemuan_6.py\n"
          ]
        }
      ]
    },
    {
      "cell_type": "markdown",
      "source": [
        "## Mengecek isi dari Home.py"
      ],
      "metadata": {
        "id": "UbKQi8cWGWKb"
      }
    },
    {
      "cell_type": "code",
      "source": [
        "!cat Home.py"
      ],
      "metadata": {
        "id": "0dzlr2bxGZQu",
        "colab": {
          "base_uri": "https://localhost:8080/"
        },
        "outputId": "8c6e10b9-22bc-4a30-c3c5-eb7d46924ad0"
      },
      "execution_count": 20,
      "outputs": [
        {
          "output_type": "stream",
          "name": "stdout",
          "text": [
            "import streamlit as st\n",
            "st.title(\"Pengembangan Machine Learning\")\n",
            "\n",
            "st.header(\"Pertemuan 6\")\n",
            "st.subheader(\"MEMBUAT VISUALISASI DATA INTERAKTIF PADA APLIKASI WEB\")\n",
            "st.text(\"Tujuan Pembelajaran:\")\n",
            "st.text(\"▪ Menjelaskan konsep dan prinsip visualisasi data\")\n",
            "st.text(\"▪ Menjelaskan jenis grafik sederhana pada streamlit\")\n",
            "st.text(\"▪ Menerapkan berbagai jenis grafik pada aplikasi web\")\n",
            "st.text(\"▪ Membuat visualisasi data pada aplikasi web\")\n"
          ]
        }
      ]
    },
    {
      "cell_type": "markdown",
      "metadata": {
        "id": "k4pIIyd86nzn"
      },
      "source": [
        "## Deployment"
      ]
    },
    {
      "cell_type": "code",
      "source": [
        "!npm install localtunnel"
      ],
      "metadata": {
        "id": "m3_PvUwaGfTr",
        "colab": {
          "base_uri": "https://localhost:8080/"
        },
        "outputId": "03f140ad-d9da-4e82-badb-be98efc667c8"
      },
      "execution_count": 21,
      "outputs": [
        {
          "output_type": "stream",
          "name": "stdout",
          "text": [
            "\u001b[1G\u001b[0K⠙\u001b[1G\u001b[0K⠹\u001b[1G\u001b[0K⠸\u001b[1G\u001b[0K⠼\u001b[1G\u001b[0K⠴\u001b[1G\u001b[0K⠦\u001b[1G\u001b[0K⠧\u001b[1G\u001b[0K⠇\u001b[1G\u001b[0K⠏\u001b[1G\u001b[0K⠋\u001b[1G\u001b[0K⠙\u001b[1G\u001b[0K⠹\u001b[1G\u001b[0K⠸\u001b[1G\u001b[0K⠼\u001b[1G\u001b[0K⠴\u001b[1G\u001b[0K⠦\u001b[1G\u001b[0K⠧\u001b[1G\u001b[0K⠇\u001b[1G\u001b[0K⠏\u001b[1G\u001b[0K⠋\u001b[1G\u001b[0K⠙\u001b[1G\u001b[0K⠹\u001b[1G\u001b[0K⠸\u001b[1G\u001b[0K⠼\u001b[1G\u001b[0K⠴\u001b[1G\u001b[0K\n",
            "added 22 packages in 3s\n",
            "\u001b[1G\u001b[0K⠴\u001b[1G\u001b[0K\n",
            "\u001b[1G\u001b[0K⠴\u001b[1G\u001b[0K3 packages are looking for funding\n",
            "\u001b[1G\u001b[0K⠴\u001b[1G\u001b[0K  run `npm fund` for details\n",
            "\u001b[1G\u001b[0K⠴\u001b[1G\u001b[0K"
          ]
        }
      ]
    },
    {
      "cell_type": "code",
      "source": [
        "!pwd"
      ],
      "metadata": {
        "id": "1QkFzxI1GhDc",
        "colab": {
          "base_uri": "https://localhost:8080/"
        },
        "outputId": "e966a0ce-20a2-48fa-9887-eb9ac77e44a7"
      },
      "execution_count": 22,
      "outputs": [
        {
          "output_type": "stream",
          "name": "stdout",
          "text": [
            "/content/Pengembangan_Machine_Learning\n"
          ]
        }
      ]
    },
    {
      "cell_type": "code",
      "source": [
        "#Kalo ada yg error atau modifikasi, berhentiin dulu tunnelnya. Run sel yg mau dimodifikasi. Baru run lagi dari sini sampe muncul link tunnel yg baru.\n",
        "!streamlit run /content/Pengembangan_Machine_Learning/Home.py &>/content/Pengembangan_Machine_Learning/logs.txt &"
      ],
      "metadata": {
        "id": "CvKsDBl4GkC2"
      },
      "execution_count": 23,
      "outputs": []
    },
    {
      "cell_type": "code",
      "source": [
        "!timeout 30 cat /content/Pengembangan_Machine_Learning/logs.txt"
      ],
      "metadata": {
        "id": "okbzm9pFGmF9"
      },
      "execution_count": 24,
      "outputs": []
    },
    {
      "cell_type": "code",
      "source": [
        "import requests\n",
        "requests.get('https://api.ipify.org').text"
      ],
      "metadata": {
        "id": "4e3bnAGuGol5",
        "colab": {
          "base_uri": "https://localhost:8080/",
          "height": 36
        },
        "outputId": "143adb81-e83f-455e-abca-7bcad86cff83"
      },
      "execution_count": 25,
      "outputs": [
        {
          "output_type": "execute_result",
          "data": {
            "text/plain": [
              "'35.245.89.3'"
            ],
            "application/vnd.google.colaboratory.intrinsic+json": {
              "type": "string"
            }
          },
          "metadata": {},
          "execution_count": 25
        }
      ]
    },
    {
      "cell_type": "code",
      "source": [
        "!npx localtunnel --port 8501"
      ],
      "metadata": {
        "colab": {
          "base_uri": "https://localhost:8080/"
        },
        "id": "oVV37RKqGqPg",
        "outputId": "5282d22b-b818-42af-f6ea-9bff95622223"
      },
      "execution_count": null,
      "outputs": [
        {
          "output_type": "stream",
          "name": "stdout",
          "text": [
            "\u001b[1G\u001b[0K⠙\u001b[1G\u001b[0K⠹\u001b[1G\u001b[0Kyour url is: https://thirty-rabbits-occur.loca.lt\n"
          ]
        }
      ]
    }
  ],
  "metadata": {
    "colab": {
      "provenance": [],
      "collapsed_sections": [
        "bUf7uD-v6Y1f"
      ]
    },
    "kernelspec": {
      "display_name": "Python 3",
      "name": "python3"
    },
    "language_info": {
      "name": "python"
    }
  },
  "nbformat": 4,
  "nbformat_minor": 0
}
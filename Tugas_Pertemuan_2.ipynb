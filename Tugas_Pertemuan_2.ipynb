{
  "cells": [
    {
      "cell_type": "markdown",
      "metadata": {
        "id": "bUf7uD-v6Y1f"
      },
      "source": [
        "## Persiapan Streamlit"
      ]
    },
    {
      "cell_type": "code",
      "source": [
        "from google.colab import drive\n",
        "drive.mount('/content/drive')"
      ],
      "metadata": {
        "colab": {
          "base_uri": "https://localhost:8080/"
        },
        "id": "KlOIKApvuiiM",
        "outputId": "d6994aec-5782-4867-c5b6-7fb8c0f3177a"
      },
      "execution_count": 3,
      "outputs": [
        {
          "output_type": "stream",
          "name": "stdout",
          "text": [
            "Drive already mounted at /content/drive; to attempt to forcibly remount, call drive.mount(\"/content/drive\", force_remount=True).\n"
          ]
        }
      ]
    },
    {
      "cell_type": "code",
      "execution_count": 4,
      "metadata": {
        "id": "cdO7QRj7o16X"
      },
      "outputs": [],
      "source": [
        "!mkdir Pengembangan_Machine_Learning"
      ]
    },
    {
      "cell_type": "code",
      "execution_count": 5,
      "metadata": {
        "id": "WlvI0uDLo60H",
        "colab": {
          "base_uri": "https://localhost:8080/"
        },
        "outputId": "56fe186f-b311-4af5-d110-9d14ea88c98f"
      },
      "outputs": [
        {
          "output_type": "stream",
          "name": "stdout",
          "text": [
            "/content/Pengembangan_Machine_Learning\n"
          ]
        }
      ],
      "source": [
        "cd Pengembangan_Machine_Learning"
      ]
    },
    {
      "cell_type": "code",
      "source": [
        "!pwd"
      ],
      "metadata": {
        "id": "JO4vXRnYFSTw",
        "colab": {
          "base_uri": "https://localhost:8080/"
        },
        "outputId": "25fa0d1d-8625-44c0-d84a-b766fe775e18"
      },
      "execution_count": 6,
      "outputs": [
        {
          "output_type": "stream",
          "name": "stdout",
          "text": [
            "/content/Pengembangan_Machine_Learning\n"
          ]
        }
      ]
    },
    {
      "cell_type": "code",
      "source": [
        "%%writefile requirements.txt\n",
        "# Berikut adalah daftar library yang akan digunakan dalam project ini\n",
        "streamlit"
      ],
      "metadata": {
        "id": "0QI5cEX1FZPG",
        "colab": {
          "base_uri": "https://localhost:8080/"
        },
        "outputId": "e19a6bbc-bfc3-4c1e-8467-764db2ee1cf3"
      },
      "execution_count": 7,
      "outputs": [
        {
          "output_type": "stream",
          "name": "stdout",
          "text": [
            "Writing requirements.txt\n"
          ]
        }
      ]
    },
    {
      "cell_type": "code",
      "source": [
        "!ls"
      ],
      "metadata": {
        "id": "He4D9HGhFa_y",
        "colab": {
          "base_uri": "https://localhost:8080/"
        },
        "outputId": "8e5df8f1-a531-4faf-d23f-a92dafd35031"
      },
      "execution_count": 8,
      "outputs": [
        {
          "output_type": "stream",
          "name": "stdout",
          "text": [
            "requirements.txt\n"
          ]
        }
      ]
    },
    {
      "cell_type": "code",
      "source": [
        "!cat requirements.txt"
      ],
      "metadata": {
        "id": "bwQqVrsaFfhd",
        "colab": {
          "base_uri": "https://localhost:8080/"
        },
        "outputId": "579a5ff5-157d-4ba1-8fff-30d99f330717"
      },
      "execution_count": 9,
      "outputs": [
        {
          "output_type": "stream",
          "name": "stdout",
          "text": [
            "# Berikut adalah daftar library yang akan digunakan dalam project ini\n",
            "streamlit\n"
          ]
        }
      ]
    },
    {
      "cell_type": "code",
      "source": [
        "!pip install -q -r requirements.txt"
      ],
      "metadata": {
        "id": "oHS2JVqYFkbb",
        "colab": {
          "base_uri": "https://localhost:8080/"
        },
        "outputId": "eecb0c55-265e-425c-9b77-c43ec40a0c80"
      },
      "execution_count": 10,
      "outputs": [
        {
          "output_type": "stream",
          "name": "stdout",
          "text": [
            "\u001b[2K     \u001b[90m━━━━━━━━━━━━━━━━━━━━━━━━━━━━━━━━━━━━━━━━\u001b[0m \u001b[32m44.3/44.3 kB\u001b[0m \u001b[31m2.0 MB/s\u001b[0m eta \u001b[36m0:00:00\u001b[0m\n",
            "\u001b[2K   \u001b[90m━━━━━━━━━━━━━━━━━━━━━━━━━━━━━━━━━━━━━━━━\u001b[0m \u001b[32m9.9/9.9 MB\u001b[0m \u001b[31m72.4 MB/s\u001b[0m eta \u001b[36m0:00:00\u001b[0m\n",
            "\u001b[2K   \u001b[90m━━━━━━━━━━━━━━━━━━━━━━━━━━━━━━━━━━━━━━━━\u001b[0m \u001b[32m6.9/6.9 MB\u001b[0m \u001b[31m97.4 MB/s\u001b[0m eta \u001b[36m0:00:00\u001b[0m\n",
            "\u001b[2K   \u001b[90m━━━━━━━━━━━━━━━━━━━━━━━━━━━━━━━━━━━━━━━━\u001b[0m \u001b[32m79.1/79.1 kB\u001b[0m \u001b[31m5.7 MB/s\u001b[0m eta \u001b[36m0:00:00\u001b[0m\n",
            "\u001b[?25h"
          ]
        }
      ]
    },
    {
      "cell_type": "code",
      "execution_count": 11,
      "metadata": {
        "id": "1zyxZfx0o-Bp",
        "colab": {
          "base_uri": "https://localhost:8080/"
        },
        "outputId": "ffc49464-0f02-4599-a04e-40a0c6d05541"
      },
      "outputs": [
        {
          "output_type": "stream",
          "name": "stdout",
          "text": [
            "streamlit                             1.45.0\n"
          ]
        }
      ],
      "source": [
        "!pip list | grep streamlit"
      ]
    },
    {
      "cell_type": "code",
      "execution_count": 12,
      "metadata": {
        "id": "VdSqmROmo-_Y"
      },
      "outputs": [],
      "source": [
        "!pip install streamlit -q"
      ]
    },
    {
      "cell_type": "markdown",
      "source": [
        "### Buat File Home.py"
      ],
      "metadata": {
        "id": "sFw9yT5OFsQ-"
      }
    },
    {
      "cell_type": "code",
      "execution_count": 13,
      "metadata": {
        "id": "q2GcvoeHpB_o",
        "colab": {
          "base_uri": "https://localhost:8080/"
        },
        "outputId": "d668c93d-5d21-4875-cabc-49af852e30b9"
      },
      "outputs": [
        {
          "output_type": "stream",
          "name": "stdout",
          "text": [
            "Writing Home.py\n"
          ]
        }
      ],
      "source": [
        "%%writefile Home.py\n",
        "import streamlit as st\n",
        "st.title(\"Pengembangan Machine Learning\")\n",
        "\n",
        "st.header(\"Pengembangan Machine Learning\")\n",
        "st.subheader(\"Menggunakan Machine Learning\")\n",
        "st.text(\"Selamat datang di aplikasi kami!\")"
      ]
    },
    {
      "cell_type": "code",
      "source": [
        "pwd"
      ],
      "metadata": {
        "id": "Y1xnhI7oFwUi",
        "colab": {
          "base_uri": "https://localhost:8080/",
          "height": 36
        },
        "outputId": "452e75a7-7b5e-45ab-b60e-9797736817c4"
      },
      "execution_count": 14,
      "outputs": [
        {
          "output_type": "execute_result",
          "data": {
            "text/plain": [
              "'/content/Pengembangan_Machine_Learning'"
            ],
            "application/vnd.google.colaboratory.intrinsic+json": {
              "type": "string"
            }
          },
          "metadata": {},
          "execution_count": 14
        }
      ]
    },
    {
      "cell_type": "code",
      "execution_count": 15,
      "metadata": {
        "id": "ehortH0hpMiz",
        "colab": {
          "base_uri": "https://localhost:8080/"
        },
        "outputId": "9ec402f9-9641-49c7-ce6d-bfd2b66542fa"
      },
      "outputs": [
        {
          "output_type": "stream",
          "name": "stdout",
          "text": [
            "Home.py  requirements.txt\n"
          ]
        }
      ],
      "source": [
        "!ls"
      ]
    },
    {
      "cell_type": "markdown",
      "source": [
        "### Buat Direktori Pages"
      ],
      "metadata": {
        "id": "RjG4ibb9F0p6"
      }
    },
    {
      "cell_type": "code",
      "execution_count": 16,
      "metadata": {
        "id": "EtthnVTEpJ7t"
      },
      "outputs": [],
      "source": [
        "!mkdir pages"
      ]
    },
    {
      "cell_type": "code",
      "source": [
        "!ls"
      ],
      "metadata": {
        "id": "orQZ8r3EF843",
        "colab": {
          "base_uri": "https://localhost:8080/"
        },
        "outputId": "8e6f70a5-8b7f-4c33-b388-8a6aa7f7415e"
      },
      "execution_count": 17,
      "outputs": [
        {
          "output_type": "stream",
          "name": "stdout",
          "text": [
            "Home.py  pages\trequirements.txt\n"
          ]
        }
      ]
    },
    {
      "cell_type": "code",
      "execution_count": 18,
      "metadata": {
        "id": "1EnvvMCRpSnf"
      },
      "outputs": [],
      "source": [
        "!ls pages"
      ]
    },
    {
      "cell_type": "markdown",
      "metadata": {
        "id": "VtB2dJ2v6XI6"
      },
      "source": [
        "## Pertemuan 2"
      ]
    },
    {
      "cell_type": "code",
      "execution_count": 19,
      "metadata": {
        "id": "902vvdc0sJq1",
        "colab": {
          "base_uri": "https://localhost:8080/"
        },
        "outputId": "c665ec72-bedb-464e-b291-61d4bf429f75"
      },
      "outputs": [
        {
          "output_type": "stream",
          "name": "stdout",
          "text": [
            "Writing pages/Tugas_Pertemuan_2.py\n"
          ]
        }
      ],
      "source": [
        "%%writefile pages/Tugas_Pertemuan_2.py\n",
        "import streamlit as st\n",
        "\n",
        "# Menampilkan judul utama aplikasi\n",
        "st.title(\"Pengenalan Machine Learning\")\n",
        "\n",
        "# Menampilkan deskripsi umum tentang topik\n",
        "st.text(\"Machine Learning adalah cabang dari kecerdasan buatan (AI) yang memungkinkan sistem belajar dari data tanpa harus diprogram secara eksplisit.\")\n",
        "\n",
        "# Menampilkan header untuk fitur utama\n",
        "st.subheader(\"Fitur Utama Machine Learning\")\n",
        "\n",
        "# Menampilkan daftar fitur dalam format unordered list\n",
        "st.markdown(\"\"\"\n",
        "- **Belajar dari Data**: Sistem dapat belajar dan meningkat dari pengalaman.\n",
        "- **Prediksi dan Klasifikasi**: Menghasilkan output berdasarkan input baru.\n",
        "- **Deteksi Pola**: Menemukan pola tersembunyi di dalam data besar.\n",
        "- **Pengambilan Keputusan Otomatis**: Membantu otomatisasi dalam berbagai industri.\n",
        "- **Adaptasi Dinamis**: Sistem dapat beradaptasi dengan perubahan data secara real-time.\n",
        "\"\"\")\n",
        "\n",
        "# Menampilkan daftar langkah kerja dalam format ordered list\n",
        "st.markdown(\"\"\"\n",
        "1. Kumpulkan dan siapkan data.\n",
        "2. Pilih model machine learning yang sesuai.\n",
        "3. Latih model menggunakan data pelatihan.\n",
        "4. Evaluasi model dengan data pengujian.\n",
        "5. Gunakan model untuk membuat prediksi pada data baru.\n",
        "\"\"\")\n",
        "\n",
        "# Menampilkan subheader contoh penggunaan kode\n",
        "st.subheader(\"Contoh Kode Machine Learning Sederhana\")\n",
        "\n",
        "# Menampilkan contoh kode\n",
        "st.code(\"\"\"\n",
        "from sklearn.linear_model import LinearRegression\n",
        "import numpy as np\n",
        "\n",
        "# Data sederhana\n",
        "X = np.array([[1], [2], [3], [4], [5]])\n",
        "y = np.array([3, 5, 7, 9, 11])\n",
        "\n",
        "# Membuat dan melatih model\n",
        "model = LinearRegression()\n",
        "model.fit(X, y)\n",
        "\n",
        "# Melakukan prediksi\n",
        "prediksi = model.predict([[6]])\n",
        "print(prediksi)  # Output: [13.]\n",
        "\"\"\")\n",
        "\n",
        "# Menampilkan gambar dengan caption\n",
        "st.image(\"/content/drive/MyDrive/Colab Notebooks/PENGEMBANGAN MACHINE LEARNING/asset/ai.png\", caption=\"Ilustrasi Machine Learning dalam Kehidupan Nyata\") #Ganti gambarnya supaya muncul. Download gambar, upload ke drive\n",
        "\n",
        "# Menampilkan pemisah\n",
        "st.divider()\n",
        "\n",
        "# Menampilkan subheader untuk model matematis\n",
        "st.subheader(\"Rumus Regresi Linier Sederhana\")\n",
        "\n",
        "# Menampilkan rumus matematika\n",
        "st.latex(r\"\"\"\n",
        "y = mx + c\n",
        "\"\"\")\n",
        "\n",
        "st.write(\"Di mana:\")\n",
        "st.markdown(\"\"\"\n",
        "- \\( y \\) adalah nilai yang diprediksi\n",
        "- \\( m \\) adalah koefisien (kemiringan garis)\n",
        "- \\( x \\) adalah fitur input\n",
        "- \\( c \\) adalah intercept (titik potong dengan sumbu Y)\n",
        "\"\"\")\n",
        "\n",
        "# Menampilkan catatan tambahan\n",
        "st.caption(\"Versi 1.0 | Disusun untuk Tugas Pertemuan 2 | Dibuat oleh Tim Pembelajaran Machine Learning\")"
      ]
    },
    {
      "cell_type": "code",
      "execution_count": 20,
      "metadata": {
        "id": "T00HrEZSsluA"
      },
      "outputs": [],
      "source": [
        "!mkdir images"
      ]
    },
    {
      "cell_type": "code",
      "execution_count": 21,
      "metadata": {
        "id": "9tP3TwPSssp6",
        "colab": {
          "base_uri": "https://localhost:8080/"
        },
        "outputId": "1e3e1e0e-7bea-412a-e783-2e5a13fdf5f4"
      },
      "outputs": [
        {
          "output_type": "stream",
          "name": "stdout",
          "text": [
            "  % Total    % Received % Xferd  Average Speed   Time    Time     Time  Current\n",
            "                                 Dload  Upload   Total   Spent    Left  Speed\n",
            "100 11517  100 11517    0     0  21249      0 --:--:-- --:--:-- --:--:-- 21288\n"
          ]
        }
      ],
      "source": [
        "!curl https://w7.pngwing.com/pngs/144/944/png-transparent-button-blue-button-miscellaneous-blue-sphere-thumbnail.png -o images/icon.jpg"
      ]
    },
    {
      "cell_type": "markdown",
      "source": [
        "## Mengecek isi dari Home.py"
      ],
      "metadata": {
        "id": "UbKQi8cWGWKb"
      }
    },
    {
      "cell_type": "code",
      "source": [
        "!cat Home.py"
      ],
      "metadata": {
        "id": "0dzlr2bxGZQu",
        "colab": {
          "base_uri": "https://localhost:8080/"
        },
        "outputId": "46713798-1058-42c3-e08d-f54e6a35d3e8"
      },
      "execution_count": 22,
      "outputs": [
        {
          "output_type": "stream",
          "name": "stdout",
          "text": [
            "import streamlit as st\n",
            "st.title(\"Pengembangan Machine Learning\")\n",
            "\n",
            "st.header(\"Pengembangan Machine Learning\")\n",
            "st.subheader(\"Menggunakan Machine Learning\")\n",
            "st.text(\"Selamat datang di aplikasi kami!\")\n"
          ]
        }
      ]
    },
    {
      "cell_type": "markdown",
      "metadata": {
        "id": "k4pIIyd86nzn"
      },
      "source": [
        "## Deployment"
      ]
    },
    {
      "cell_type": "code",
      "source": [
        "!npm install localtunnel"
      ],
      "metadata": {
        "id": "m3_PvUwaGfTr",
        "colab": {
          "base_uri": "https://localhost:8080/"
        },
        "outputId": "3dee5cf6-6990-4c67-ad6c-04b192a86625"
      },
      "execution_count": 23,
      "outputs": [
        {
          "output_type": "stream",
          "name": "stdout",
          "text": [
            "\u001b[1G\u001b[0K⠙\u001b[1G\u001b[0K⠹\u001b[1G\u001b[0K⠸\u001b[1G\u001b[0K⠼\u001b[1G\u001b[0K⠴\u001b[1G\u001b[0K⠦\u001b[1G\u001b[0K⠧\u001b[1G\u001b[0K⠇\u001b[1G\u001b[0K⠏\u001b[1G\u001b[0K⠋\u001b[1G\u001b[0K⠙\u001b[1G\u001b[0K⠹\u001b[1G\u001b[0K⠸\u001b[1G\u001b[0K⠼\u001b[1G\u001b[0K⠴\u001b[1G\u001b[0K⠦\u001b[1G\u001b[0K⠧\u001b[1G\u001b[0K⠇\u001b[1G\u001b[0K⠏\u001b[1G\u001b[0K⠋\u001b[1G\u001b[0K⠙\u001b[1G\u001b[0K⠹\u001b[1G\u001b[0K⠸\u001b[1G\u001b[0K⠼\u001b[1G\u001b[0K⠴\u001b[1G\u001b[0K\n",
            "added 22 packages in 3s\n",
            "\u001b[1G\u001b[0K⠴\u001b[1G\u001b[0K\n",
            "\u001b[1G\u001b[0K⠴\u001b[1G\u001b[0K3 packages are looking for funding\n",
            "\u001b[1G\u001b[0K⠴\u001b[1G\u001b[0K  run `npm fund` for details\n",
            "\u001b[1G\u001b[0K⠴\u001b[1G\u001b[0K"
          ]
        }
      ]
    },
    {
      "cell_type": "code",
      "source": [
        "!pwd"
      ],
      "metadata": {
        "id": "1QkFzxI1GhDc",
        "colab": {
          "base_uri": "https://localhost:8080/"
        },
        "outputId": "c874d913-04cb-49f3-9b2c-7c8affe80ec0"
      },
      "execution_count": 24,
      "outputs": [
        {
          "output_type": "stream",
          "name": "stdout",
          "text": [
            "/content/Pengembangan_Machine_Learning\n"
          ]
        }
      ]
    },
    {
      "cell_type": "code",
      "source": [
        "#Kalo ada yg error atau modifikasi, berhentiin dulu tunnelnya. Run sel yg mau dimodifikasi. Baru run lagi dari sini sampe muncul link tunnel yg baru.\n",
        "!streamlit run /content/Pengembangan_Machine_Learning/Home.py &>/content/Pengembangan_Machine_Learning/logs.txt &"
      ],
      "metadata": {
        "id": "CvKsDBl4GkC2"
      },
      "execution_count": 25,
      "outputs": []
    },
    {
      "cell_type": "code",
      "source": [
        "!timeout 30 cat /content/Pengembangan_Machine_Learning/logs.txt"
      ],
      "metadata": {
        "id": "okbzm9pFGmF9"
      },
      "execution_count": 26,
      "outputs": []
    },
    {
      "cell_type": "code",
      "source": [
        "import requests\n",
        "requests.get('https://api.ipify.org').text"
      ],
      "metadata": {
        "id": "4e3bnAGuGol5",
        "colab": {
          "base_uri": "https://localhost:8080/",
          "height": 36
        },
        "outputId": "21eb10ad-70cb-4af3-d2b2-20df7b842bda"
      },
      "execution_count": 27,
      "outputs": [
        {
          "output_type": "execute_result",
          "data": {
            "text/plain": [
              "'34.82.196.69'"
            ],
            "application/vnd.google.colaboratory.intrinsic+json": {
              "type": "string"
            }
          },
          "metadata": {},
          "execution_count": 27
        }
      ]
    },
    {
      "cell_type": "code",
      "source": [
        "!npx localtunnel --port 8501"
      ],
      "metadata": {
        "colab": {
          "base_uri": "https://localhost:8080/"
        },
        "id": "oVV37RKqGqPg",
        "outputId": "b82dc0fd-49aa-419c-fabe-7bf65a660822"
      },
      "execution_count": 28,
      "outputs": [
        {
          "output_type": "stream",
          "name": "stdout",
          "text": [
            "\u001b[1G\u001b[0K⠙\u001b[1G\u001b[0K⠹\u001b[1G\u001b[0Kyour url is: https://puny-rooms-sniff.loca.lt\n",
            "^C\n"
          ]
        }
      ]
    }
  ],
  "metadata": {
    "colab": {
      "provenance": [],
      "collapsed_sections": [
        "bUf7uD-v6Y1f"
      ]
    },
    "kernelspec": {
      "display_name": "Python 3",
      "name": "python3"
    },
    "language_info": {
      "name": "python"
    }
  },
  "nbformat": 4,
  "nbformat_minor": 0
}
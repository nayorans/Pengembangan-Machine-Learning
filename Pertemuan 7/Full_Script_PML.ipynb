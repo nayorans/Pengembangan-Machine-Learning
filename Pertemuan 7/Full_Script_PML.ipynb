{
  "cells": [
    {
      "cell_type": "markdown",
      "metadata": {
        "id": "bUf7uD-v6Y1f"
      },
      "source": [
        "## Persiapan Streamlit"
      ]
    },
    {
      "cell_type": "code",
      "source": [
        "from google.colab import drive\n",
        "drive.mount('/content/drive')"
      ],
      "metadata": {
        "colab": {
          "base_uri": "https://localhost:8080/"
        },
        "id": "KlOIKApvuiiM",
        "outputId": "c7e30a93-fb05-4477-840b-f8a3ac733e22"
      },
      "execution_count": 1,
      "outputs": [
        {
          "output_type": "stream",
          "name": "stdout",
          "text": [
            "Mounted at /content/drive\n"
          ]
        }
      ]
    },
    {
      "cell_type": "code",
      "execution_count": 2,
      "metadata": {
        "id": "cdO7QRj7o16X"
      },
      "outputs": [],
      "source": [
        "!mkdir Pengembangan_Machine_Learning"
      ]
    },
    {
      "cell_type": "code",
      "execution_count": 3,
      "metadata": {
        "id": "WlvI0uDLo60H",
        "colab": {
          "base_uri": "https://localhost:8080/"
        },
        "outputId": "17071518-5d7d-422a-96e1-68a3a56d1294"
      },
      "outputs": [
        {
          "output_type": "stream",
          "name": "stdout",
          "text": [
            "/content/Pengembangan_Machine_Learning\n"
          ]
        }
      ],
      "source": [
        "cd Pengembangan_Machine_Learning"
      ]
    },
    {
      "cell_type": "code",
      "source": [
        "!pwd"
      ],
      "metadata": {
        "id": "JO4vXRnYFSTw",
        "colab": {
          "base_uri": "https://localhost:8080/"
        },
        "outputId": "fc2a8c66-d2f3-4815-c864-4ab5254749d1"
      },
      "execution_count": 4,
      "outputs": [
        {
          "output_type": "stream",
          "name": "stdout",
          "text": [
            "/content/Pengembangan_Machine_Learning\n"
          ]
        }
      ]
    },
    {
      "cell_type": "code",
      "source": [
        "%%writefile requirements.txt\n",
        "# Berikut adalah daftar library yang akan digunakan dalam project ini\n",
        "streamlit"
      ],
      "metadata": {
        "id": "0QI5cEX1FZPG",
        "colab": {
          "base_uri": "https://localhost:8080/"
        },
        "outputId": "945c3ad3-0ad8-421f-9e3b-59171b2abb26"
      },
      "execution_count": 5,
      "outputs": [
        {
          "output_type": "stream",
          "name": "stdout",
          "text": [
            "Writing requirements.txt\n"
          ]
        }
      ]
    },
    {
      "cell_type": "code",
      "source": [
        "!ls"
      ],
      "metadata": {
        "id": "He4D9HGhFa_y",
        "colab": {
          "base_uri": "https://localhost:8080/"
        },
        "outputId": "85c6125b-71ef-4a66-f71d-a5407d6dd5f0"
      },
      "execution_count": 6,
      "outputs": [
        {
          "output_type": "stream",
          "name": "stdout",
          "text": [
            "requirements.txt\n"
          ]
        }
      ]
    },
    {
      "cell_type": "code",
      "source": [
        "!cat requirements.txt"
      ],
      "metadata": {
        "id": "bwQqVrsaFfhd",
        "colab": {
          "base_uri": "https://localhost:8080/"
        },
        "outputId": "4b9d7a58-922b-46ef-ab3c-c901bc1aeb4e"
      },
      "execution_count": 7,
      "outputs": [
        {
          "output_type": "stream",
          "name": "stdout",
          "text": [
            "# Berikut adalah daftar library yang akan digunakan dalam project ini\n",
            "streamlit\n"
          ]
        }
      ]
    },
    {
      "cell_type": "code",
      "source": [
        "!pip install -q -r requirements.txt"
      ],
      "metadata": {
        "id": "oHS2JVqYFkbb",
        "colab": {
          "base_uri": "https://localhost:8080/"
        },
        "outputId": "1304a1ce-071f-4d13-98b2-2c7f73080358"
      },
      "execution_count": 8,
      "outputs": [
        {
          "output_type": "stream",
          "name": "stdout",
          "text": [
            "\u001b[2K     \u001b[90m━━━━━━━━━━━━━━━━━━━━━━━━━━━━━━━━━━━━━━━━\u001b[0m \u001b[32m44.3/44.3 kB\u001b[0m \u001b[31m1.6 MB/s\u001b[0m eta \u001b[36m0:00:00\u001b[0m\n",
            "\u001b[2K   \u001b[90m━━━━━━━━━━━━━━━━━━━━━━━━━━━━━━━━━━━━━━━━\u001b[0m \u001b[32m9.9/9.9 MB\u001b[0m \u001b[31m49.5 MB/s\u001b[0m eta \u001b[36m0:00:00\u001b[0m\n",
            "\u001b[2K   \u001b[90m━━━━━━━━━━━━━━━━━━━━━━━━━━━━━━━━━━━━━━━━\u001b[0m \u001b[32m6.9/6.9 MB\u001b[0m \u001b[31m60.6 MB/s\u001b[0m eta \u001b[36m0:00:00\u001b[0m\n",
            "\u001b[2K   \u001b[90m━━━━━━━━━━━━━━━━━━━━━━━━━━━━━━━━━━━━━━━━\u001b[0m \u001b[32m79.1/79.1 kB\u001b[0m \u001b[31m5.7 MB/s\u001b[0m eta \u001b[36m0:00:00\u001b[0m\n",
            "\u001b[?25h"
          ]
        }
      ]
    },
    {
      "cell_type": "code",
      "execution_count": 9,
      "metadata": {
        "id": "1zyxZfx0o-Bp",
        "colab": {
          "base_uri": "https://localhost:8080/"
        },
        "outputId": "0e59e432-02d9-4659-833e-9a75195bad50"
      },
      "outputs": [
        {
          "output_type": "stream",
          "name": "stdout",
          "text": [
            "streamlit                          1.45.0\n"
          ]
        }
      ],
      "source": [
        "!pip list | grep streamlit"
      ]
    },
    {
      "cell_type": "code",
      "execution_count": 10,
      "metadata": {
        "id": "VdSqmROmo-_Y"
      },
      "outputs": [],
      "source": [
        "!pip install streamlit -q"
      ]
    },
    {
      "cell_type": "markdown",
      "source": [
        "### Buat File Home.py"
      ],
      "metadata": {
        "id": "sFw9yT5OFsQ-"
      }
    },
    {
      "cell_type": "code",
      "execution_count": 11,
      "metadata": {
        "id": "q2GcvoeHpB_o",
        "colab": {
          "base_uri": "https://localhost:8080/"
        },
        "outputId": "9afe0552-ae52-4822-9d53-48e0babd3caf"
      },
      "outputs": [
        {
          "output_type": "stream",
          "name": "stdout",
          "text": [
            "Writing Home.py\n"
          ]
        }
      ],
      "source": [
        "%%writefile Home.py\n",
        "import streamlit as st\n",
        "st.title(\"Pengembangan Machine Learning\")\n",
        "\n",
        "st.header(\"Pengembangan Machine Learning\")\n",
        "st.subheader(\"Menggunakan Machine Learning\")\n",
        "st.text(\"Selamat datang di aplikasi kami!\")"
      ]
    },
    {
      "cell_type": "code",
      "source": [
        "pwd"
      ],
      "metadata": {
        "id": "Y1xnhI7oFwUi",
        "colab": {
          "base_uri": "https://localhost:8080/",
          "height": 36
        },
        "outputId": "cad458e4-7277-4631-cc0a-12f5d641f19f"
      },
      "execution_count": 12,
      "outputs": [
        {
          "output_type": "execute_result",
          "data": {
            "text/plain": [
              "'/content/Pengembangan_Machine_Learning'"
            ],
            "application/vnd.google.colaboratory.intrinsic+json": {
              "type": "string"
            }
          },
          "metadata": {},
          "execution_count": 12
        }
      ]
    },
    {
      "cell_type": "code",
      "execution_count": 13,
      "metadata": {
        "id": "ehortH0hpMiz",
        "colab": {
          "base_uri": "https://localhost:8080/"
        },
        "outputId": "15b5c044-272f-4106-b348-799cfa0e19ce"
      },
      "outputs": [
        {
          "output_type": "stream",
          "name": "stdout",
          "text": [
            "Home.py  requirements.txt\n"
          ]
        }
      ],
      "source": [
        "!ls"
      ]
    },
    {
      "cell_type": "markdown",
      "source": [
        "### Buat Direktori Pages"
      ],
      "metadata": {
        "id": "RjG4ibb9F0p6"
      }
    },
    {
      "cell_type": "code",
      "execution_count": 14,
      "metadata": {
        "id": "EtthnVTEpJ7t"
      },
      "outputs": [],
      "source": [
        "!mkdir pages"
      ]
    },
    {
      "cell_type": "code",
      "source": [
        "!ls"
      ],
      "metadata": {
        "id": "orQZ8r3EF843",
        "colab": {
          "base_uri": "https://localhost:8080/"
        },
        "outputId": "0edbbe75-10e5-4bb9-e7eb-7fc89ec2e47f"
      },
      "execution_count": null,
      "outputs": [
        {
          "output_type": "stream",
          "name": "stdout",
          "text": [
            "Home.py  pages\trequirements.txt\n"
          ]
        }
      ]
    },
    {
      "cell_type": "code",
      "execution_count": 15,
      "metadata": {
        "id": "1EnvvMCRpSnf"
      },
      "outputs": [],
      "source": [
        "!ls pages"
      ]
    },
    {
      "cell_type": "markdown",
      "metadata": {
        "id": "VtB2dJ2v6XI6"
      },
      "source": [
        "## Pertemuan 2"
      ]
    },
    {
      "cell_type": "code",
      "execution_count": 16,
      "metadata": {
        "id": "JcSBak3Yknrt",
        "colab": {
          "base_uri": "https://localhost:8080/"
        },
        "outputId": "e4871eca-dcc9-4168-aeae-77afb802969f"
      },
      "outputs": [
        {
          "output_type": "stream",
          "name": "stdout",
          "text": [
            "Writing pages/Contoh_Pertemuan_2.py\n"
          ]
        }
      ],
      "source": [
        "%%writefile pages/Contoh_Pertemuan_2.py\n",
        "# 1. Menampilkan teks biasa\n",
        "import streamlit as st\n",
        "st.text(\"Selamat datang di aplikasi kami!\")\n",
        "\n",
        "# 2. Heading dan subheading\n",
        "st.title(\"Aplikasi Prediksi Kesegaran Ikan\")\n",
        "st.header(\"Fitur Utama\")\n",
        "st.subheader(\"Menggunakan Machine Learning\")\n",
        "\n",
        "# 3. Menggunakan markdown untuk format teks\n",
        "st.markdown(\"**Teks Tebal** dan *Teks Miring*\")\n",
        "st.markdown(\"> Ini adalah kutipan.\")\n",
        "st.markdown(\"- Item pertama\\n- Item kedua\\n- Item ketiga\")\n",
        "\n",
        "# 4. Menampilkan caption\n",
        "st.caption(\"Dikembangkan oleh Tim Data Science\")\n",
        "\n",
        "# 5. Menampilkan kode program\n",
        "st.code(\"\"\"\n",
        "def hello():\n",
        "    print(\"Hello, Streamlit!\")\n",
        "\"\"\", language=\"python\")\n",
        "\n",
        "# 6. Menampilkan rumus matematika dengan Latex\n",
        "st.latex(r\"\\int_a^b f(x)dx = F(b) - F(a)\")\n",
        "\n",
        "# 7. Menampilkan garis pemisah\n",
        "st.divider()\n",
        "\n",
        "# 8. Menampilkan kode Python beserta outputnya\n",
        "st.title(\"Demonstrasi st.echo()\")\n",
        "\n",
        "with st.echo():\n",
        "    st.write(\"Halo, ini teks yang ditampilkan di Streamlit!\")\n",
        "    angka = 10 + 5\n",
        "    st.write(f\"Hasil perhitungan: {angka}\")"
      ]
    },
    {
      "cell_type": "code",
      "execution_count": 17,
      "metadata": {
        "id": "I2Nk1s8tp5jb",
        "colab": {
          "base_uri": "https://localhost:8080/"
        },
        "outputId": "2eb17ee0-47cb-407c-a07d-0b47e2e4bac8"
      },
      "outputs": [
        {
          "output_type": "stream",
          "name": "stdout",
          "text": [
            "Writing pages/Latihan_Pertemuan_2.py\n"
          ]
        }
      ],
      "source": [
        "%%writefile pages/Latihan_Pertemuan_2.py\n",
        "import streamlit as st\n",
        "\n",
        "# Menampilkan judul utama aplikasi\n",
        "st.title(\"Aplikasi Prediksi Kualitas Kesegaran Ikan\")\n",
        "\n",
        "# Menampilkan header utama\n",
        "st.header(\"Tentang Aplikasi\")\n",
        "\n",
        "# Menampilkan deskripsi aplikasi\n",
        "st.write(\"Aplikasi ini dirancang untuk membantu pengguna dalam memprediksi kualitas kesegaran ikan berdasarkan berbagai parameter seperti warna insang, tekstur daging, dan bau ikan.\")\n",
        "\n",
        "# Menampilkan subheader\n",
        "st.subheader(\"Fitur Utama\")\n",
        "\n",
        "# Menampilkan daftar fitur dalam format unordered list (ul)\n",
        "st.markdown(\"\"\"\n",
        "- **Analisis Kualitas** berdasarkan data visual dan sensorik\n",
        "- **Model Prediksi** berbasis Machine Learning\n",
        "- **Antarmuka Interaktif** yang mudah digunakan\n",
        "- **Hasil Akurat** dengan tingkat kepercayaan tinggi\n",
        "\"\"\")\n",
        "\n",
        "# Menampilkan daftar langkah kerja aplikasi dalam format ordered list (ol)\n",
        "st.markdown(\"\"\"\n",
        "1. Input data karakteristik ikan\n",
        "2. Pemrosesan dan analisis data\n",
        "3. Prediksi kesegaran ikan\n",
        "4. Menampilkan hasil prediksi\n",
        "\"\"\")\n",
        "\n",
        "# Menampilkan contoh kode penggunaan model prediksi\n",
        "st.subheader(\"Contoh Penggunaan Model Prediksi\")\n",
        "st.code(\"\"\"import joblib\"\"\")\n",
        "\n",
        "# Menampilkan caption pada gambar ilustrasi aplikasi\n",
        "st.image(\"/content/drive/MyDrive/Colab Notebooks/PENGEMBANGAN MACHINE LEARNING/asset/ikan.jfif\", caption=\"Gambar Ilustrasi Kesegaran Ikan\")\n",
        "\n",
        "# Menampilkan pemisah\n",
        "st.divider()\n",
        "\n",
        "# Menampilkan persamaan matematika terkait analisis kesegaran ikan menggunakan LaTeX\n",
        "st.subheader(\"Model Prediksi\")\n",
        "st.latex(r\"\"\"S = \\frac{1}{1+e^{-z}}\"\"\")\n",
        "st.write(\"Di mana \\( S \\) adalah skor kesegaran ikan berdasarkan parameter yang dianalisis.\")\n",
        "\n",
        "# Menampilkan catatan tambahan\n",
        "st.caption(\"Versi 1.0 | Dikembangkan oleh Tim AI Perikanan\")"
      ]
    },
    {
      "cell_type": "code",
      "execution_count": 18,
      "metadata": {
        "id": "902vvdc0sJq1",
        "colab": {
          "base_uri": "https://localhost:8080/"
        },
        "outputId": "99bf2573-2251-4456-abd2-109d0740d970"
      },
      "outputs": [
        {
          "output_type": "stream",
          "name": "stdout",
          "text": [
            "Writing pages/Tugas_Pertemuan_2.py\n"
          ]
        }
      ],
      "source": [
        "%%writefile pages/Tugas_Pertemuan_2.py\n",
        "import streamlit as st\n",
        "\n",
        "# Menampilkan judul utama aplikasi\n",
        "st.title(\"Pengenalan Machine Learning\")\n",
        "\n",
        "# Menampilkan deskripsi umum tentang topik\n",
        "st.text(\"Machine Learning adalah cabang dari kecerdasan buatan (AI) yang memungkinkan sistem belajar dari data tanpa harus diprogram secara eksplisit.\")\n",
        "\n",
        "# Menampilkan header untuk fitur utama\n",
        "st.subheader(\"Fitur Utama Machine Learning\")\n",
        "\n",
        "# Menampilkan daftar fitur dalam format unordered list\n",
        "st.markdown(\"\"\"\n",
        "- **Belajar dari Data**: Sistem dapat belajar dan meningkat dari pengalaman.\n",
        "- **Prediksi dan Klasifikasi**: Menghasilkan output berdasarkan input baru.\n",
        "- **Deteksi Pola**: Menemukan pola tersembunyi di dalam data besar.\n",
        "- **Pengambilan Keputusan Otomatis**: Membantu otomatisasi dalam berbagai industri.\n",
        "- **Adaptasi Dinamis**: Sistem dapat beradaptasi dengan perubahan data secara real-time.\n",
        "\"\"\")\n",
        "\n",
        "# Menampilkan daftar langkah kerja dalam format ordered list\n",
        "st.markdown(\"\"\"\n",
        "1. Kumpulkan dan siapkan data.\n",
        "2. Pilih model machine learning yang sesuai.\n",
        "3. Latih model menggunakan data pelatihan.\n",
        "4. Evaluasi model dengan data pengujian.\n",
        "5. Gunakan model untuk membuat prediksi pada data baru.\n",
        "\"\"\")\n",
        "\n",
        "# Menampilkan subheader contoh penggunaan kode\n",
        "st.subheader(\"Contoh Kode Machine Learning Sederhana\")\n",
        "\n",
        "# Menampilkan contoh kode\n",
        "st.code(\"\"\"\n",
        "from sklearn.linear_model import LinearRegression\n",
        "import numpy as np\n",
        "\n",
        "# Data sederhana\n",
        "X = np.array([[1], [2], [3], [4], [5]])\n",
        "y = np.array([3, 5, 7, 9, 11])\n",
        "\n",
        "# Membuat dan melatih model\n",
        "model = LinearRegression()\n",
        "model.fit(X, y)\n",
        "\n",
        "# Melakukan prediksi\n",
        "prediksi = model.predict([[6]])\n",
        "print(prediksi)  # Output: [13.]\n",
        "\"\"\")\n",
        "\n",
        "# Menampilkan gambar dengan caption\n",
        "st.image(\"/content/drive/MyDrive/Colab Notebooks/PENGEMBANGAN MACHINE LEARNING/asset/ai.png\", caption=\"Ilustrasi Machine Learning dalam Kehidupan Nyata\") #Ganti gambarnya supaya muncul. Download gambar, upload ke drive\n",
        "\n",
        "# Menampilkan pemisah\n",
        "st.divider()\n",
        "\n",
        "# Menampilkan subheader untuk model matematis\n",
        "st.subheader(\"Rumus Regresi Linier Sederhana\")\n",
        "\n",
        "# Menampilkan rumus matematika\n",
        "st.latex(r\"\"\"\n",
        "y = mx + c\n",
        "\"\"\")\n",
        "\n",
        "st.write(\"Di mana:\")\n",
        "st.markdown(\"\"\"\n",
        "- \\( y \\) adalah nilai yang diprediksi\n",
        "- \\( m \\) adalah koefisien (kemiringan garis)\n",
        "- \\( x \\) adalah fitur input\n",
        "- \\( c \\) adalah intercept (titik potong dengan sumbu Y)\n",
        "\"\"\")\n",
        "\n",
        "# Menampilkan catatan tambahan\n",
        "st.caption(\"Versi 1.0 | Disusun untuk Tugas Pertemuan 2 | Dibuat oleh Tim Pembelajaran Machine Learning\")"
      ]
    },
    {
      "cell_type": "code",
      "execution_count": 19,
      "metadata": {
        "id": "T00HrEZSsluA"
      },
      "outputs": [],
      "source": [
        "!mkdir images"
      ]
    },
    {
      "cell_type": "code",
      "execution_count": 20,
      "metadata": {
        "id": "9tP3TwPSssp6",
        "colab": {
          "base_uri": "https://localhost:8080/"
        },
        "outputId": "ef98a34f-f9e6-4f05-a1d6-4638c12cd9c5"
      },
      "outputs": [
        {
          "output_type": "stream",
          "name": "stdout",
          "text": [
            "  % Total    % Received % Xferd  Average Speed   Time    Time     Time  Current\n",
            "                                 Dload  Upload   Total   Spent    Left  Speed\n",
            "100 11517  100 11517    0     0  24809      0 --:--:-- --:--:-- --:--:-- 24821\n"
          ]
        }
      ],
      "source": [
        "!curl https://w7.pngwing.com/pngs/144/944/png-transparent-button-blue-button-miscellaneous-blue-sphere-thumbnail.png -o images/icon.jpg"
      ]
    },
    {
      "cell_type": "markdown",
      "metadata": {
        "id": "RfaIItUItPyn"
      },
      "source": [
        "## Pertemuan 3"
      ]
    },
    {
      "cell_type": "code",
      "execution_count": 21,
      "metadata": {
        "id": "npyRzkIsstqE",
        "colab": {
          "base_uri": "https://localhost:8080/"
        },
        "outputId": "c31fdf1f-7072-4afd-dfe1-f39cf4536cbb"
      },
      "outputs": [
        {
          "output_type": "stream",
          "name": "stdout",
          "text": [
            "Writing pages/Contoh_Pertemuan_3.py\n"
          ]
        }
      ],
      "source": [
        "%%writefile pages/Contoh_Pertemuan_3.py\n",
        "import streamlit as st\n",
        "import datetime\n",
        "\n",
        "# INPUT WIDGET\n",
        "\n",
        "# 1. TEXT INPUT\n",
        "# a. TEXT INPUT\n",
        "username = st.text_input('Masukkan nama Anda:', 'John Doe')\n",
        "password = st.text_input('Masukkan kata sandi Anda:', type='password', max_chars=12)\n",
        "st.write(f'Selamat Datang {username}')\n",
        "if password:\n",
        "    st.write('Kata sandi dimasukkan.')\n",
        "\n",
        "# b. TEXT AREA\n",
        "description = st.text_area('Masukkan deskripsi Anda:', 'Tulis deskripsi Anda di sini...', height=150)\n",
        "st.write(f'Deskripsi yang dimasukkan: {description}')\n",
        "\n",
        "# c. CHAT INPUT\n",
        "message = st.chat_input('Tulis pesan Anda:')\n",
        "if message:\n",
        "    st.write(f'Pesan yang Anda masukkan: {message}')\n",
        "\n",
        "# 2. NUMERIC INPUT\n",
        "age = st.number_input('Masukkan umur Anda:', min_value=0, max_value=100, value=18, step=1)\n",
        "st.write(f'Umur Anda adalah: {age}')\n",
        "\n",
        "# 3. SLIDER\n",
        "umur = st.slider('Pilih umur Anda:', min_value=0, max_value=100, value=25, step=1)\n",
        "st.write(f\"Umur Anda adalah: {umur}\")\n",
        "\n",
        "# 4. SELECT BOX\n",
        "color = st.selectbox('Pilih warna favorit Anda:', ['Merah', 'Biru', 'Hijau', 'Kuning'])\n",
        "st.write(f'Warna favorit Anda adalah: {color}')\n",
        "\n",
        "# 5. MULTI SELECT\n",
        "hobbies = st.multiselect('Pilih hobi favorit Anda:', ['Membaca', 'Olahraga', 'Menonton Film', 'Musik'])\n",
        "st.write(f'Hobi favorit Anda adalah: {\", \".join(hobbies)}')\n",
        "\n",
        "# 6. CHECK BOX\n",
        "agree = st.checkbox('Setuju dengan syarat dan ketentuan')\n",
        "if agree:\n",
        "    st.write('Terima kasih, Anda setuju dengan syarat dan ketentuan.')\n",
        "else:\n",
        "    st.write('Silakan centang untuk menyetujui syarat dan ketentuan.')\n",
        "\n",
        "# 7. RADIO BUTTON\n",
        "gender = st.radio('Pilih jenis kelamin:', ['Laki-laki', 'Perempuan'])\n",
        "st.write(f'Jenis kelamin yang Anda pilih adalah: {gender}')\n",
        "\n",
        "# 8. SELECT SLIDER\n",
        "difficulty = st.select_slider('Pilih tingkat kesulitan:', options=['Mudah', 'Sedang', 'Sulit'])\n",
        "st.write(f'Tingkat kesulitan yang Anda pilih adalah: {difficulty}')\n",
        "\n",
        "# 9. BUTTON\n",
        "angka_1 = st.number_input(\"Masukkan angka pertama:\", value=0)\n",
        "angka_2 = st.number_input(\"Masukkan angka kedua:\", value=0)\n",
        "def hitung_penjumlahan(a, b):\n",
        "    return a + b\n",
        "if st.button(\"Hitung Penjumlahan\"):\n",
        "    hasil = hitung_penjumlahan(angka_1, angka_2)\n",
        "    st.write(f\"Hasil penjumlahan: {hasil}\")\n",
        "\n",
        "# 10. DOWNLOAD BUTTON\n",
        "data = 'Ini adalah contoh teks untuk diunduh.'\n",
        "st.download_button('Unduh Teks', data, file_name='contoh.txt', mime='text/plain')\n",
        "\n",
        "# 11. LINK BUTTON\n",
        "st.link_button('Kunjungi Streamlit', url='https://streamlit.io')\n",
        "\n",
        "# 12. PAGE LINK\n",
        "# Menggunakan emoji sebagai ikon untuk st.page_link\n",
        "st.page_link('https://www.streamlit.io',\n",
        "             label='Kunjungi Streamlit',\n",
        "             icon='🔗')  # Menggunakan emoji link sebagai ikon\n",
        "\n",
        "# 13. FORM SUBMIT BUTTON\n",
        "with st.form(key='my_form'):\n",
        "    name = st.text_input('Nama Anda')\n",
        "    age_form = st.number_input('Usia Anda', min_value=0)\n",
        "    submit_button = st.form_submit_button(label='Kirim')\n",
        "    if submit_button:\n",
        "        st.write(f'Nama: {name}')\n",
        "        st.write(f'Usia: {age_form}')\n",
        "\n",
        "# 14. DATE & TIME INPUT\n",
        "date = st.date_input('Pilih Tanggal', value=datetime.date.today())\n",
        "st.write('Tanggal yang dipilih:', date)\n",
        "time = st.time_input('Pilih Waktu', value=datetime.time(14, 30))\n",
        "st.write('Waktu yang dipilih:', time)"
      ]
    },
    {
      "cell_type": "code",
      "execution_count": 22,
      "metadata": {
        "id": "eNRJTJFzu89o",
        "colab": {
          "base_uri": "https://localhost:8080/"
        },
        "outputId": "201e533c-eaa6-440e-9809-f3d3951d6c9f"
      },
      "outputs": [
        {
          "output_type": "stream",
          "name": "stdout",
          "text": [
            "Writing pages/Latihan_Pertemuan_3.py\n"
          ]
        }
      ],
      "source": [
        "%%writefile pages/Latihan_Pertemuan_3.py\n",
        "import streamlit as st\n",
        "\n",
        "# Fungsi untuk konversi ke rupiah\n",
        "def convert_to_rupiah(amount, rate):\n",
        "    return amount * rate\n",
        "\n",
        "# Nilai tukar fiktif (misalnya)\n",
        "exchange_rates = {\n",
        "    'USD': 15500,\n",
        "    'EUR': 17000,\n",
        "    'JPY': 110\n",
        "}\n",
        "\n",
        "st.title(\"Konversi Mata Uang ke Rupiah\")\n",
        "\n",
        "# Input form untuk memasukkan jumlah uang\n",
        "with st.form(key='currency_conversion_form'):\n",
        "    # Pilihan mata uang\n",
        "    currency = st.selectbox('Pilih mata uang:', ['USD', 'EUR', 'JPY'])\n",
        "\n",
        "    # Input jumlah uang yang akan dikonversi\n",
        "    amount = st.number_input(f'Masukkan jumlah {currency}:', min_value=0.01, format=\"%.2f\")\n",
        "\n",
        "    # Tombol submit\n",
        "    submit_button = st.form_submit_button('Hitung')\n",
        "\n",
        "# Proses konversi jika tombol submit ditekan\n",
        "if submit_button:\n",
        "    if amount > 0:\n",
        "        # Ambil nilai tukar yang sesuai dengan mata uang yang dipilih\n",
        "        rate = exchange_rates[currency]\n",
        "\n",
        "        # Hitung konversi\n",
        "        rupiah_amount = convert_to_rupiah(amount, rate)\n",
        "\n",
        "        # Tampilkan hasil konversi\n",
        "        st.success(f'{amount} {currency} setara dengan IDR {rupiah_amount:,.2f}')\n",
        "    else:\n",
        "        st.error('Jumlah yang dimasukkan harus lebih dari 0.')"
      ]
    },
    {
      "cell_type": "code",
      "execution_count": 23,
      "metadata": {
        "id": "XYmzIwumvb0S",
        "colab": {
          "base_uri": "https://localhost:8080/"
        },
        "outputId": "5779d8c7-c3c7-49dd-eb23-5dfb074e099b"
      },
      "outputs": [
        {
          "output_type": "stream",
          "name": "stdout",
          "text": [
            "Writing pages/Tugas_Pertemuan_3.py\n"
          ]
        }
      ],
      "source": [
        "%%writefile pages/Tugas_Pertemuan_3.py\n",
        "import streamlit as st\n",
        "from datetime import datetime\n",
        "\n",
        "# Menampilkan judul halaman\n",
        "st.title(\"Formulir Pendaftaran Workshop\")\n",
        "\n",
        "# Membuat form input\n",
        "with st.form(key='registration_form'):\n",
        "    # Text input: Nama lengkap\n",
        "    name = st.text_input('Nama Lengkap')\n",
        "\n",
        "    # Numeric input: Usia\n",
        "    age = st.number_input('Usia', min_value=10, max_value=100, step=1)\n",
        "\n",
        "    # Date input: Tanggal Lahir\n",
        "    birth_date = st.date_input('Tanggal Lahir', value=datetime(2000, 1, 1))\n",
        "\n",
        "    # Time input: Jam kedatangan\n",
        "    arrival_time = st.time_input('Perkiraan Jam Kedatangan', value=datetime.now().time())\n",
        "\n",
        "    # Selection: Pilihan jenis workshop\n",
        "    workshop_topic = st.selectbox('Pilih Workshop yang Diikuti',\n",
        "                                  ['Machine Learning', 'Data Visualization', 'Web Development', 'Digital Marketing'])\n",
        "\n",
        "    # Tombol submit\n",
        "    submit_button = st.form_submit_button('Simpan')\n",
        "\n",
        "# Proses saat tombol submit ditekan\n",
        "if submit_button:\n",
        "    # Menampilkan data yang sudah diisi\n",
        "    st.success('Data Berhasil Disimpan!')\n",
        "    st.write('**Data Pendaftaran:**')\n",
        "    st.write(f'- Nama: {name}')\n",
        "    st.write(f'- Usia: {age} tahun')\n",
        "    st.write(f'- Tanggal Lahir: {birth_date.strftime(\"%d-%m-%Y\")}')\n",
        "    st.write(f'- Perkiraan Jam Kedatangan: {arrival_time.strftime(\"%H:%M\")}')\n",
        "    st.write(f'- Workshop Dipilih: {workshop_topic}')"
      ]
    },
    {
      "cell_type": "markdown",
      "metadata": {
        "id": "w0N5ykmGw87F"
      },
      "source": [
        "## Pertemuan 4"
      ]
    },
    {
      "cell_type": "code",
      "execution_count": 24,
      "metadata": {
        "id": "5jIDmQ7HwZ33",
        "colab": {
          "base_uri": "https://localhost:8080/"
        },
        "outputId": "56129d25-5af9-4d3c-b9f3-43d818caf673"
      },
      "outputs": [
        {
          "output_type": "stream",
          "name": "stdout",
          "text": [
            "Writing pages/Contoh_Pertemuan_4.py\n"
          ]
        }
      ],
      "source": [
        "%%writefile pages/Contoh_Pertemuan_4.py\n",
        "# Menggunakan notasi objek\n",
        "import streamlit as st\n",
        "import pandas as pd\n",
        "import numpy as np\n",
        "import time\n",
        "\n",
        "# Sidebar\n",
        "pilih = st.sidebar.selectbox(\n",
        "    \"Pilihlah algoritma yang ingin digunakan\",\n",
        "    (\"SVM\", \"KKN\", \"K-Means\")\n",
        ")\n",
        "\n",
        "# Menggunakan notasi \"with\"\n",
        "with st.sidebar:\n",
        "    pilih_radio = st.radio(\n",
        "        \"Pilihlah type data\",\n",
        "        (\"Numerik\", \"Kategorik\")\n",
        "    )\n",
        "\n",
        "# Kolom untuk chart dan table\n",
        "col1, col2 = st.columns(2)\n",
        "with col1:\n",
        "    chart_data = pd.DataFrame(\n",
        "        np.random.randn(5, 3),\n",
        "        columns=['Kolom1', 'Kolom2', 'Kolom3']\n",
        "    )\n",
        "    st.table(chart_data)\n",
        "with col2:\n",
        "    chart_data = pd.DataFrame(\n",
        "        np.random.randn(5, 3),\n",
        "        columns=['Kolom1', 'Kolom2', 'Kolom3']\n",
        "    )\n",
        "    st.line_chart(chart_data)\n",
        "\n",
        "# Cara pertama menggunakan with (Container)\n",
        "with st.container():\n",
        "    st.write(\"Ini di dalam container\")\n",
        "st.write(\"Ini di luar container\")\n",
        "\n",
        "# Cara kedua menggunakan objek\n",
        "klik = st.container()\n",
        "klik.write(\"Ini adalah contoh container\")\n",
        "klik.bar_chart({\"data\": [1, 5, 2, 6, 2, 1]})\n",
        "\n",
        "# Cara pertama menggunakan with (Expander)\n",
        "with st.expander(\"Klik untuk melihat expander\"):\n",
        "    st.write('Ini adalah contoh expander')\n",
        "    st.bar_chart({\"data\": [1, 5, 2, 6, 2, 1]})\n",
        "\n",
        "# Cara kedua menggunakan objek\n",
        "klik = st.expander(\"Klik untuk melihat expander\")\n",
        "klik.write('Ini adalah contoh expander')\n",
        "klik.bar_chart({\"data\": [1, 5, 2, 6, 2, 1]})\n",
        "\n",
        "# Penggunaan Tab\n",
        "tab1, tab2 = st.tabs([\"📉Chart\", \"📑Data\"])\n",
        "data = np.random.randn(10, 1)\n",
        "tab1.subheader(\"Contoh tab dengan grafik\")\n",
        "tab1.line_chart(data)\n",
        "tab2.subheader(\"Contoh tab dengan data\")\n",
        "tab2.write(data)\n",
        "\n",
        "# Cara pertama menggunakan with (Empty)\n",
        "with st.empty():\n",
        "    for seconds in range(10):\n",
        "        st.write(f\"⌛ {seconds} detik akan selesai\")\n",
        "        time.sleep(1)\n",
        "        st.write(\"✔️ 10 detik sudah selesai\")\n",
        "\n",
        "# Cara kedua menggunakan objek\n",
        "klik = st.empty()\n",
        "for seconds in range(10):\n",
        "    klik.write(f\"⌛ {seconds} detik kedua akan selesai\")\n",
        "    time.sleep(1)\n",
        "klik.write(\"✔️ 10 detik sudah selesai\")\n",
        "\n",
        "# Membuat form dengan key tertentu\n",
        "with st.form(key='my_form'):\n",
        "    # Menambahkan input widget di dalam form\n",
        "    name = st.text_input('Enter your name:')\n",
        "    age = st.number_input('Enter your age:', min_value=1, max_value=100)\n",
        "    # Tombol submit\n",
        "    submit_button = st.form_submit_button('Submit')\n",
        "\n",
        "    # Menampilkan data jika tombol submit diklik\n",
        "    if submit_button:\n",
        "        st.write(f'Name: {name}')\n",
        "        st.write(f'Age: {age}')\n",
        "\n",
        "# Modal Dialog\n",
        "# Fungsi untuk menampilkan dialog\n",
        "if st.button(\"Tampilkan Dialog\"):\n",
        "    with st.dialog(title=\"Perhatian\"):\n",
        "        st.write(\"Ini adalah contoh penggunaan modal dialog di Streamlit.\")\n",
        "        if st.button(\"Tutup\"):\n",
        "            st.write(\"Dialog ditutup.\")"
      ]
    },
    {
      "cell_type": "code",
      "execution_count": 25,
      "metadata": {
        "id": "7UFXVriX1wy1",
        "colab": {
          "base_uri": "https://localhost:8080/"
        },
        "outputId": "99be16db-8937-428e-ef28-6b6b07e4ef62"
      },
      "outputs": [
        {
          "output_type": "stream",
          "name": "stdout",
          "text": [
            "Writing pages/Latihan_Pertemuan_4.py\n"
          ]
        }
      ],
      "source": [
        "%%writefile pages/Latihan_Pertemuan_4.py\n",
        "import streamlit as st\n",
        "\n",
        "# Sidebar untuk navigasi\n",
        "st.sidebar.title(\"Registrasi E-Commerce\")\n",
        "st.sidebar.write(\"Isi data diri untuk mendaftar.\")\n",
        "username = st.sidebar.text_input(\"Username\")\n",
        "email = st.sidebar.text_input(\"Email\")\n",
        "\n",
        "# Container untuk informasi tambahan\n",
        "with st.container():\n",
        "    st.header(\"Informasi Pribadi\")\n",
        "    st.text_input(\"Nama Lengkap\")\n",
        "    st.text_input(\"Alamat\")\n",
        "\n",
        "# Expander untuk pertanyaan tambahan\n",
        "with st.expander(\"Punya pertanyaan?\"):\n",
        "    st.write(\"Tanyakan pada kami melalui form di bawah ini.\")\n",
        "\n",
        "# Pilihan jenis akun\n",
        "tabs = st.selectbox(\"Pilih jenis akun:\", [\"Pelanggan\", \"Penjual\"])\n",
        "\n",
        "# Form untuk pengisian data\n",
        "with st.form(key='registration_form'):\n",
        "    phone = st.text_input(\"Nomor Telepon\")\n",
        "    password = st.text_input(\"Password\", type=\"password\")\n",
        "    submit_button = st.form_submit_button(\"Daftar\")\n",
        "\n",
        "if submit_button:\n",
        "    st.success(f\"Selamat datang {username}!\")\n",
        "    st.write(\"Akun Anda telah berhasil dibuat.\")\n",
        "\n",
        "# Info tambahan sebagai pengganti modal dialog\n",
        "if st.button(\"Info Registrasi\"):\n",
        "    st.info(\"Pastikan data yang dimasukkan sudah benar sebelum mengirimkan formulir.\")"
      ]
    },
    {
      "cell_type": "code",
      "execution_count": 26,
      "metadata": {
        "id": "5H76djGb2NNs",
        "colab": {
          "base_uri": "https://localhost:8080/"
        },
        "outputId": "ec5a25ed-53df-4227-8783-4d946fc55371"
      },
      "outputs": [
        {
          "output_type": "stream",
          "name": "stdout",
          "text": [
            "Writing pages/Tugas_Pertemuan_4.py\n"
          ]
        }
      ],
      "source": [
        "%%writefile pages/Tugas_Pertemuan_4.py\n",
        "import streamlit as st\n",
        "\n",
        "# Sidebar untuk navigasi\n",
        "st.sidebar.title(\"Navigasi BEM Kampus\")\n",
        "st.sidebar.write(\"Silakan pilih halaman yang ingin diakses.\")\n",
        "page = st.sidebar.selectbox(\"Menu\", [\"Beranda\", \"Tentang Kami\", \"Pendaftaran Anggota\", \"Kontak\"])\n",
        "\n",
        "# Container utama\n",
        "with st.container():\n",
        "    if page == \"Beranda\":\n",
        "        st.title(\"Selamat Datang di Website Resmi BEM Kampus\")\n",
        "        st.text(\"Badan Eksekutif Mahasiswa (BEM) adalah organisasi mahasiswa yang berperan aktif dalam kegiatan kampus.\")\n",
        "        st.image(\"/content/drive/MyDrive/Colab Notebooks/PENGEMBANGAN MACHINE LEARNING/asset/bem.jpg\", caption=\"Kegiatan Mahasiswa BEM Kampus\") #Ganti link gambarnya. Download dulu, trus upload ke drive\n",
        "\n",
        "    elif page == \"Tentang Kami\":\n",
        "        st.header(\"Tentang BEM Kampus\")\n",
        "        st.text(\"\"\"BEM Kampus merupakan wadah untuk mengembangkan potensi, kreativitas, dan kepemimpinan mahasiswa melalui berbagai program kerja dan kegiatan kampus.\"\"\")\n",
        "\n",
        "    elif page == \"Pendaftaran Anggota\":\n",
        "        st.header(\"Formulir Pendaftaran Anggota BEM\")\n",
        "        nama = st.text_input(\"Nama Lengkap\")\n",
        "        nim = st.text_input(\"NIM\")\n",
        "        prodi = st.text_input(\"Program Studi\")\n",
        "        motivasi = st.text_area(\"Motivasi Bergabung\")\n",
        "        if st.button(\"Kirim\"):\n",
        "            st.success(f\"Terima kasih, {nama}! Data Anda telah kami terima.\")\n",
        "\n",
        "    elif page == \"Kontak\":\n",
        "        st.header(\"Hubungi Kami\")\n",
        "        st.text(\"Email: bemuniversitasnusamandiri@gmail.com\")\n",
        "        st.text(\"Instagram: @bemu_nusamandiri\")\n",
        "        st.text(\"Telepon: +62 812-3456-7890\")"
      ]
    },
    {
      "cell_type": "markdown",
      "metadata": {
        "id": "Tsrn4o2n2wDZ"
      },
      "source": [
        "## Pertemuan 5"
      ]
    },
    {
      "cell_type": "code",
      "execution_count": 27,
      "metadata": {
        "id": "ndX7JoiA2pVY",
        "colab": {
          "base_uri": "https://localhost:8080/"
        },
        "outputId": "e3c379cc-03fb-466e-945f-7194a2c3839c"
      },
      "outputs": [
        {
          "output_type": "stream",
          "name": "stdout",
          "text": [
            "Writing pages/Contoh_Pertemuan_5.py\n"
          ]
        }
      ],
      "source": [
        "%%writefile pages/Contoh_Pertemuan_5.py\n",
        "# Import pustaka yang diperlukan\n",
        "import streamlit as st\n",
        "import pandas as pd\n",
        "import numpy as np\n",
        "\n",
        "# Membuat DataFrame\n",
        "data = {\n",
        "    'Name': ['Alice', 'Bob', 'Charlie'],\n",
        "    'Age': [25, 30, 35],\n",
        "    'City': ['New York', 'Los Angeles', 'Chicago']\n",
        "}\n",
        "df = pd.DataFrame(data)\n",
        "\n",
        "# Menampilkan DataFrame dengan st.dataframe()\n",
        "st.write(\"Menampilkan DataFrame dengan st.dataframe()\")\n",
        "st.dataframe(df, width=700, height=300)\n",
        "\n",
        "# Menampilkan tabel menggunakan st.table()\n",
        "st.write(\"Menampilkan tabel menggunakan st.table()\")\n",
        "st.table(df)\n",
        "\n",
        "# Menampilkan tabel menggunakan st.metric()\n",
        "st.write(\"Menampilkan tabel menggunakan Metric\")\n",
        "df_metric = pd.DataFrame(np.random.randn(10, 5), columns=(\"col %d\" % i for i in range(5)))\n",
        "st.table(df_metric)\n",
        "\n",
        "# Menampilkan editor data\n",
        "st.write(\"Menampilkan tabel dengan editor data\")\n",
        "edited_df = st.data_editor(df, use_container_width=True)\n",
        "\n",
        "# Menampilkan data yang telah diedit\n",
        "st.write(\"Edited DataFrame:\")\n",
        "st.write(edited_df)\n",
        "\n",
        "# Data JSON\n",
        "st.write(\"Menampilkan data json\")\n",
        "data_json = {\n",
        "    \"name\": \"Alice\",\n",
        "    \"age\": 25,\n",
        "    \"city\": \"New York\",\n",
        "    \"employed\": True\n",
        "}\n",
        "# Menampilkan data JSON menggunakan st.json()\n",
        "st.json(data_json)\n",
        "\n",
        "# Menampilkan tabel dengan editor data untuk column config\n",
        "st.write(\"Menampilkan tabel dengan editor data untuk column config\")\n",
        "# Konfigurasi kolom menggunakan st.column_config\n",
        "df = st.data_editor(\n",
        "    df,\n",
        "    column_config={\n",
        "        'Age': st.column_config.NumberColumn(format=\"%.0f\"),  # Format angka tanpa desimal\n",
        "        'City': st.column_config.SelectboxColumn(options=[\"New York\", \"Los Angeles\", \"Chicago\"]),  # Pilihan untuk kolom City\n",
        "        'Employed': st.column_config.CheckboxColumn(),  # Kolom checkbox untuk status pekerjaan\n",
        "    }\n",
        ")\n",
        "\n",
        "# Menampilkan hasil edit data\n",
        "st.write(\"Edited DataFrame:\")\n",
        "st.write(df)"
      ]
    },
    {
      "cell_type": "code",
      "execution_count": 28,
      "metadata": {
        "id": "fbbfmP4H4UVQ"
      },
      "outputs": [],
      "source": [
        "#Download dulu datasetnya, linknya ada di slide\n",
        "import pandas as pd\n",
        "df = pd.read_csv('/content/drive/MyDrive/Colab Notebooks/PENGEMBANGAN MACHINE LEARNING/asset/Iris.csv') #simpen file di drive"
      ]
    },
    {
      "cell_type": "code",
      "source": [
        "df.info()"
      ],
      "metadata": {
        "id": "BmwRiMM-Plcr",
        "colab": {
          "base_uri": "https://localhost:8080/"
        },
        "outputId": "24bcf8a3-f576-4549-985e-c24b855d7762"
      },
      "execution_count": 29,
      "outputs": [
        {
          "output_type": "stream",
          "name": "stdout",
          "text": [
            "<class 'pandas.core.frame.DataFrame'>\n",
            "RangeIndex: 150 entries, 0 to 149\n",
            "Data columns (total 6 columns):\n",
            " #   Column         Non-Null Count  Dtype  \n",
            "---  ------         --------------  -----  \n",
            " 0   Id             150 non-null    int64  \n",
            " 1   SepalLengthCm  150 non-null    float64\n",
            " 2   SepalWidthCm   150 non-null    float64\n",
            " 3   PetalLengthCm  150 non-null    float64\n",
            " 4   PetalWidthCm   150 non-null    float64\n",
            " 5   Species        150 non-null    object \n",
            "dtypes: float64(4), int64(1), object(1)\n",
            "memory usage: 7.2+ KB\n"
          ]
        }
      ]
    },
    {
      "cell_type": "code",
      "execution_count": 30,
      "metadata": {
        "id": "OrMtyuwM5PtX",
        "colab": {
          "base_uri": "https://localhost:8080/"
        },
        "outputId": "5bb8ac34-f989-4ec0-b299-d74514c0ee1a"
      },
      "outputs": [
        {
          "output_type": "stream",
          "name": "stdout",
          "text": [
            "Writing pages/Latihan_Pertemuan_5.py\n"
          ]
        }
      ],
      "source": [
        "%%writefile pages/Latihan_Pertemuan_5.py\n",
        "import streamlit as st\n",
        "import pandas as pd\n",
        "\n",
        "# Membaca data CSV\n",
        "file_path = '/content/drive/MyDrive/Colab Notebooks/PENGEMBANGAN MACHINE LEARNING/asset/Iris.csv'  # Ganti path ini\n",
        "df = pd.read_csv(file_path)\n",
        "\n",
        "# Menyiapkan tab\n",
        "tabs = st.tabs([\"Tabel\", \"Metrik\", \"JSON\"])\n",
        "\n",
        "# Tab 1 - Tabel\n",
        "with tabs[0]:\n",
        "    st.header(\"Tabel Iris Dataset\")\n",
        "    st.dataframe(df)  # Lebih interaktif daripada st.table\n",
        "\n",
        "# Tab 2 - Metrik\n",
        "with tabs[1]:\n",
        "    st.header(\"Metrik Iris Dataset\")\n",
        "\n",
        "    # Metrik 1: Rata-rata Sepal Length\n",
        "    avg_sepal_length = df['SepalLengthCm'].mean()\n",
        "    st.metric(label=\"Rata-rata Sepal Length\", value=f\"{avg_sepal_length:.2f} cm\")\n",
        "\n",
        "    # Metrik 2: Rata-rata Petal Length\n",
        "    avg_petal_length = df['PetalLengthCm'].mean()\n",
        "    st.metric(label=\"Rata-rata Petal Length\", value=f\"{avg_petal_length:.2f} cm\")\n",
        "\n",
        "    # Metrik 3: Jumlah Spesies\n",
        "    species_count = df['Species'].nunique()\n",
        "    st.metric(label=\"Jumlah Spesies\", value=f\"{species_count} spesies\")\n",
        "\n",
        "# Tab 3 - JSON\n",
        "with tabs[2]:\n",
        "    st.header(\"Data Iris dalam Format JSON\")\n",
        "    st.json(df.to_dict(orient='records'))"
      ]
    },
    {
      "cell_type": "code",
      "source": [
        "#Download dulu datasetnya, linknya ada di slide\n",
        "df = pd.read_csv('/content/drive/MyDrive/Colab Notebooks/PENGEMBANGAN MACHINE LEARNING/asset/nutrition.csv') #simpen file di drive"
      ],
      "metadata": {
        "id": "q74LK330JaST"
      },
      "execution_count": 33,
      "outputs": []
    },
    {
      "cell_type": "code",
      "source": [
        "df.info()"
      ],
      "metadata": {
        "id": "vn-4ein7JRsZ",
        "colab": {
          "base_uri": "https://localhost:8080/"
        },
        "outputId": "806f845b-87e4-4efe-9798-61411e80133e"
      },
      "execution_count": 32,
      "outputs": [
        {
          "output_type": "stream",
          "name": "stdout",
          "text": [
            "<class 'pandas.core.frame.DataFrame'>\n",
            "RangeIndex: 1346 entries, 0 to 1345\n",
            "Data columns (total 7 columns):\n",
            " #   Column        Non-Null Count  Dtype  \n",
            "---  ------        --------------  -----  \n",
            " 0   id            1346 non-null   int64  \n",
            " 1   calories      1346 non-null   float64\n",
            " 2   proteins      1346 non-null   float64\n",
            " 3   fat           1346 non-null   float64\n",
            " 4   carbohydrate  1346 non-null   float64\n",
            " 5   name          1346 non-null   object \n",
            " 6   image         1346 non-null   object \n",
            "dtypes: float64(4), int64(1), object(2)\n",
            "memory usage: 73.7+ KB\n"
          ]
        }
      ]
    },
    {
      "cell_type": "code",
      "execution_count": 34,
      "metadata": {
        "id": "rHdd6sjx558z",
        "colab": {
          "base_uri": "https://localhost:8080/"
        },
        "outputId": "cd2d27a8-1902-4473-eab1-499a608faeea"
      },
      "outputs": [
        {
          "output_type": "stream",
          "name": "stdout",
          "text": [
            "Writing pages/Tugas_Pertemuan_5.py\n"
          ]
        }
      ],
      "source": [
        "%%writefile pages/Tugas_Pertemuan_5.py\n",
        "import streamlit as st\n",
        "import pandas as pd\n",
        "\n",
        "# Membaca data CSV\n",
        "file_path = '/content/drive/MyDrive/Colab Notebooks/PENGEMBANGAN MACHINE LEARNING/asset/nutrition.csv'\n",
        "df = pd.read_csv(file_path)\n",
        "\n",
        "# Menampilkan nama kolom (debugging)\n",
        "st.sidebar.write(\"Kolom tersedia:\", df.columns.tolist())\n",
        "\n",
        "# Menyiapkan tab\n",
        "tabs = st.tabs([\"Tabel\", \"Metrik\", \"JSON\"])\n",
        "\n",
        "# Tab 1 - Tabel\n",
        "with tabs[0]:\n",
        "    st.header(\"Tabel Data Nutrisi Makanan dan Minuman Indonesia\")\n",
        "    st.dataframe(df)\n",
        "\n",
        "# Tab 2 - Metrik\n",
        "with tabs[1]:\n",
        "    st.header(\"Metrik Data Nutrisi\")\n",
        "    # Gunakan nama kolom yang benar dari dataset\n",
        "    avg_calories = df['calories'].mean()\n",
        "    avg_proteins = df['proteins'].mean()\n",
        "    avg_fat = df['fat'].mean()\n",
        "    avg_carb = df['carbohydrate'].mean()\n",
        "\n",
        "    st.metric(label=\"Rata-rata Kalori\", value=f\"{avg_calories:.2f} kkal\")\n",
        "    st.metric(label=\"Rata-rata Protein\", value=f\"{avg_proteins:.2f} g\")\n",
        "    st.metric(label=\"Rata-rata Lemak\", value=f\"{avg_fat:.2f} g\")\n",
        "    st.metric(label=\"Rata-rata Karbohidrat\", value=f\"{avg_carb:.2f} g\")\n",
        "\n",
        "# Tab 3 - JSON\n",
        "with tabs[2]:\n",
        "    st.header(\"Data Nutrisi dalam Format JSON\")\n",
        "    st.json(df.to_dict(orient='records'))"
      ]
    },
    {
      "cell_type": "markdown",
      "source": [
        "## Pertemuan 6"
      ],
      "metadata": {
        "id": "6gAmGMqAWK8l"
      }
    },
    {
      "cell_type": "code",
      "source": [
        "%%writefile pages/Contoh_Pertemuan_6.py\n",
        "import streamlit as st\n",
        "import pandas as pd\n",
        "\n",
        "# Membuat data contoh\n",
        "data = pd.DataFrame({\n",
        "    'Tahun': [2020,2021,2022,2023],\n",
        "    'Pendapatan': [100, 150, 200, 250]\n",
        "})\n",
        "\n",
        "# Menampilkan grafik area\n",
        "st.area_chart(data.set_index('Tahun'))\n",
        "\n",
        "# Menampilkan grafik garis\n",
        "st.line_chart(data.set_index('Tahun'))\n",
        "\n",
        "# Menampilkan grafik batang\n",
        "st.bar_chart(data.set_index('Tahun'))\n",
        "\n",
        "data2 = pd.DataFrame({\n",
        "    'X': [1,2,3,4,5],\n",
        "    'Y': [2,3,5,7,11]\n",
        "})\n",
        "# Menampilkan grafik sebar\n",
        "st.scatter_chart(data2)\n",
        "\n",
        "# Membuat data koordinat contoh\n",
        "data3 = pd.DataFrame({\n",
        "    'latitude': [40.7128, 34.0522, 51.5074],\n",
        "    'longitude': [-74.0060, -118.2437, -0.1278]\n",
        "})\n",
        "\n",
        "# Menampilkan peta\n",
        "st.map(data3)"
      ],
      "metadata": {
        "id": "KRreeSihWMbW",
        "colab": {
          "base_uri": "https://localhost:8080/"
        },
        "outputId": "7011bc3e-b24d-4a39-9625-ecce7896c16a"
      },
      "execution_count": 35,
      "outputs": [
        {
          "output_type": "stream",
          "name": "stdout",
          "text": [
            "Writing pages/Contoh_Pertemuan_6.py\n"
          ]
        }
      ]
    },
    {
      "cell_type": "code",
      "source": [
        "%%writefile pages/Latihan_Pertemuan_6.py\n",
        "import streamlit as st\n",
        "import pandas as pd\n",
        "import matplotlib.pyplot as plt\n",
        "import plotly.express as px\n",
        "import seaborn as sns\n",
        "\n",
        "# Load dataset\n",
        "df = pd.read_csv('/content/drive/MyDrive/Colab Notebooks/PENGEMBANGAN MACHINE LEARNING/asset/Iris.csv')\n",
        "\n",
        "# Judul aplikasi\n",
        "st.title(\"Visualisasi Data Iris dengan Tab Interaktif\")\n",
        "st.markdown(\"Visualisasi berbagai jenis grafik berdasarkan dataset Iris\")\n",
        "\n",
        "# Membuat 5 tab\n",
        "tab1, tab2, tab3, tab4, tab5 = st.tabs([\"Grafik Area\", \"Grafik Garis\", \"Grafik Batang\", \"Grafik Scatter\", \"Peta\"])\n",
        "\n",
        "with tab1:\n",
        "    st.header(\"Grafik Area: Panjang dan Lebar Sepal\")\n",
        "    fig_area = px.area(df, x='Id', y=['SepalLengthCm', 'SepalWidthCm'], title='Area Chart Sepal')\n",
        "    st.plotly_chart(fig_area, use_container_width=True)\n",
        "\n",
        "with tab2:\n",
        "    st.header(\"Grafik Garis: Petal Length dan Width\")\n",
        "    fig_line = px.line(df, x='Id', y=['PetalLengthCm', 'PetalWidthCm'], color='Species', title='Line Chart Petal per Spesies')\n",
        "    st.plotly_chart(fig_line, use_container_width=True)\n",
        "\n",
        "with tab3:\n",
        "    st.header(\"Grafik Batang: Rata-rata Ukuran Sepal per Spesies\")\n",
        "    avg_sepal = df.groupby('Species')[['SepalLengthCm', 'SepalWidthCm']].mean().reset_index()\n",
        "    fig_bar = px.bar(avg_sepal, x='Species', y=['SepalLengthCm', 'SepalWidthCm'], barmode='group',\n",
        "                     title=\"Rata-rata Sepal per Spesies\")\n",
        "    st.plotly_chart(fig_bar, use_container_width=True)\n",
        "\n",
        "with tab4:\n",
        "    st.header(\"Grafik Scatter: Petal Length vs Width\")\n",
        "    fig_scatter = px.scatter(df, x='PetalLengthCm', y='PetalWidthCm', color='Species', symbol='Species',\n",
        "                             title=\"Scatter Plot Petal\", size='SepalLengthCm')\n",
        "    st.plotly_chart(fig_scatter, use_container_width=True)\n",
        "\n",
        "with tab5:\n",
        "    st.header(\"Peta: Simulasi Peta Spesies (Dummy Coordinates)\")\n",
        "    # Karena dataset tidak memiliki koordinat, kita buat dummy data\n",
        "    import numpy as np\n",
        "    df['Latitude'] = np.random.uniform(low=-6.2, high=-6.0, size=len(df))\n",
        "    df['Longitude'] = np.random.uniform(low=106.7, high=107.0, size=len(df))\n",
        "\n",
        "    fig_map = px.scatter_mapbox(df, lat='Latitude', lon='Longitude', color='Species', zoom=9,\n",
        "                                mapbox_style=\"carto-positron\", title=\"Sebaran Dummy Spesies di Peta\")\n",
        "    st.plotly_chart(fig_map, use_container_width=True)"
      ],
      "metadata": {
        "id": "qdrnqlKAXtY-",
        "colab": {
          "base_uri": "https://localhost:8080/"
        },
        "outputId": "beef5b52-1e20-499d-8daa-c3b9856a655a"
      },
      "execution_count": 36,
      "outputs": [
        {
          "output_type": "stream",
          "name": "stdout",
          "text": [
            "Writing pages/Latihan_Pertemuan_6.py\n"
          ]
        }
      ]
    },
    {
      "cell_type": "code",
      "source": [
        "%%writefile pages/Tugas_Pertemuan_6.py\n",
        "import streamlit as st\n",
        "import pandas as pd\n",
        "import matplotlib.pyplot as plt\n",
        "import seaborn as sns\n",
        "\n",
        "# Memuat data nutrition\n",
        "data = pd.read_csv('/content/drive/MyDrive/Colab Notebooks/PENGEMBANGAN MACHINE LEARNING/asset/nutrition.csv')  # Ganti path sesuai lokasi file Anda\n",
        "\n",
        "# Menyiapkan kolom untuk tab\n",
        "tabs = [\"Grafik Area\", \"Grafik Garis\", \"Grafik Batang\", \"Grafik Scatter\", \"Peta\"]\n",
        "selected_tab = st.sidebar.radio(\"Pilih Grafik:\", tabs)\n",
        "\n",
        "# Menampilkan data\n",
        "st.title(\"Dashboard Nutrition Dataset\")\n",
        "st.write(\"Data Nutrition (versi 1)\")\n",
        "st.write(data.head())\n",
        "\n",
        "# Memastikan kolom numerik yang sesuai\n",
        "numerik_data = data[['calories', 'proteins', 'fat', 'carbohydrate']]\n",
        "\n",
        "# Grafik Area\n",
        "if selected_tab == \"Grafik Area\":\n",
        "    st.subheader(\"Grafik Area\")\n",
        "    try:\n",
        "        st.area_chart(numerik_data)\n",
        "    except:\n",
        "        st.warning(\"Tidak dapat menampilkan grafik area. Pastikan hanya data numerik.\")\n",
        "\n",
        "# Grafik Garis\n",
        "elif selected_tab == \"Grafik Garis\":\n",
        "    st.subheader(\"Grafik Garis\")\n",
        "    try:\n",
        "        st.line_chart(numerik_data)\n",
        "    except:\n",
        "        st.warning(\"Tidak dapat menampilkan grafik garis. Pastikan hanya data numerik.\")\n",
        "\n",
        "# Grafik Batang\n",
        "elif selected_tab == \"Grafik Batang\":\n",
        "    st.subheader(\"Grafik Batang\")\n",
        "    try:\n",
        "        st.bar_chart(numerik_data)\n",
        "    except:\n",
        "        st.warning(\"Tidak dapat menampilkan grafik batang. Pastikan hanya data numerik.\")\n",
        "\n",
        "# Grafik Scatter\n",
        "elif selected_tab == \"Grafik Scatter\":\n",
        "    st.subheader(\"Grafik Scatter\")\n",
        "    numeric_columns = numerik_data.columns.tolist()\n",
        "    if len(numeric_columns) >= 2:\n",
        "        x_axis = st.selectbox(\"Pilih sumbu X:\", numeric_columns)\n",
        "        y_axis = st.selectbox(\"Pilih sumbu Y:\", numeric_columns, index=1)\n",
        "        fig, ax = plt.subplots()\n",
        "        sns.scatterplot(data=data, x=x_axis, y=y_axis, ax=ax)\n",
        "        st.pyplot(fig)\n",
        "    else:\n",
        "        st.warning(\"Tidak cukup data numerik untuk scatter plot.\")\n",
        "\n",
        "# Peta\n",
        "elif selected_tab == \"Peta\":\n",
        "    st.subheader(\"Peta Nutrition\")\n",
        "    if 'latitude' in data.columns and 'longitude' in data.columns:\n",
        "        st.map(data[['latitude', 'longitude']])\n",
        "    else:\n",
        "        st.warning(\"Data tidak memiliki kolom latitude dan longitude.\")"
      ],
      "metadata": {
        "id": "1i5cuP7QZXDz",
        "colab": {
          "base_uri": "https://localhost:8080/"
        },
        "outputId": "0a921135-83ae-4e67-e078-61fc217d1379"
      },
      "execution_count": 37,
      "outputs": [
        {
          "output_type": "stream",
          "name": "stdout",
          "text": [
            "Writing pages/Tugas_Pertemuan_6.py\n"
          ]
        }
      ]
    },
    {
      "cell_type": "markdown",
      "source": [
        "## Pertemuan 7"
      ],
      "metadata": {
        "id": "OjT-BmIuZ1xN"
      }
    },
    {
      "cell_type": "code",
      "source": [
        "%%writefile pages/Latihan_Pertemuan_7.py\n",
        "import streamlit as st\n",
        "import pandas as pd\n",
        "import matplotlib.pyplot as plt\n",
        "import seaborn as sns\n",
        "\n",
        "# Membaca data dari file CSV\n",
        "df = pd.read_csv('/content/drive/MyDrive/Colab Notebooks/PENGEMBANGAN MACHINE LEARNING/asset/nutrition.csv')\n",
        "\n",
        "# Judul aplikasi\n",
        "st.title('Dashboard Nutrisi')\n",
        "\n",
        "# Sidebar Navigasi\n",
        "tabs = st.sidebar.radio(\"Pilih Tab\", [\"Tabel\", \"Grafik\", \"Metric\", \"Grafik Distribusi\"])\n",
        "\n",
        "# Tab Tabel\n",
        "if tabs == \"Tabel\":\n",
        "    st.header(\"Tabel Data Nutrisi\")\n",
        "    st.write(df)\n",
        "\n",
        "# Tab Grafik\n",
        "elif tabs == \"Grafik\":\n",
        "    st.header(\"Grafik Nutrisi\")\n",
        "    nutrisi = ['calories', 'proteins', 'fat', 'carbohydrate']\n",
        "    st.subheader(\"Grafik Bar Rata-rata Nutrisi\")\n",
        "    fig, ax = plt.subplots(figsize=(10, 6))\n",
        "    df[nutrisi].mean().plot(kind='bar', ax=ax, color='skyblue')\n",
        "    ax.set_title('Rata-rata Nilai Nutrisi')\n",
        "    ax.set_xlabel('Jenis Nutrisi')\n",
        "    ax.set_ylabel('Rata-rata')\n",
        "    st.pyplot(fig)\n",
        "\n",
        "# Tab Metric\n",
        "elif tabs == \"Metric\":\n",
        "    st.header(\"Indikator Nutrisi\")\n",
        "    st.subheader(\"Rata-rata Nilai Nutrisi\")\n",
        "    st.metric(\"Kalori Rata-rata\", f\"{df['calories'].mean():.2f} kcal\")\n",
        "    st.metric(\"Lemak Rata-rata\", f\"{df['fat'].mean():.2f} g\")\n",
        "    st.metric(\"Karbohidrat Rata-rata\", f\"{df['carbohydrate'].mean():.2f} g\")\n",
        "    st.metric(\"Protein Rata-rata\", f\"{df['proteins'].mean():.2f} g\")\n",
        "\n",
        "# Tab Grafik Distribusi\n",
        "elif tabs == \"Grafik Distribusi\":\n",
        "    st.header(\"Distribusi Nutrisi\")\n",
        "    st.subheader(\"Distribusi Kalori\")\n",
        "    fig, ax = plt.subplots(figsize=(10, 6))\n",
        "    sns.histplot(df['calories'], kde=True, ax=ax, color='purple')\n",
        "    ax.set_title('Distribusi Kalori')\n",
        "    ax.set_xlabel('Kalori')\n",
        "    ax.set_ylabel('Frekuensi')\n",
        "    st.pyplot(fig)"
      ],
      "metadata": {
        "id": "e5uTtAvRZ3bg",
        "colab": {
          "base_uri": "https://localhost:8080/"
        },
        "outputId": "b72aaa28-220f-41aa-a1b9-c56f0874d1c1"
      },
      "execution_count": 38,
      "outputs": [
        {
          "output_type": "stream",
          "name": "stdout",
          "text": [
            "Writing pages/Latihan_Pertemuan_7.py\n"
          ]
        }
      ]
    },
    {
      "cell_type": "code",
      "source": [
        "#Cari dataset untuk Tugas 7 dari repositori publik, download, upload ke drive, import.\n",
        "import pandas as pd\n",
        "data = pd.read_csv('/content/drive/MyDrive/Colab Notebooks/PENGEMBANGAN MACHINE LEARNING/asset/dairy_dataset.csv')"
      ],
      "metadata": {
        "id": "5JmzduALbXFZ"
      },
      "execution_count": 39,
      "outputs": []
    },
    {
      "cell_type": "code",
      "source": [
        "#Cek dulu fitur-fitur dari datasetnya, sesuaikan dgn script di sel %%writefile pages/Tugas_Pertemuan_7.py\n",
        "data.info()"
      ],
      "metadata": {
        "id": "1Tk8C3RHbeCS",
        "colab": {
          "base_uri": "https://localhost:8080/"
        },
        "outputId": "44ded115-dbd2-4555-d0d8-7cf430ea6097"
      },
      "execution_count": 40,
      "outputs": [
        {
          "output_type": "stream",
          "name": "stdout",
          "text": [
            "<class 'pandas.core.frame.DataFrame'>\n",
            "RangeIndex: 4325 entries, 0 to 4324\n",
            "Data columns (total 23 columns):\n",
            " #   Column                               Non-Null Count  Dtype  \n",
            "---  ------                               --------------  -----  \n",
            " 0   Location                             4325 non-null   object \n",
            " 1   Total Land Area (acres)              4325 non-null   float64\n",
            " 2   Number of Cows                       4325 non-null   int64  \n",
            " 3   Farm Size                            4325 non-null   object \n",
            " 4   Date                                 4325 non-null   object \n",
            " 5   Product ID                           4325 non-null   int64  \n",
            " 6   Product Name                         4325 non-null   object \n",
            " 7   Brand                                4325 non-null   object \n",
            " 8   Quantity (liters/kg)                 4325 non-null   float64\n",
            " 9   Price per Unit                       4325 non-null   float64\n",
            " 10  Total Value                          4325 non-null   float64\n",
            " 11  Shelf Life (days)                    4325 non-null   int64  \n",
            " 12  Storage Condition                    4325 non-null   object \n",
            " 13  Production Date                      4325 non-null   object \n",
            " 14  Expiration Date                      4325 non-null   object \n",
            " 15  Quantity Sold (liters/kg)            4325 non-null   int64  \n",
            " 16  Price per Unit (sold)                4325 non-null   float64\n",
            " 17  Approx. Total Revenue(INR)           4325 non-null   float64\n",
            " 18  Customer Location                    4325 non-null   object \n",
            " 19  Sales Channel                        4325 non-null   object \n",
            " 20  Quantity in Stock (liters/kg)        4325 non-null   int64  \n",
            " 21  Minimum Stock Threshold (liters/kg)  4325 non-null   float64\n",
            " 22  Reorder Quantity (liters/kg)         4325 non-null   float64\n",
            "dtypes: float64(8), int64(5), object(10)\n",
            "memory usage: 777.3+ KB\n"
          ]
        }
      ]
    },
    {
      "cell_type": "code",
      "source": [
        "!pip install altair\n",
        "!pip install plotly"
      ],
      "metadata": {
        "colab": {
          "base_uri": "https://localhost:8080/"
        },
        "id": "JtcBmrPXllgJ",
        "outputId": "4e66413b-b40e-4373-fc03-eb9ab5b3c60a"
      },
      "execution_count": 41,
      "outputs": [
        {
          "output_type": "stream",
          "name": "stdout",
          "text": [
            "Requirement already satisfied: altair in /usr/local/lib/python3.11/dist-packages (5.5.0)\n",
            "Requirement already satisfied: jinja2 in /usr/local/lib/python3.11/dist-packages (from altair) (3.1.5)\n",
            "Requirement already satisfied: jsonschema>=3.0 in /usr/local/lib/python3.11/dist-packages (from altair) (4.23.0)\n",
            "Requirement already satisfied: narwhals>=1.14.2 in /usr/local/lib/python3.11/dist-packages (from altair) (1.29.0)\n",
            "Requirement already satisfied: packaging in /usr/local/lib/python3.11/dist-packages (from altair) (24.2)\n",
            "Requirement already satisfied: typing-extensions>=4.10.0 in /usr/local/lib/python3.11/dist-packages (from altair) (4.12.2)\n",
            "Requirement already satisfied: attrs>=22.2.0 in /usr/local/lib/python3.11/dist-packages (from jsonschema>=3.0->altair) (25.1.0)\n",
            "Requirement already satisfied: jsonschema-specifications>=2023.03.6 in /usr/local/lib/python3.11/dist-packages (from jsonschema>=3.0->altair) (2024.10.1)\n",
            "Requirement already satisfied: referencing>=0.28.4 in /usr/local/lib/python3.11/dist-packages (from jsonschema>=3.0->altair) (0.36.2)\n",
            "Requirement already satisfied: rpds-py>=0.7.1 in /usr/local/lib/python3.11/dist-packages (from jsonschema>=3.0->altair) (0.23.1)\n",
            "Requirement already satisfied: MarkupSafe>=2.0 in /usr/local/lib/python3.11/dist-packages (from jinja2->altair) (3.0.2)\n",
            "Requirement already satisfied: plotly in /usr/local/lib/python3.11/dist-packages (5.24.1)\n",
            "Requirement already satisfied: tenacity>=6.2.0 in /usr/local/lib/python3.11/dist-packages (from plotly) (9.0.0)\n",
            "Requirement already satisfied: packaging in /usr/local/lib/python3.11/dist-packages (from plotly) (24.2)\n"
          ]
        }
      ]
    },
    {
      "cell_type": "code",
      "source": [
        "%%writefile pages/Tugas_Pertemuan_7.py\n",
        "import streamlit as st\n",
        "import pandas as pd\n",
        "import matplotlib.pyplot as plt\n",
        "import seaborn as sns\n",
        "import plotly.express as px\n",
        "\n",
        "# Konfigurasi tampilan halaman\n",
        "st.set_page_config(layout=\"wide\")\n",
        "\n",
        "# Judul Aplikasi\n",
        "st.title(\"📊 Dashboard Interaktif - Dairy Dataset\")\n",
        "st.markdown(\"Visualisasi penjualan, stok, dan analisis produk susu\")\n",
        "\n",
        "# Membaca data\n",
        "file_path = '/content/drive/MyDrive/Colab Notebooks/PENGEMBANGAN MACHINE LEARNING/asset/dairy_dataset.csv'\n",
        "try:\n",
        "    df = pd.read_csv(file_path)\n",
        "except FileNotFoundError:\n",
        "    st.error(f\"Gagal memuat data dari {file_path}. Pastikan path dan file tersedia.\")\n",
        "    st.stop()\n",
        "\n",
        "# Parsing tanggal\n",
        "date_cols = ['Date', 'Production Date', 'Expiration Date']\n",
        "for col in date_cols:\n",
        "    df[col] = pd.to_datetime(df[col], errors='coerce')\n",
        "\n",
        "# Sidebar Filter\n",
        "st.sidebar.header(\"📌 Filter Data\")\n",
        "\n",
        "locations = df['Location'].dropna().unique().tolist()\n",
        "products = df['Product Name'].dropna().unique().tolist()\n",
        "\n",
        "selected_location = st.sidebar.multiselect(\"Pilih Lokasi\", options=locations, default=locations)\n",
        "selected_product = st.sidebar.multiselect(\"Pilih Produk\", options=products, default=products)\n",
        "min_date, max_date = df['Date'].min(), df['Date'].max()\n",
        "date_range = st.sidebar.date_input(\"Rentang Tanggal\", [min_date, max_date])\n",
        "\n",
        "# Filter DataFrame\n",
        "filtered_df = df[\n",
        "    (df['Location'].isin(selected_location)) &\n",
        "    (df['Product Name'].isin(selected_product)) &\n",
        "    (df['Date'] >= pd.to_datetime(date_range[0])) &\n",
        "    (df['Date'] <= pd.to_datetime(date_range[1]))\n",
        "]\n",
        "\n",
        "st.write(\"### 📄 Data Tersaring\")\n",
        "st.dataframe(filtered_df)\n",
        "\n",
        "# Grafik 1: Tren Pendapatan\n",
        "st.subheader(\"📈 Tren Pendapatan Harian\")\n",
        "if not filtered_df.empty:\n",
        "    revenue_trend = filtered_df.groupby('Date')['Approx. Total Revenue(INR)'].sum().reset_index()\n",
        "    fig1 = px.line(revenue_trend, x='Date', y='Approx. Total Revenue(INR)',\n",
        "                   title=\"Total Revenue per Hari\", labels={'Date': 'Tanggal', 'Approx. Total Revenue(INR)': 'Revenue (INR)'})\n",
        "    st.plotly_chart(fig1, use_container_width=True)\n",
        "else:\n",
        "    st.warning(\"Tidak ada data sesuai filter.\")\n",
        "\n",
        "# Grafik 2: Distribusi Jumlah Produk Terjual\n",
        "st.subheader(\"📊 Distribusi Jumlah Produk Terjual\")\n",
        "fig2, ax2 = plt.subplots(figsize=(10, 4))\n",
        "sns.histplot(filtered_df['Quantity Sold (liters/kg)'], kde=True, bins=30, color='skyblue', ax=ax2)\n",
        "ax2.set_xlabel(\"Quantity Sold (liters/kg)\")\n",
        "ax2.set_ylabel(\"Frekuensi\")\n",
        "st.pyplot(fig2)\n",
        "\n",
        "# Grafik 3: Korelasi Quantity vs Revenue\n",
        "st.subheader(\"🔍 Korelasi Quantity vs Revenue\")\n",
        "fig3, ax3 = plt.subplots(figsize=(8, 5))\n",
        "sns.scatterplot(data=filtered_df, x='Quantity Sold (liters/kg)', y='Approx. Total Revenue(INR)', hue='Product Name', ax=ax3)\n",
        "ax3.set_xlabel(\"Quantity Sold\")\n",
        "ax3.set_ylabel(\"Total Revenue (INR)\")\n",
        "st.pyplot(fig3)\n",
        "\n",
        "# Grafik 4: Rata-rata Harga Unit per Produk\n",
        "st.subheader(\"💰 Rata-rata Harga per Unit per Produk\")\n",
        "avg_price = filtered_df.groupby('Product Name')['Price per Unit'].mean().sort_values()\n",
        "st.bar_chart(avg_price)\n",
        "\n",
        "# Grafik 5: Total Revenue per Produk\n",
        "st.subheader(\"📦 Total Revenue per Produk\")\n",
        "revenue_by_product = filtered_df.groupby('Product Name')['Approx. Total Revenue(INR)'].sum().sort_values(ascending=False)\n",
        "fig4 = px.bar(revenue_by_product, x=revenue_by_product.index, y=revenue_by_product.values,\n",
        "              labels={'x': 'Product Name', 'y': 'Total Revenue (INR)'}, title=\"Pendapatan Total per Produk\")\n",
        "st.plotly_chart(fig4, use_container_width=True)\n",
        "\n",
        "# Grafik 6: Pie Chart Penjualan berdasarkan Channel\n",
        "st.subheader(\"📈 Persentase Penjualan per Channel\")\n",
        "if 'Sales Channel' in filtered_df.columns:\n",
        "    sales_channel = filtered_df['Sales Channel'].value_counts()\n",
        "    fig5 = px.pie(values=sales_channel.values, names=sales_channel.index, title=\"Distribusi Channel Penjualan\")\n",
        "    st.plotly_chart(fig5, use_container_width=True)\n",
        "\n",
        "# Tabel Rekomendasi Reorder\n",
        "st.subheader(\"🔁 Produk yang Harus Segera Diorder Ulang\")\n",
        "reorder_df = filtered_df[\n",
        "    filtered_df['Quantity in Stock (liters/kg)'] < filtered_df['Minimum Stock Threshold (liters/kg)']\n",
        "]\n",
        "st.dataframe(reorder_df[['Product Name', 'Brand', 'Quantity in Stock (liters/kg)',\n",
        "                         'Minimum Stock Threshold (liters/kg)', 'Reorder Quantity (liters/kg)']])"
      ],
      "metadata": {
        "colab": {
          "base_uri": "https://localhost:8080/"
        },
        "id": "xlkBqwblffAK",
        "outputId": "cc0be0c9-2a3f-4ab4-8a78-4b74685dc5c6"
      },
      "execution_count": 42,
      "outputs": [
        {
          "output_type": "stream",
          "name": "stdout",
          "text": [
            "Writing pages/Tugas_Pertemuan_7.py\n"
          ]
        }
      ]
    },
    {
      "cell_type": "markdown",
      "source": [
        "## Mengecek isi dari Home.py"
      ],
      "metadata": {
        "id": "UbKQi8cWGWKb"
      }
    },
    {
      "cell_type": "code",
      "source": [
        "!cat Home.py"
      ],
      "metadata": {
        "id": "0dzlr2bxGZQu",
        "colab": {
          "base_uri": "https://localhost:8080/"
        },
        "outputId": "ffb88712-a197-46d8-822c-4378e4952d21"
      },
      "execution_count": 43,
      "outputs": [
        {
          "output_type": "stream",
          "name": "stdout",
          "text": [
            "import streamlit as st\n",
            "st.title(\"Pengembangan Machine Learning\")\n",
            "\n",
            "st.header(\"Pengembangan Machine Learning\")\n",
            "st.subheader(\"Menggunakan Machine Learning\")\n",
            "st.text(\"Selamat datang di aplikasi kami!\")\n"
          ]
        }
      ]
    },
    {
      "cell_type": "markdown",
      "metadata": {
        "id": "k4pIIyd86nzn"
      },
      "source": [
        "## Deployment"
      ]
    },
    {
      "cell_type": "code",
      "source": [
        "!npm install localtunnel"
      ],
      "metadata": {
        "id": "m3_PvUwaGfTr",
        "colab": {
          "base_uri": "https://localhost:8080/"
        },
        "outputId": "450687b3-6467-47c8-897d-f9d0e7e560fc"
      },
      "execution_count": 44,
      "outputs": [
        {
          "output_type": "stream",
          "name": "stdout",
          "text": [
            "\u001b[1G\u001b[0K⠙\u001b[1G\u001b[0K⠹\u001b[1G\u001b[0K⠸\u001b[1G\u001b[0K⠼\u001b[1G\u001b[0K⠴\u001b[1G\u001b[0K⠦\u001b[1G\u001b[0K⠧\u001b[1G\u001b[0K⠇\u001b[1G\u001b[0K⠏\u001b[1G\u001b[0K⠋\u001b[1G\u001b[0K⠙\u001b[1G\u001b[0K⠹\u001b[1G\u001b[0K⠸\u001b[1G\u001b[0K⠼\u001b[1G\u001b[0K⠴\u001b[1G\u001b[0K⠦\u001b[1G\u001b[0K⠧\u001b[1G\u001b[0K⠇\u001b[1G\u001b[0K⠏\u001b[1G\u001b[0K⠋\u001b[1G\u001b[0K⠙\u001b[1G\u001b[0K⠹\u001b[1G\u001b[0K⠸\u001b[1G\u001b[0K⠼\u001b[1G\u001b[0K⠴\u001b[1G\u001b[0K⠦\u001b[1G\u001b[0K⠧\u001b[1G\u001b[0K⠇\u001b[1G\u001b[0K⠏\u001b[1G\u001b[0K⠋\u001b[1G\u001b[0K⠙\u001b[1G\u001b[0K\n",
            "added 22 packages in 4s\n",
            "\u001b[1G\u001b[0K⠙\u001b[1G\u001b[0K\n",
            "\u001b[1G\u001b[0K⠙\u001b[1G\u001b[0K3 packages are looking for funding\n",
            "\u001b[1G\u001b[0K⠙\u001b[1G\u001b[0K  run `npm fund` for details\n",
            "\u001b[1G\u001b[0K⠙\u001b[1G\u001b[0K\u001b[1mnpm\u001b[22m \u001b[96mnotice\u001b[39m\n",
            "\u001b[1mnpm\u001b[22m \u001b[96mnotice\u001b[39m New \u001b[31mmajor\u001b[39m version of npm available! \u001b[31m10.8.2\u001b[39m -> \u001b[34m11.3.0\u001b[39m\n",
            "\u001b[1mnpm\u001b[22m \u001b[96mnotice\u001b[39m Changelog: \u001b[34mhttps://github.com/npm/cli/releases/tag/v11.3.0\u001b[39m\n",
            "\u001b[1mnpm\u001b[22m \u001b[96mnotice\u001b[39m To update run: \u001b[4mnpm install -g npm@11.3.0\u001b[24m\n",
            "\u001b[1mnpm\u001b[22m \u001b[96mnotice\u001b[39m\n",
            "\u001b[1G\u001b[0K⠙\u001b[1G\u001b[0K"
          ]
        }
      ]
    },
    {
      "cell_type": "code",
      "source": [
        "!pwd"
      ],
      "metadata": {
        "id": "1QkFzxI1GhDc",
        "colab": {
          "base_uri": "https://localhost:8080/"
        },
        "outputId": "a50d0563-92ec-4b6f-aee2-b2a076c1c9b8"
      },
      "execution_count": 45,
      "outputs": [
        {
          "output_type": "stream",
          "name": "stdout",
          "text": [
            "/content/Pengembangan_Machine_Learning\n"
          ]
        }
      ]
    },
    {
      "cell_type": "code",
      "source": [
        "#Kalo ada yg error atau modifikasi, berhentiin dulu tunnelnya. Run sel yg mau dimodifikasi. Baru run lagi dari sini sampe muncul link tunnel yg baru.\n",
        "!streamlit run /content/Pengembangan_Machine_Learning/Home.py &>/content/Pengembangan_Machine_Learning/logs.txt &"
      ],
      "metadata": {
        "id": "CvKsDBl4GkC2"
      },
      "execution_count": 46,
      "outputs": []
    },
    {
      "cell_type": "code",
      "source": [
        "!timeout 30 cat /content/Pengembangan_Machine_Learning/logs.txt"
      ],
      "metadata": {
        "id": "okbzm9pFGmF9"
      },
      "execution_count": 47,
      "outputs": []
    },
    {
      "cell_type": "code",
      "source": [
        "import requests\n",
        "requests.get('https://api.ipify.org').text"
      ],
      "metadata": {
        "id": "4e3bnAGuGol5",
        "colab": {
          "base_uri": "https://localhost:8080/",
          "height": 36
        },
        "outputId": "bfbe723c-bb76-497c-ddf2-ffe2a4d77e54"
      },
      "execution_count": 48,
      "outputs": [
        {
          "output_type": "execute_result",
          "data": {
            "text/plain": [
              "'34.81.191.127'"
            ],
            "application/vnd.google.colaboratory.intrinsic+json": {
              "type": "string"
            }
          },
          "metadata": {},
          "execution_count": 48
        }
      ]
    },
    {
      "cell_type": "code",
      "source": [
        "!npx localtunnel --port 8501"
      ],
      "metadata": {
        "colab": {
          "base_uri": "https://localhost:8080/"
        },
        "id": "oVV37RKqGqPg",
        "outputId": "86032c37-81ed-4c5e-a9b1-64ebcca247bd"
      },
      "execution_count": 49,
      "outputs": [
        {
          "output_type": "stream",
          "name": "stdout",
          "text": [
            "\u001b[1G\u001b[0K⠙\u001b[1G\u001b[0K⠹\u001b[1G\u001b[0Kyour url is: https://rare-experts-stop.loca.lt\n",
            "^C\n"
          ]
        }
      ]
    }
  ],
  "metadata": {
    "colab": {
      "provenance": [],
      "collapsed_sections": [
        "bUf7uD-v6Y1f"
      ]
    },
    "kernelspec": {
      "display_name": "Python 3",
      "name": "python3"
    },
    "language_info": {
      "name": "python"
    }
  },
  "nbformat": 4,
  "nbformat_minor": 0
}
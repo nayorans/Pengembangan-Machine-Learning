{
  "cells": [
    {
      "cell_type": "markdown",
      "metadata": {
        "id": "bUf7uD-v6Y1f"
      },
      "source": [
        "## Persiapan Streamlit"
      ]
    },
    {
      "cell_type": "code",
      "source": [
        "from google.colab import drive\n",
        "drive.mount('/content/drive')"
      ],
      "metadata": {
        "colab": {
          "base_uri": "https://localhost:8080/"
        },
        "id": "KlOIKApvuiiM",
        "outputId": "974d2371-97a0-4eca-d68a-7e059b28fd5b"
      },
      "execution_count": 1,
      "outputs": [
        {
          "output_type": "stream",
          "name": "stdout",
          "text": [
            "Drive already mounted at /content/drive; to attempt to forcibly remount, call drive.mount(\"/content/drive\", force_remount=True).\n"
          ]
        }
      ]
    },
    {
      "cell_type": "code",
      "execution_count": 2,
      "metadata": {
        "id": "cdO7QRj7o16X"
      },
      "outputs": [],
      "source": [
        "!mkdir Pengembangan_Machine_Learning"
      ]
    },
    {
      "cell_type": "code",
      "execution_count": 3,
      "metadata": {
        "id": "WlvI0uDLo60H",
        "colab": {
          "base_uri": "https://localhost:8080/"
        },
        "outputId": "92e4c7c2-7cf7-43a1-90da-20f78c70ae4f"
      },
      "outputs": [
        {
          "output_type": "stream",
          "name": "stdout",
          "text": [
            "/content/Pengembangan_Machine_Learning\n"
          ]
        }
      ],
      "source": [
        "cd Pengembangan_Machine_Learning"
      ]
    },
    {
      "cell_type": "code",
      "source": [
        "!pwd"
      ],
      "metadata": {
        "id": "JO4vXRnYFSTw",
        "colab": {
          "base_uri": "https://localhost:8080/"
        },
        "outputId": "79165d30-1e0a-4d91-f1ac-fa66c77b2716"
      },
      "execution_count": 4,
      "outputs": [
        {
          "output_type": "stream",
          "name": "stdout",
          "text": [
            "/content/Pengembangan_Machine_Learning\n"
          ]
        }
      ]
    },
    {
      "cell_type": "code",
      "source": [
        "%%writefile requirements.txt\n",
        "# Berikut adalah daftar library yang akan digunakan dalam project ini\n",
        "streamlit"
      ],
      "metadata": {
        "id": "0QI5cEX1FZPG",
        "colab": {
          "base_uri": "https://localhost:8080/"
        },
        "outputId": "8162d53e-e2e5-43ac-bf5e-a7421a353fce"
      },
      "execution_count": 5,
      "outputs": [
        {
          "output_type": "stream",
          "name": "stdout",
          "text": [
            "Writing requirements.txt\n"
          ]
        }
      ]
    },
    {
      "cell_type": "code",
      "source": [
        "!ls"
      ],
      "metadata": {
        "id": "He4D9HGhFa_y",
        "colab": {
          "base_uri": "https://localhost:8080/"
        },
        "outputId": "78ca7ef8-e2ea-4f58-89a2-ec2b343fce86"
      },
      "execution_count": 6,
      "outputs": [
        {
          "output_type": "stream",
          "name": "stdout",
          "text": [
            "requirements.txt\n"
          ]
        }
      ]
    },
    {
      "cell_type": "code",
      "source": [
        "!cat requirements.txt"
      ],
      "metadata": {
        "id": "bwQqVrsaFfhd",
        "colab": {
          "base_uri": "https://localhost:8080/"
        },
        "outputId": "25f141a0-e2a5-45ca-b092-0c0ceaef1740"
      },
      "execution_count": 7,
      "outputs": [
        {
          "output_type": "stream",
          "name": "stdout",
          "text": [
            "# Berikut adalah daftar library yang akan digunakan dalam project ini\n",
            "streamlit\n"
          ]
        }
      ]
    },
    {
      "cell_type": "code",
      "source": [
        "!pip install -q -r requirements.txt"
      ],
      "metadata": {
        "id": "oHS2JVqYFkbb",
        "colab": {
          "base_uri": "https://localhost:8080/"
        },
        "outputId": "05471dfc-d756-43fb-f161-31aa7989f510"
      },
      "execution_count": 8,
      "outputs": [
        {
          "output_type": "stream",
          "name": "stdout",
          "text": [
            "\u001b[2K     \u001b[90m━━━━━━━━━━━━━━━━━━━━━━━━━━━━━━━━━━━━━━━━\u001b[0m \u001b[32m44.3/44.3 kB\u001b[0m \u001b[31m1.5 MB/s\u001b[0m eta \u001b[36m0:00:00\u001b[0m\n",
            "\u001b[2K   \u001b[90m━━━━━━━━━━━━━━━━━━━━━━━━━━━━━━━━━━━━━━━━\u001b[0m \u001b[32m9.9/9.9 MB\u001b[0m \u001b[31m67.5 MB/s\u001b[0m eta \u001b[36m0:00:00\u001b[0m\n",
            "\u001b[2K   \u001b[90m━━━━━━━━━━━━━━━━━━━━━━━━━━━━━━━━━━━━━━━━\u001b[0m \u001b[32m6.9/6.9 MB\u001b[0m \u001b[31m97.8 MB/s\u001b[0m eta \u001b[36m0:00:00\u001b[0m\n",
            "\u001b[2K   \u001b[90m━━━━━━━━━━━━━━━━━━━━━━━━━━━━━━━━━━━━━━━━\u001b[0m \u001b[32m79.1/79.1 kB\u001b[0m \u001b[31m5.0 MB/s\u001b[0m eta \u001b[36m0:00:00\u001b[0m\n",
            "\u001b[?25h"
          ]
        }
      ]
    },
    {
      "cell_type": "code",
      "execution_count": 9,
      "metadata": {
        "id": "1zyxZfx0o-Bp",
        "colab": {
          "base_uri": "https://localhost:8080/"
        },
        "outputId": "c4972b6a-6616-4907-fbc1-a80311878b6a"
      },
      "outputs": [
        {
          "output_type": "stream",
          "name": "stdout",
          "text": [
            "streamlit                             1.45.1\n"
          ]
        }
      ],
      "source": [
        "!pip list | grep streamlit"
      ]
    },
    {
      "cell_type": "code",
      "execution_count": 10,
      "metadata": {
        "id": "VdSqmROmo-_Y"
      },
      "outputs": [],
      "source": [
        "!pip install streamlit -q"
      ]
    },
    {
      "cell_type": "markdown",
      "source": [
        "### Buat File Home.py"
      ],
      "metadata": {
        "id": "sFw9yT5OFsQ-"
      }
    },
    {
      "cell_type": "code",
      "execution_count": 11,
      "metadata": {
        "id": "q2GcvoeHpB_o",
        "colab": {
          "base_uri": "https://localhost:8080/"
        },
        "outputId": "27752255-b6c2-4b79-ba05-fdd15f56f8df"
      },
      "outputs": [
        {
          "output_type": "stream",
          "name": "stdout",
          "text": [
            "Writing Home.py\n"
          ]
        }
      ],
      "source": [
        "%%writefile Home.py\n",
        "import streamlit as st\n",
        "st.title(\"Pengembangan Machine Learning\")\n",
        "\n",
        "st.header(\"Pertemuan 3\")\n",
        "st.subheader(\"MEMBUAT FORMULIR INPUT PADA APLIKASI WEB\")\n",
        "st.text(\"Tujuan Pembelajaran:\")\n",
        "st.text(\"▪ Menjelaskan pengertian input widget\")\n",
        "st.text(\"▪ Mengidentifikasi jenis-jenis input widget\")\n",
        "st.text(\"▪ Menerapkan berbagai elemen widget\")\n",
        "st.text(\"▪ Membuatformulir interaktif pada aplikasi web\")"
      ]
    },
    {
      "cell_type": "code",
      "source": [
        "pwd"
      ],
      "metadata": {
        "id": "Y1xnhI7oFwUi",
        "colab": {
          "base_uri": "https://localhost:8080/",
          "height": 36
        },
        "outputId": "a12baf7c-40cd-4d85-90fa-72aa578da44d"
      },
      "execution_count": 12,
      "outputs": [
        {
          "output_type": "execute_result",
          "data": {
            "text/plain": [
              "'/content/Pengembangan_Machine_Learning'"
            ],
            "application/vnd.google.colaboratory.intrinsic+json": {
              "type": "string"
            }
          },
          "metadata": {},
          "execution_count": 12
        }
      ]
    },
    {
      "cell_type": "code",
      "execution_count": 13,
      "metadata": {
        "id": "ehortH0hpMiz",
        "colab": {
          "base_uri": "https://localhost:8080/"
        },
        "outputId": "43dfeb1f-6742-4837-dad1-0aa41e4d1851"
      },
      "outputs": [
        {
          "output_type": "stream",
          "name": "stdout",
          "text": [
            "Home.py  requirements.txt\n"
          ]
        }
      ],
      "source": [
        "!ls"
      ]
    },
    {
      "cell_type": "markdown",
      "source": [
        "### Buat Direktori Pages"
      ],
      "metadata": {
        "id": "RjG4ibb9F0p6"
      }
    },
    {
      "cell_type": "code",
      "execution_count": 14,
      "metadata": {
        "id": "EtthnVTEpJ7t"
      },
      "outputs": [],
      "source": [
        "!mkdir pages"
      ]
    },
    {
      "cell_type": "code",
      "source": [
        "!ls"
      ],
      "metadata": {
        "id": "orQZ8r3EF843",
        "colab": {
          "base_uri": "https://localhost:8080/"
        },
        "outputId": "fc72e7d7-d6bc-4547-83f5-a0c9e55ca44e"
      },
      "execution_count": 15,
      "outputs": [
        {
          "output_type": "stream",
          "name": "stdout",
          "text": [
            "Home.py  pages\trequirements.txt\n"
          ]
        }
      ]
    },
    {
      "cell_type": "code",
      "execution_count": 16,
      "metadata": {
        "id": "1EnvvMCRpSnf"
      },
      "outputs": [],
      "source": [
        "!ls pages"
      ]
    },
    {
      "cell_type": "markdown",
      "metadata": {
        "id": "RfaIItUItPyn"
      },
      "source": [
        "## Pertemuan 3"
      ]
    },
    {
      "cell_type": "code",
      "execution_count": 17,
      "metadata": {
        "id": "npyRzkIsstqE",
        "colab": {
          "base_uri": "https://localhost:8080/"
        },
        "outputId": "12fbe4dd-0003-4137-bdcf-fb0107a0a927"
      },
      "outputs": [
        {
          "output_type": "stream",
          "name": "stdout",
          "text": [
            "Writing pages/Contoh_Pertemuan_3.py\n"
          ]
        }
      ],
      "source": [
        "%%writefile pages/Contoh_Pertemuan_3.py\n",
        "import streamlit as st\n",
        "import datetime\n",
        "\n",
        "# INPUT WIDGET\n",
        "\n",
        "# 1. TEXT INPUT\n",
        "# a. TEXT INPUT\n",
        "username = st.text_input('Masukkan nama Anda:', 'John Doe')\n",
        "password = st.text_input('Masukkan kata sandi Anda:', type='password', max_chars=12)\n",
        "st.write(f'Selamat Datang {username}')\n",
        "if password:\n",
        "    st.write('Kata sandi dimasukkan.')\n",
        "\n",
        "# b. TEXT AREA\n",
        "description = st.text_area('Masukkan deskripsi Anda:', 'Tulis deskripsi Anda di sini...', height=150)\n",
        "st.write(f'Deskripsi yang dimasukkan: {description}')\n",
        "\n",
        "# c. CHAT INPUT\n",
        "message = st.chat_input('Tulis pesan Anda:')\n",
        "if message:\n",
        "    st.write(f'Pesan yang Anda masukkan: {message}')\n",
        "\n",
        "# 2. NUMERIC INPUT\n",
        "age = st.number_input('Masukkan umur Anda:', min_value=0, max_value=100, value=18, step=1)\n",
        "st.write(f'Umur Anda adalah: {age}')\n",
        "\n",
        "# 3. SLIDER\n",
        "umur = st.slider('Pilih umur Anda:', min_value=0, max_value=100, value=25, step=1)\n",
        "st.write(f\"Umur Anda adalah: {umur}\")\n",
        "\n",
        "# 4. SELECT BOX\n",
        "color = st.selectbox('Pilih warna favorit Anda:', ['Merah', 'Biru', 'Hijau', 'Kuning'])\n",
        "st.write(f'Warna favorit Anda adalah: {color}')\n",
        "\n",
        "# 5. MULTI SELECT\n",
        "hobbies = st.multiselect('Pilih hobi favorit Anda:', ['Membaca', 'Olahraga', 'Menonton Film', 'Musik'])\n",
        "st.write(f'Hobi favorit Anda adalah: {\", \".join(hobbies)}')\n",
        "\n",
        "# 6. CHECK BOX\n",
        "agree = st.checkbox('Setuju dengan syarat dan ketentuan')\n",
        "if agree:\n",
        "    st.write('Terima kasih, Anda setuju dengan syarat dan ketentuan.')\n",
        "else:\n",
        "    st.write('Silakan centang untuk menyetujui syarat dan ketentuan.')\n",
        "\n",
        "# 7. RADIO BUTTON\n",
        "gender = st.radio('Pilih jenis kelamin:', ['Laki-laki', 'Perempuan'])\n",
        "st.write(f'Jenis kelamin yang Anda pilih adalah: {gender}')\n",
        "\n",
        "# 8. SELECT SLIDER\n",
        "difficulty = st.select_slider('Pilih tingkat kesulitan:', options=['Mudah', 'Sedang', 'Sulit'])\n",
        "st.write(f'Tingkat kesulitan yang Anda pilih adalah: {difficulty}')\n",
        "\n",
        "# 9. BUTTON\n",
        "angka_1 = st.number_input(\"Masukkan angka pertama:\", value=0)\n",
        "angka_2 = st.number_input(\"Masukkan angka kedua:\", value=0)\n",
        "def hitung_penjumlahan(a, b):\n",
        "    return a + b\n",
        "if st.button(\"Hitung Penjumlahan\"):\n",
        "    hasil = hitung_penjumlahan(angka_1, angka_2)\n",
        "    st.write(f\"Hasil penjumlahan: {hasil}\")\n",
        "\n",
        "# 10. DOWNLOAD BUTTON\n",
        "data = 'Ini adalah contoh teks untuk diunduh.'\n",
        "st.download_button('Unduh Teks', data, file_name='contoh.txt', mime='text/plain')\n",
        "\n",
        "# 11. LINK BUTTON\n",
        "st.link_button('Kunjungi Streamlit', url='https://streamlit.io')\n",
        "\n",
        "# 12. PAGE LINK\n",
        "# Menggunakan emoji sebagai ikon untuk st.page_link\n",
        "st.page_link('https://www.streamlit.io',\n",
        "             label='Kunjungi Streamlit',\n",
        "             icon='🔗')  # Menggunakan emoji link sebagai ikon\n",
        "\n",
        "# 13. FORM SUBMIT BUTTON\n",
        "with st.form(key='my_form'):\n",
        "    name = st.text_input('Nama Anda')\n",
        "    age_form = st.number_input('Usia Anda', min_value=0)\n",
        "    submit_button = st.form_submit_button(label='Kirim')\n",
        "    if submit_button:\n",
        "        st.write(f'Nama: {name}')\n",
        "        st.write(f'Usia: {age_form}')\n",
        "\n",
        "# 14. DATE & TIME INPUT\n",
        "date = st.date_input('Pilih Tanggal', value=datetime.date.today())\n",
        "st.write('Tanggal yang dipilih:', date)\n",
        "time = st.time_input('Pilih Waktu', value=datetime.time(14, 30))\n",
        "st.write('Waktu yang dipilih:', time)"
      ]
    },
    {
      "cell_type": "code",
      "execution_count": 18,
      "metadata": {
        "id": "eNRJTJFzu89o",
        "colab": {
          "base_uri": "https://localhost:8080/"
        },
        "outputId": "97fb65cb-949a-4325-f253-7bbf062c14b7"
      },
      "outputs": [
        {
          "output_type": "stream",
          "name": "stdout",
          "text": [
            "Writing pages/Latihan_Pertemuan_3.py\n"
          ]
        }
      ],
      "source": [
        "%%writefile pages/Latihan_Pertemuan_3.py\n",
        "import streamlit as st\n",
        "\n",
        "# Fungsi untuk konversi ke rupiah\n",
        "def convert_to_rupiah(amount, rate):\n",
        "    return amount * rate\n",
        "\n",
        "# Nilai tukar fiktif (misalnya)\n",
        "exchange_rates = {\n",
        "    'USD': 15500,\n",
        "    'EUR': 17000,\n",
        "    'JPY': 110\n",
        "}\n",
        "\n",
        "st.title(\"Konversi Mata Uang ke Rupiah\")\n",
        "\n",
        "# Input form untuk memasukkan jumlah uang\n",
        "with st.form(key='currency_conversion_form'):\n",
        "    # Pilihan mata uang\n",
        "    currency = st.selectbox('Pilih mata uang:', ['USD', 'EUR', 'JPY'])\n",
        "\n",
        "    # Input jumlah uang yang akan dikonversi\n",
        "    amount = st.number_input(f'Masukkan jumlah {currency}:', min_value=0.01, format=\"%.2f\")\n",
        "\n",
        "    # Tombol submit\n",
        "    submit_button = st.form_submit_button('Hitung')\n",
        "\n",
        "# Proses konversi jika tombol submit ditekan\n",
        "if submit_button:\n",
        "    if amount > 0:\n",
        "        # Ambil nilai tukar yang sesuai dengan mata uang yang dipilih\n",
        "        rate = exchange_rates[currency]\n",
        "\n",
        "        # Hitung konversi\n",
        "        rupiah_amount = convert_to_rupiah(amount, rate)\n",
        "\n",
        "        # Tampilkan hasil konversi\n",
        "        st.success(f'{amount} {currency} setara dengan IDR {rupiah_amount:,.2f}')\n",
        "    else:\n",
        "        st.error('Jumlah yang dimasukkan harus lebih dari 0.')"
      ]
    },
    {
      "cell_type": "code",
      "execution_count": 19,
      "metadata": {
        "id": "XYmzIwumvb0S",
        "colab": {
          "base_uri": "https://localhost:8080/"
        },
        "outputId": "d314f638-9dda-44ab-e601-9297461ac93f"
      },
      "outputs": [
        {
          "output_type": "stream",
          "name": "stdout",
          "text": [
            "Writing pages/Tugas_Pertemuan_3.py\n"
          ]
        }
      ],
      "source": [
        "%%writefile pages/Tugas_Pertemuan_3.py\n",
        "import streamlit as st\n",
        "from datetime import datetime\n",
        "\n",
        "# Menampilkan judul halaman\n",
        "st.title(\"Formulir Pendaftaran Workshop\")\n",
        "\n",
        "# Membuat form input\n",
        "with st.form(key='registration_form'):\n",
        "    # Text input: Nama lengkap\n",
        "    name = st.text_input('Nama Lengkap')\n",
        "\n",
        "    # Numeric input: Usia\n",
        "    age = st.number_input('Usia', min_value=10, max_value=100, step=1)\n",
        "\n",
        "    # Date input: Tanggal Lahir\n",
        "    birth_date = st.date_input('Tanggal Lahir', value=datetime(2000, 1, 1))\n",
        "\n",
        "    # Time input: Jam kedatangan\n",
        "    arrival_time = st.time_input('Perkiraan Jam Kedatangan', value=datetime.now().time())\n",
        "\n",
        "    # Selection: Pilihan jenis workshop\n",
        "    workshop_topic = st.selectbox('Pilih Workshop yang Diikuti',\n",
        "                                  ['Machine Learning', 'Data Visualization', 'Web Development', 'Digital Marketing'])\n",
        "\n",
        "    # Tombol submit\n",
        "    submit_button = st.form_submit_button('Simpan')\n",
        "\n",
        "# Proses saat tombol submit ditekan\n",
        "if submit_button:\n",
        "    # Menampilkan data yang sudah diisi\n",
        "    st.success('Data Berhasil Disimpan!')\n",
        "    st.write('**Data Pendaftaran:**')\n",
        "    st.write(f'- Nama: {name}')\n",
        "    st.write(f'- Usia: {age} tahun')\n",
        "    st.write(f'- Tanggal Lahir: {birth_date.strftime(\"%d-%m-%Y\")}')\n",
        "    st.write(f'- Perkiraan Jam Kedatangan: {arrival_time.strftime(\"%H:%M\")}')\n",
        "    st.write(f'- Workshop Dipilih: {workshop_topic}')"
      ]
    },
    {
      "cell_type": "markdown",
      "source": [
        "## Mengecek isi dari Home.py"
      ],
      "metadata": {
        "id": "UbKQi8cWGWKb"
      }
    },
    {
      "cell_type": "code",
      "source": [
        "!cat Home.py"
      ],
      "metadata": {
        "id": "0dzlr2bxGZQu",
        "colab": {
          "base_uri": "https://localhost:8080/"
        },
        "outputId": "781ac3dd-86cb-483b-c28e-78a47fc84c87"
      },
      "execution_count": 20,
      "outputs": [
        {
          "output_type": "stream",
          "name": "stdout",
          "text": [
            "import streamlit as st\n",
            "st.title(\"Pengembangan Machine Learning\")\n",
            "\n",
            "st.header(\"Pertemuan 3\")\n",
            "st.subheader(\"MEMBUAT FORMULIR INPUT PADA APLIKASI WEB\")\n",
            "st.text(\"Tujuan Pembelajaran:\") \n",
            "st.text(\"▪ Menjelaskan pengertian input widget\")\n",
            "st.text(\"▪ Mengidentifikasi jenis-jenis input widget\")\n",
            "st.text(\"▪ Menerapkan berbagai elemen widget\")\n",
            "st.text(\"▪ Membuatformulir interaktif pada aplikasi web\")\n"
          ]
        }
      ]
    },
    {
      "cell_type": "markdown",
      "metadata": {
        "id": "k4pIIyd86nzn"
      },
      "source": [
        "## Deployment"
      ]
    },
    {
      "cell_type": "code",
      "source": [
        "!npm install localtunnel"
      ],
      "metadata": {
        "id": "m3_PvUwaGfTr",
        "colab": {
          "base_uri": "https://localhost:8080/"
        },
        "outputId": "d10adabc-4c65-4dd6-9bf2-53092d75522a"
      },
      "execution_count": 21,
      "outputs": [
        {
          "output_type": "stream",
          "name": "stdout",
          "text": [
            "\u001b[1G\u001b[0K⠙\u001b[1G\u001b[0K⠹\u001b[1G\u001b[0K⠸\u001b[1G\u001b[0K⠼\u001b[1G\u001b[0K⠴\u001b[1G\u001b[0K⠦\u001b[1G\u001b[0K⠧\u001b[1G\u001b[0K⠇\u001b[1G\u001b[0K⠏\u001b[1G\u001b[0K⠋\u001b[1G\u001b[0K⠙\u001b[1G\u001b[0K⠹\u001b[1G\u001b[0K⠸\u001b[1G\u001b[0K⠼\u001b[1G\u001b[0K⠴\u001b[1G\u001b[0K⠦\u001b[1G\u001b[0K⠧\u001b[1G\u001b[0K⠇\u001b[1G\u001b[0K⠏\u001b[1G\u001b[0K⠋\u001b[1G\u001b[0K⠙\u001b[1G\u001b[0K⠹\u001b[1G\u001b[0K⠸\u001b[1G\u001b[0K⠼\u001b[1G\u001b[0K⠴\u001b[1G\u001b[0K⠦\u001b[1G\u001b[0K⠧\u001b[1G\u001b[0K⠇\u001b[1G\u001b[0K⠏\u001b[1G\u001b[0K⠋\u001b[1G\u001b[0K⠙\u001b[1G\u001b[0K\n",
            "added 22 packages in 3s\n",
            "\u001b[1G\u001b[0K⠙\u001b[1G\u001b[0K\n",
            "\u001b[1G\u001b[0K⠙\u001b[1G\u001b[0K3 packages are looking for funding\n",
            "\u001b[1G\u001b[0K⠙\u001b[1G\u001b[0K  run `npm fund` for details\n",
            "\u001b[1G\u001b[0K⠙\u001b[1G\u001b[0K"
          ]
        }
      ]
    },
    {
      "cell_type": "code",
      "source": [
        "!pwd"
      ],
      "metadata": {
        "id": "1QkFzxI1GhDc",
        "colab": {
          "base_uri": "https://localhost:8080/"
        },
        "outputId": "e69bdd20-0147-4586-bd76-375b87b28fde"
      },
      "execution_count": 22,
      "outputs": [
        {
          "output_type": "stream",
          "name": "stdout",
          "text": [
            "/content/Pengembangan_Machine_Learning\n"
          ]
        }
      ]
    },
    {
      "cell_type": "code",
      "source": [
        "#Kalo ada yg error atau modifikasi, berhentiin dulu tunnelnya. Run sel yg mau dimodifikasi. Baru run lagi dari sini sampe muncul link tunnel yg baru.\n",
        "!streamlit run /content/Pengembangan_Machine_Learning/Home.py &>/content/Pengembangan_Machine_Learning/logs.txt &"
      ],
      "metadata": {
        "id": "CvKsDBl4GkC2"
      },
      "execution_count": 23,
      "outputs": []
    },
    {
      "cell_type": "code",
      "source": [
        "!timeout 30 cat /content/Pengembangan_Machine_Learning/logs.txt"
      ],
      "metadata": {
        "id": "okbzm9pFGmF9"
      },
      "execution_count": 24,
      "outputs": []
    },
    {
      "cell_type": "code",
      "source": [
        "import requests\n",
        "requests.get('https://api.ipify.org').text"
      ],
      "metadata": {
        "id": "4e3bnAGuGol5",
        "colab": {
          "base_uri": "https://localhost:8080/",
          "height": 36
        },
        "outputId": "46214e58-1484-46f5-a501-4af3098b60cd"
      },
      "execution_count": 25,
      "outputs": [
        {
          "output_type": "execute_result",
          "data": {
            "text/plain": [
              "'35.196.181.237'"
            ],
            "application/vnd.google.colaboratory.intrinsic+json": {
              "type": "string"
            }
          },
          "metadata": {},
          "execution_count": 25
        }
      ]
    },
    {
      "cell_type": "code",
      "source": [
        "!npx localtunnel --port 8501"
      ],
      "metadata": {
        "colab": {
          "base_uri": "https://localhost:8080/"
        },
        "id": "oVV37RKqGqPg",
        "outputId": "b43df6e9-0bf6-42d3-9402-204350ab7e3b"
      },
      "execution_count": null,
      "outputs": [
        {
          "output_type": "stream",
          "name": "stdout",
          "text": [
            "\u001b[1G\u001b[0K⠙\u001b[1G\u001b[0K⠹\u001b[1G\u001b[0Kyour url is: https://green-women-battle.loca.lt\n"
          ]
        }
      ]
    }
  ],
  "metadata": {
    "colab": {
      "provenance": [],
      "collapsed_sections": [
        "RfaIItUItPyn"
      ]
    },
    "kernelspec": {
      "display_name": "Python 3",
      "name": "python3"
    },
    "language_info": {
      "name": "python"
    }
  },
  "nbformat": 4,
  "nbformat_minor": 0
}
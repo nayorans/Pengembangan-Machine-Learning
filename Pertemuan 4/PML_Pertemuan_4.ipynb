{
  "cells": [
    {
      "cell_type": "markdown",
      "metadata": {
        "id": "bUf7uD-v6Y1f"
      },
      "source": [
        "## Persiapan Streamlit"
      ]
    },
    {
      "cell_type": "code",
      "source": [
        "from google.colab import drive\n",
        "drive.mount('/content/drive')"
      ],
      "metadata": {
        "colab": {
          "base_uri": "https://localhost:8080/"
        },
        "id": "KlOIKApvuiiM",
        "outputId": "b3adc1ed-5a7b-457f-f416-fb0561fb3cc8"
      },
      "execution_count": 1,
      "outputs": [
        {
          "output_type": "stream",
          "name": "stdout",
          "text": [
            "Mounted at /content/drive\n"
          ]
        }
      ]
    },
    {
      "cell_type": "code",
      "execution_count": 2,
      "metadata": {
        "id": "cdO7QRj7o16X"
      },
      "outputs": [],
      "source": [
        "!mkdir Pengembangan_Machine_Learning"
      ]
    },
    {
      "cell_type": "code",
      "execution_count": 3,
      "metadata": {
        "id": "WlvI0uDLo60H",
        "colab": {
          "base_uri": "https://localhost:8080/"
        },
        "outputId": "713ff2b4-6650-452a-fb9b-cb4190982e80"
      },
      "outputs": [
        {
          "output_type": "stream",
          "name": "stdout",
          "text": [
            "/content/Pengembangan_Machine_Learning\n"
          ]
        }
      ],
      "source": [
        "cd Pengembangan_Machine_Learning"
      ]
    },
    {
      "cell_type": "code",
      "source": [
        "!pwd"
      ],
      "metadata": {
        "id": "JO4vXRnYFSTw",
        "colab": {
          "base_uri": "https://localhost:8080/"
        },
        "outputId": "add42df3-3900-4318-8d02-27d90d8ae9d9"
      },
      "execution_count": 4,
      "outputs": [
        {
          "output_type": "stream",
          "name": "stdout",
          "text": [
            "/content/Pengembangan_Machine_Learning\n"
          ]
        }
      ]
    },
    {
      "cell_type": "code",
      "source": [
        "%%writefile requirements.txt\n",
        "# Berikut adalah daftar library yang akan digunakan dalam project ini\n",
        "streamlit"
      ],
      "metadata": {
        "id": "0QI5cEX1FZPG",
        "colab": {
          "base_uri": "https://localhost:8080/"
        },
        "outputId": "5338658d-2cc9-4cb0-a08f-9de9c0e56f27"
      },
      "execution_count": 5,
      "outputs": [
        {
          "output_type": "stream",
          "name": "stdout",
          "text": [
            "Writing requirements.txt\n"
          ]
        }
      ]
    },
    {
      "cell_type": "code",
      "source": [
        "!ls"
      ],
      "metadata": {
        "id": "He4D9HGhFa_y",
        "colab": {
          "base_uri": "https://localhost:8080/"
        },
        "outputId": "f8f6d0f8-9a25-4f4d-cded-177b018aba17"
      },
      "execution_count": 6,
      "outputs": [
        {
          "output_type": "stream",
          "name": "stdout",
          "text": [
            "requirements.txt\n"
          ]
        }
      ]
    },
    {
      "cell_type": "code",
      "source": [
        "!cat requirements.txt"
      ],
      "metadata": {
        "id": "bwQqVrsaFfhd",
        "colab": {
          "base_uri": "https://localhost:8080/"
        },
        "outputId": "64b27760-43d8-470c-a321-978bd1a73e4c"
      },
      "execution_count": 7,
      "outputs": [
        {
          "output_type": "stream",
          "name": "stdout",
          "text": [
            "# Berikut adalah daftar library yang akan digunakan dalam project ini\n",
            "streamlit\n"
          ]
        }
      ]
    },
    {
      "cell_type": "code",
      "source": [
        "!pip install -q -r requirements.txt"
      ],
      "metadata": {
        "id": "oHS2JVqYFkbb",
        "colab": {
          "base_uri": "https://localhost:8080/"
        },
        "outputId": "740535d2-abd2-4547-c07a-15b703d24c4c"
      },
      "execution_count": 8,
      "outputs": [
        {
          "output_type": "stream",
          "name": "stdout",
          "text": [
            "\u001b[2K     \u001b[90m━━━━━━━━━━━━━━━━━━━━━━━━━━━━━━━━━━━━━━━━\u001b[0m \u001b[32m44.3/44.3 kB\u001b[0m \u001b[31m1.7 MB/s\u001b[0m eta \u001b[36m0:00:00\u001b[0m\n",
            "\u001b[2K   \u001b[90m━━━━━━━━━━━━━━━━━━━━━━━━━━━━━━━━━━━━━━━━\u001b[0m \u001b[32m9.9/9.9 MB\u001b[0m \u001b[31m57.9 MB/s\u001b[0m eta \u001b[36m0:00:00\u001b[0m\n",
            "\u001b[2K   \u001b[90m━━━━━━━━━━━━━━━━━━━━━━━━━━━━━━━━━━━━━━━━\u001b[0m \u001b[32m6.9/6.9 MB\u001b[0m \u001b[31m70.7 MB/s\u001b[0m eta \u001b[36m0:00:00\u001b[0m\n",
            "\u001b[2K   \u001b[90m━━━━━━━━━━━━━━━━━━━━━━━━━━━━━━━━━━━━━━━━\u001b[0m \u001b[32m79.1/79.1 kB\u001b[0m \u001b[31m5.9 MB/s\u001b[0m eta \u001b[36m0:00:00\u001b[0m\n",
            "\u001b[?25h"
          ]
        }
      ]
    },
    {
      "cell_type": "code",
      "execution_count": 9,
      "metadata": {
        "id": "1zyxZfx0o-Bp",
        "colab": {
          "base_uri": "https://localhost:8080/"
        },
        "outputId": "92c0aeed-32b2-4e66-d7fd-5e5c99cd7906"
      },
      "outputs": [
        {
          "output_type": "stream",
          "name": "stdout",
          "text": [
            "streamlit                             1.45.1\n"
          ]
        }
      ],
      "source": [
        "!pip list | grep streamlit"
      ]
    },
    {
      "cell_type": "code",
      "execution_count": 10,
      "metadata": {
        "id": "VdSqmROmo-_Y"
      },
      "outputs": [],
      "source": [
        "!pip install streamlit -q"
      ]
    },
    {
      "cell_type": "markdown",
      "source": [
        "### Buat File Home.py"
      ],
      "metadata": {
        "id": "sFw9yT5OFsQ-"
      }
    },
    {
      "cell_type": "code",
      "execution_count": 11,
      "metadata": {
        "id": "q2GcvoeHpB_o",
        "colab": {
          "base_uri": "https://localhost:8080/"
        },
        "outputId": "a3d02dd0-b964-48bb-959a-5cb150c30ed8"
      },
      "outputs": [
        {
          "output_type": "stream",
          "name": "stdout",
          "text": [
            "Writing Home.py\n"
          ]
        }
      ],
      "source": [
        "%%writefile Home.py\n",
        "import streamlit as st\n",
        "st.title(\"Pengembangan Machine Learning\")\n",
        "\n",
        "st.header(\"Pertemuan 4\")\n",
        "st.subheader(\"MENGATUR TATA LETAK DAN MENGELOLA KONTAINER \")\n",
        "st.text(\"Tujuan Pembelajaran:\")\n",
        "st.text(\"▪ Menjelaskan perbedaan layout dan container pada aplikasi web\")\n",
        "st.text(\"▪ Mengidentifikasi elemen layout dan container pada streamlit\")\n",
        "st.text(\"▪ Menerapkan berbagai elemen layout dan container\")\n",
        "st.text(\"▪ Merancang dan mengimplementasilkan aplikasi web menggunakan elemen layout dan container\")"
      ]
    },
    {
      "cell_type": "code",
      "source": [
        "pwd"
      ],
      "metadata": {
        "id": "Y1xnhI7oFwUi",
        "colab": {
          "base_uri": "https://localhost:8080/",
          "height": 36
        },
        "outputId": "394d2cc6-1d7f-4469-b6a0-891bea8cf74c"
      },
      "execution_count": 12,
      "outputs": [
        {
          "output_type": "execute_result",
          "data": {
            "text/plain": [
              "'/content/Pengembangan_Machine_Learning'"
            ],
            "application/vnd.google.colaboratory.intrinsic+json": {
              "type": "string"
            }
          },
          "metadata": {},
          "execution_count": 12
        }
      ]
    },
    {
      "cell_type": "code",
      "execution_count": 13,
      "metadata": {
        "id": "ehortH0hpMiz",
        "colab": {
          "base_uri": "https://localhost:8080/"
        },
        "outputId": "98bedfd3-052b-4c42-efd7-855fc6704740"
      },
      "outputs": [
        {
          "output_type": "stream",
          "name": "stdout",
          "text": [
            "Home.py  requirements.txt\n"
          ]
        }
      ],
      "source": [
        "!ls"
      ]
    },
    {
      "cell_type": "markdown",
      "source": [
        "### Buat Direktori Pages"
      ],
      "metadata": {
        "id": "RjG4ibb9F0p6"
      }
    },
    {
      "cell_type": "code",
      "execution_count": 14,
      "metadata": {
        "id": "EtthnVTEpJ7t"
      },
      "outputs": [],
      "source": [
        "!mkdir pages"
      ]
    },
    {
      "cell_type": "code",
      "source": [
        "!ls"
      ],
      "metadata": {
        "id": "orQZ8r3EF843",
        "colab": {
          "base_uri": "https://localhost:8080/"
        },
        "outputId": "1a94a931-60b4-4621-b811-ca59fd122d16"
      },
      "execution_count": 15,
      "outputs": [
        {
          "output_type": "stream",
          "name": "stdout",
          "text": [
            "Home.py  pages\trequirements.txt\n"
          ]
        }
      ]
    },
    {
      "cell_type": "code",
      "execution_count": 16,
      "metadata": {
        "id": "1EnvvMCRpSnf"
      },
      "outputs": [],
      "source": [
        "!ls pages"
      ]
    },
    {
      "cell_type": "markdown",
      "metadata": {
        "id": "w0N5ykmGw87F"
      },
      "source": [
        "## Pertemuan 4"
      ]
    },
    {
      "cell_type": "code",
      "execution_count": 17,
      "metadata": {
        "id": "5jIDmQ7HwZ33",
        "colab": {
          "base_uri": "https://localhost:8080/"
        },
        "outputId": "97926acb-894b-4c2c-b00f-c9d56a1de9e3"
      },
      "outputs": [
        {
          "output_type": "stream",
          "name": "stdout",
          "text": [
            "Writing pages/Contoh_Pertemuan_4.py\n"
          ]
        }
      ],
      "source": [
        "%%writefile pages/Contoh_Pertemuan_4.py\n",
        "# Menggunakan notasi objek\n",
        "import streamlit as st\n",
        "import pandas as pd\n",
        "import numpy as np\n",
        "import time\n",
        "\n",
        "# Sidebar\n",
        "pilih = st.sidebar.selectbox(\n",
        "    \"Pilihlah algoritma yang ingin digunakan\",\n",
        "    (\"SVM\", \"KKN\", \"K-Means\")\n",
        ")\n",
        "\n",
        "# Menggunakan notasi \"with\"\n",
        "with st.sidebar:\n",
        "    pilih_radio = st.radio(\n",
        "        \"Pilihlah type data\",\n",
        "        (\"Numerik\", \"Kategorik\")\n",
        "    )\n",
        "\n",
        "# Kolom untuk chart dan table\n",
        "col1, col2 = st.columns(2)\n",
        "with col1:\n",
        "    chart_data = pd.DataFrame(\n",
        "        np.random.randn(5, 3),\n",
        "        columns=['Kolom1', 'Kolom2', 'Kolom3']\n",
        "    )\n",
        "    st.table(chart_data)\n",
        "with col2:\n",
        "    chart_data = pd.DataFrame(\n",
        "        np.random.randn(5, 3),\n",
        "        columns=['Kolom1', 'Kolom2', 'Kolom3']\n",
        "    )\n",
        "    st.line_chart(chart_data)\n",
        "\n",
        "# Cara pertama menggunakan with (Container)\n",
        "with st.container():\n",
        "    st.write(\"Ini di dalam container\")\n",
        "st.write(\"Ini di luar container\")\n",
        "\n",
        "# Cara kedua menggunakan objek\n",
        "klik = st.container()\n",
        "klik.write(\"Ini adalah contoh container\")\n",
        "klik.bar_chart({\"data\": [1, 5, 2, 6, 2, 1]})\n",
        "\n",
        "# Cara pertama menggunakan with (Expander)\n",
        "with st.expander(\"Klik untuk melihat expander\"):\n",
        "    st.write('Ini adalah contoh expander')\n",
        "    st.bar_chart({\"data\": [1, 5, 2, 6, 2, 1]})\n",
        "\n",
        "# Cara kedua menggunakan objek\n",
        "klik = st.expander(\"Klik untuk melihat expander\")\n",
        "klik.write('Ini adalah contoh expander')\n",
        "klik.bar_chart({\"data\": [1, 5, 2, 6, 2, 1]})\n",
        "\n",
        "# Penggunaan Tab\n",
        "tab1, tab2 = st.tabs([\"📉Chart\", \"📑Data\"])\n",
        "data = np.random.randn(10, 1)\n",
        "tab1.subheader(\"Contoh tab dengan grafik\")\n",
        "tab1.line_chart(data)\n",
        "tab2.subheader(\"Contoh tab dengan data\")\n",
        "tab2.write(data)\n",
        "\n",
        "# Cara pertama menggunakan with (Empty)\n",
        "with st.empty():\n",
        "    for seconds in range(10):\n",
        "        st.write(f\"⌛ {seconds} detik akan selesai\")\n",
        "        time.sleep(1)\n",
        "        st.write(\"✔️ 10 detik sudah selesai\")\n",
        "\n",
        "# Cara kedua menggunakan objek\n",
        "klik = st.empty()\n",
        "for seconds in range(10):\n",
        "    klik.write(f\"⌛ {seconds} detik kedua akan selesai\")\n",
        "    time.sleep(1)\n",
        "klik.write(\"✔️ 10 detik sudah selesai\")\n",
        "\n",
        "# Membuat form dengan key tertentu\n",
        "with st.form(key='my_form'):\n",
        "    # Menambahkan input widget di dalam form\n",
        "    name = st.text_input('Enter your name:')\n",
        "    age = st.number_input('Enter your age:', min_value=1, max_value=100)\n",
        "    # Tombol submit\n",
        "    submit_button = st.form_submit_button('Submit')\n",
        "\n",
        "    # Menampilkan data jika tombol submit diklik\n",
        "    if submit_button:\n",
        "        st.write(f'Name: {name}')\n",
        "        st.write(f'Age: {age}')\n",
        "\n",
        "# Modal Dialog\n",
        "# Fungsi untuk menampilkan dialog\n",
        "if st.button(\"Tampilkan Dialog\"):\n",
        "    with st.dialog(title=\"Perhatian\"):\n",
        "        st.write(\"Ini adalah contoh penggunaan modal dialog di Streamlit.\")\n",
        "        if st.button(\"Tutup\"):\n",
        "            st.write(\"Dialog ditutup.\")"
      ]
    },
    {
      "cell_type": "code",
      "execution_count": 18,
      "metadata": {
        "id": "7UFXVriX1wy1",
        "colab": {
          "base_uri": "https://localhost:8080/"
        },
        "outputId": "18c95366-cd4f-4495-f349-b2143444e59f"
      },
      "outputs": [
        {
          "output_type": "stream",
          "name": "stdout",
          "text": [
            "Writing pages/Latihan_Pertemuan_4.py\n"
          ]
        }
      ],
      "source": [
        "%%writefile pages/Latihan_Pertemuan_4.py\n",
        "import streamlit as st\n",
        "\n",
        "# Sidebar untuk navigasi\n",
        "st.sidebar.title(\"Registrasi E-Commerce\")\n",
        "st.sidebar.write(\"Isi data diri untuk mendaftar.\")\n",
        "username = st.sidebar.text_input(\"Username\")\n",
        "email = st.sidebar.text_input(\"Email\")\n",
        "\n",
        "# Container untuk informasi tambahan\n",
        "with st.container():\n",
        "    st.header(\"Informasi Pribadi\")\n",
        "    st.text_input(\"Nama Lengkap\")\n",
        "    st.text_input(\"Alamat\")\n",
        "\n",
        "# Expander untuk pertanyaan tambahan\n",
        "with st.expander(\"Punya pertanyaan?\"):\n",
        "    st.write(\"Tanyakan pada kami melalui form di bawah ini.\")\n",
        "\n",
        "# Pilihan jenis akun\n",
        "tabs = st.selectbox(\"Pilih jenis akun:\", [\"Pelanggan\", \"Penjual\"])\n",
        "\n",
        "# Form untuk pengisian data\n",
        "with st.form(key='registration_form'):\n",
        "    phone = st.text_input(\"Nomor Telepon\")\n",
        "    password = st.text_input(\"Password\", type=\"password\")\n",
        "    submit_button = st.form_submit_button(\"Daftar\")\n",
        "\n",
        "if submit_button:\n",
        "    st.success(f\"Selamat datang {username}!\")\n",
        "    st.write(\"Akun Anda telah berhasil dibuat.\")\n",
        "\n",
        "# Info tambahan sebagai pengganti modal dialog\n",
        "if st.button(\"Info Registrasi\"):\n",
        "    st.info(\"Pastikan data yang dimasukkan sudah benar sebelum mengirimkan formulir.\")"
      ]
    },
    {
      "cell_type": "code",
      "execution_count": 19,
      "metadata": {
        "id": "5H76djGb2NNs",
        "colab": {
          "base_uri": "https://localhost:8080/"
        },
        "outputId": "4751c058-f9b3-4550-fdd6-c5d5627740dd"
      },
      "outputs": [
        {
          "output_type": "stream",
          "name": "stdout",
          "text": [
            "Writing pages/Tugas_Pertemuan_4.py\n"
          ]
        }
      ],
      "source": [
        "%%writefile pages/Tugas_Pertemuan_4.py\n",
        "import streamlit as st\n",
        "\n",
        "# Sidebar untuk navigasi\n",
        "st.sidebar.title(\"Navigasi BEM Kampus\")\n",
        "st.sidebar.write(\"Silakan pilih halaman yang ingin diakses.\")\n",
        "page = st.sidebar.selectbox(\"Menu\", [\"Beranda\", \"Tentang Kami\", \"Pendaftaran Anggota\", \"Kontak\"])\n",
        "\n",
        "# Container utama\n",
        "with st.container():\n",
        "    if page == \"Beranda\":\n",
        "        st.title(\"Selamat Datang di Website Resmi BEM Kampus\")\n",
        "        st.text(\"Badan Eksekutif Mahasiswa (BEM) adalah organisasi mahasiswa yang berperan aktif dalam kegiatan kampus.\")\n",
        "        st.image(\"/content/drive/MyDrive/Colab Notebooks/PENGEMBANGAN MACHINE LEARNING/asset/bem.jpg\", caption=\"Kegiatan Mahasiswa BEM Kampus\") #Ganti link gambarnya. Download dulu, trus upload ke drive\n",
        "\n",
        "    elif page == \"Tentang Kami\":\n",
        "        st.header(\"Tentang BEM Kampus\")\n",
        "        st.text(\"\"\"BEM Kampus merupakan wadah untuk mengembangkan potensi, kreativitas, dan kepemimpinan mahasiswa melalui berbagai program kerja dan kegiatan kampus.\"\"\")\n",
        "\n",
        "    elif page == \"Pendaftaran Anggota\":\n",
        "        st.header(\"Formulir Pendaftaran Anggota BEM\")\n",
        "        nama = st.text_input(\"Nama Lengkap\")\n",
        "        nim = st.text_input(\"NIM\")\n",
        "        prodi = st.text_input(\"Program Studi\")\n",
        "        motivasi = st.text_area(\"Motivasi Bergabung\")\n",
        "        if st.button(\"Kirim\"):\n",
        "            st.success(f\"Terima kasih, {nama}! Data Anda telah kami terima.\")\n",
        "\n",
        "    elif page == \"Kontak\":\n",
        "        st.header(\"Hubungi Kami\")\n",
        "        st.text(\"Email: bemuniversitasnusamandiri@gmail.com\")\n",
        "        st.text(\"Instagram: @bemu_nusamandiri\")\n",
        "        st.text(\"Telepon: +62 812-3456-7890\")"
      ]
    },
    {
      "cell_type": "markdown",
      "source": [
        "## Mengecek isi dari Home.py"
      ],
      "metadata": {
        "id": "UbKQi8cWGWKb"
      }
    },
    {
      "cell_type": "code",
      "source": [
        "!cat Home.py"
      ],
      "metadata": {
        "id": "0dzlr2bxGZQu",
        "colab": {
          "base_uri": "https://localhost:8080/"
        },
        "outputId": "2e2b220c-641c-47c6-e0ee-2b0da9302967"
      },
      "execution_count": 20,
      "outputs": [
        {
          "output_type": "stream",
          "name": "stdout",
          "text": [
            "import streamlit as st\n",
            "st.title(\"Pengembangan Machine Learning\")\n",
            "\n",
            "st.header(\"Pertemuan 4\")\n",
            "st.subheader(\"MENGATUR TATA LETAK DAN MENGELOLA KONTAINER \")\n",
            "st.text(\"Tujuan Pembelajaran:\")\n",
            "st.text(\"▪ Menjelaskan perbedaan layout dan container pada aplikasi web\")\n",
            "st.text(\"▪ Mengidentifikasi elemen layout dan container pada streamlit\")\n",
            "st.text(\"▪ Menerapkan berbagai elemen layout dan container\")\n",
            "st.text(\"▪ Merancang dan mengimplementasilkan aplikasi web menggunakan elemen layout dan container\")\n"
          ]
        }
      ]
    },
    {
      "cell_type": "markdown",
      "metadata": {
        "id": "k4pIIyd86nzn"
      },
      "source": [
        "## Deployment"
      ]
    },
    {
      "cell_type": "code",
      "source": [
        "!npm install localtunnel"
      ],
      "metadata": {
        "id": "m3_PvUwaGfTr",
        "colab": {
          "base_uri": "https://localhost:8080/"
        },
        "outputId": "5ab32fc0-1612-4b61-eab9-98ccc5938eef"
      },
      "execution_count": 21,
      "outputs": [
        {
          "output_type": "stream",
          "name": "stdout",
          "text": [
            "\u001b[1G\u001b[0K⠙\u001b[1G\u001b[0K⠹\u001b[1G\u001b[0K⠸\u001b[1G\u001b[0K⠼\u001b[1G\u001b[0K⠴\u001b[1G\u001b[0K⠦\u001b[1G\u001b[0K⠧\u001b[1G\u001b[0K⠇\u001b[1G\u001b[0K⠏\u001b[1G\u001b[0K⠋\u001b[1G\u001b[0K⠙\u001b[1G\u001b[0K⠹\u001b[1G\u001b[0K⠸\u001b[1G\u001b[0K⠼\u001b[1G\u001b[0K⠴\u001b[1G\u001b[0K⠦\u001b[1G\u001b[0K⠧\u001b[1G\u001b[0K⠇\u001b[1G\u001b[0K⠏\u001b[1G\u001b[0K⠋\u001b[1G\u001b[0K⠙\u001b[1G\u001b[0K⠹\u001b[1G\u001b[0K⠸\u001b[1G\u001b[0K⠼\u001b[1G\u001b[0K⠴\u001b[1G\u001b[0K⠦\u001b[1G\u001b[0K⠧\u001b[1G\u001b[0K⠇\u001b[1G\u001b[0K⠏\u001b[1G\u001b[0K⠋\u001b[1G\u001b[0K⠙\u001b[1G\u001b[0K⠹\u001b[1G\u001b[0K⠸\u001b[1G\u001b[0K⠼\u001b[1G\u001b[0K⠴\u001b[1G\u001b[0K⠦\u001b[1G\u001b[0K⠧\u001b[1G\u001b[0K⠇\u001b[1G\u001b[0K⠏\u001b[1G\u001b[0K⠋\u001b[1G\u001b[0K⠙\u001b[1G\u001b[0K⠹\u001b[1G\u001b[0K\n",
            "added 22 packages in 5s\n",
            "\u001b[1G\u001b[0K⠸\u001b[1G\u001b[0K\n",
            "\u001b[1G\u001b[0K⠸\u001b[1G\u001b[0K3 packages are looking for funding\n",
            "\u001b[1G\u001b[0K⠸\u001b[1G\u001b[0K  run `npm fund` for details\n",
            "\u001b[1G\u001b[0K⠸\u001b[1G\u001b[0K"
          ]
        }
      ]
    },
    {
      "cell_type": "code",
      "source": [
        "!pwd"
      ],
      "metadata": {
        "id": "1QkFzxI1GhDc",
        "colab": {
          "base_uri": "https://localhost:8080/"
        },
        "outputId": "b0fecc3b-f000-40f2-e039-a212103c0b96"
      },
      "execution_count": 22,
      "outputs": [
        {
          "output_type": "stream",
          "name": "stdout",
          "text": [
            "/content/Pengembangan_Machine_Learning\n"
          ]
        }
      ]
    },
    {
      "cell_type": "code",
      "source": [
        "#Kalo ada yg error atau modifikasi, berhentiin dulu tunnelnya. Run sel yg mau dimodifikasi. Baru run lagi dari sini sampe muncul link tunnel yg baru.\n",
        "!streamlit run /content/Pengembangan_Machine_Learning/Home.py &>/content/Pengembangan_Machine_Learning/logs.txt &"
      ],
      "metadata": {
        "id": "CvKsDBl4GkC2"
      },
      "execution_count": 23,
      "outputs": []
    },
    {
      "cell_type": "code",
      "source": [
        "!timeout 30 cat /content/Pengembangan_Machine_Learning/logs.txt"
      ],
      "metadata": {
        "id": "okbzm9pFGmF9"
      },
      "execution_count": 24,
      "outputs": []
    },
    {
      "cell_type": "code",
      "source": [
        "import requests\n",
        "requests.get('https://api.ipify.org').text"
      ],
      "metadata": {
        "id": "4e3bnAGuGol5",
        "colab": {
          "base_uri": "https://localhost:8080/",
          "height": 36
        },
        "outputId": "77a1eb88-c490-4614-d7e4-e12788eff5ce"
      },
      "execution_count": 25,
      "outputs": [
        {
          "output_type": "execute_result",
          "data": {
            "text/plain": [
              "'34.148.72.129'"
            ],
            "application/vnd.google.colaboratory.intrinsic+json": {
              "type": "string"
            }
          },
          "metadata": {},
          "execution_count": 25
        }
      ]
    },
    {
      "cell_type": "code",
      "source": [
        "!npx localtunnel --port 8501"
      ],
      "metadata": {
        "colab": {
          "base_uri": "https://localhost:8080/"
        },
        "id": "oVV37RKqGqPg",
        "outputId": "1696a162-986a-47e7-db70-d2e5bcaf2fb2"
      },
      "execution_count": null,
      "outputs": [
        {
          "output_type": "stream",
          "name": "stdout",
          "text": [
            "\u001b[1G\u001b[0K⠙\u001b[1G\u001b[0K⠹\u001b[1G\u001b[0K⠸\u001b[1G\u001b[0Kyour url is: https://wicked-memes-switch.loca.lt\n"
          ]
        }
      ]
    }
  ],
  "metadata": {
    "colab": {
      "provenance": [],
      "collapsed_sections": [
        "bUf7uD-v6Y1f"
      ]
    },
    "kernelspec": {
      "display_name": "Python 3",
      "name": "python3"
    },
    "language_info": {
      "name": "python"
    }
  },
  "nbformat": 4,
  "nbformat_minor": 0
}
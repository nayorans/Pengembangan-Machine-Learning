{
  "cells": [
    {
      "cell_type": "markdown",
      "metadata": {
        "id": "bUf7uD-v6Y1f"
      },
      "source": [
        "## Persiapan Streamlit"
      ]
    },
    {
      "cell_type": "code",
      "source": [
        "from google.colab import drive\n",
        "drive.mount('/content/drive')"
      ],
      "metadata": {
        "colab": {
          "base_uri": "https://localhost:8080/"
        },
        "id": "KlOIKApvuiiM",
        "outputId": "89cbb9b0-3e2d-4979-f6ea-db43d701f2f8"
      },
      "execution_count": 2,
      "outputs": [
        {
          "output_type": "stream",
          "name": "stdout",
          "text": [
            "Mounted at /content/drive\n"
          ]
        }
      ]
    },
    {
      "cell_type": "code",
      "execution_count": 3,
      "metadata": {
        "id": "cdO7QRj7o16X"
      },
      "outputs": [],
      "source": [
        "!mkdir Pengembangan_Machine_Learning"
      ]
    },
    {
      "cell_type": "code",
      "execution_count": 4,
      "metadata": {
        "id": "WlvI0uDLo60H",
        "colab": {
          "base_uri": "https://localhost:8080/"
        },
        "outputId": "00590a7d-8de5-4715-edb0-e70854cb978f"
      },
      "outputs": [
        {
          "output_type": "stream",
          "name": "stdout",
          "text": [
            "/content/Pengembangan_Machine_Learning\n"
          ]
        }
      ],
      "source": [
        "cd Pengembangan_Machine_Learning"
      ]
    },
    {
      "cell_type": "code",
      "source": [
        "!pwd"
      ],
      "metadata": {
        "id": "JO4vXRnYFSTw",
        "colab": {
          "base_uri": "https://localhost:8080/"
        },
        "outputId": "80a4c478-e852-4847-bdf8-6eb9988c7bc9"
      },
      "execution_count": 5,
      "outputs": [
        {
          "output_type": "stream",
          "name": "stdout",
          "text": [
            "/content/Pengembangan_Machine_Learning\n"
          ]
        }
      ]
    },
    {
      "cell_type": "code",
      "source": [
        "%%writefile requirements.txt\n",
        "# Berikut adalah daftar library yang akan digunakan dalam project ini\n",
        "streamlit"
      ],
      "metadata": {
        "id": "0QI5cEX1FZPG",
        "colab": {
          "base_uri": "https://localhost:8080/"
        },
        "outputId": "60337b54-9327-49ac-cf5e-e018adeb2a2b"
      },
      "execution_count": 6,
      "outputs": [
        {
          "output_type": "stream",
          "name": "stdout",
          "text": [
            "Writing requirements.txt\n"
          ]
        }
      ]
    },
    {
      "cell_type": "code",
      "source": [
        "!ls"
      ],
      "metadata": {
        "id": "He4D9HGhFa_y",
        "colab": {
          "base_uri": "https://localhost:8080/"
        },
        "outputId": "6f894384-cbd6-4f40-908f-7a8df3d74d9d"
      },
      "execution_count": 7,
      "outputs": [
        {
          "output_type": "stream",
          "name": "stdout",
          "text": [
            "requirements.txt\n"
          ]
        }
      ]
    },
    {
      "cell_type": "code",
      "source": [
        "!cat requirements.txt"
      ],
      "metadata": {
        "id": "bwQqVrsaFfhd",
        "colab": {
          "base_uri": "https://localhost:8080/"
        },
        "outputId": "bea2d67e-4883-406c-e88f-bede51ee2ece"
      },
      "execution_count": 8,
      "outputs": [
        {
          "output_type": "stream",
          "name": "stdout",
          "text": [
            "# Berikut adalah daftar library yang akan digunakan dalam project ini\n",
            "streamlit\n"
          ]
        }
      ]
    },
    {
      "cell_type": "code",
      "source": [
        "!pip install -q -r requirements.txt"
      ],
      "metadata": {
        "id": "oHS2JVqYFkbb",
        "colab": {
          "base_uri": "https://localhost:8080/"
        },
        "outputId": "d9c18caf-8b8d-4b56-b54c-c3d68c99f3be"
      },
      "execution_count": 9,
      "outputs": [
        {
          "output_type": "stream",
          "name": "stdout",
          "text": [
            "\u001b[2K     \u001b[90m━━━━━━━━━━━━━━━━━━━━━━━━━━━━━━━━━━━━━━━━\u001b[0m \u001b[32m44.3/44.3 kB\u001b[0m \u001b[31m1.8 MB/s\u001b[0m eta \u001b[36m0:00:00\u001b[0m\n",
            "\u001b[2K   \u001b[90m━━━━━━━━━━━━━━━━━━━━━━━━━━━━━━━━━━━━━━━━\u001b[0m \u001b[32m9.9/9.9 MB\u001b[0m \u001b[31m39.3 MB/s\u001b[0m eta \u001b[36m0:00:00\u001b[0m\n",
            "\u001b[2K   \u001b[90m━━━━━━━━━━━━━━━━━━━━━━━━━━━━━━━━━━━━━━━━\u001b[0m \u001b[32m6.9/6.9 MB\u001b[0m \u001b[31m55.8 MB/s\u001b[0m eta \u001b[36m0:00:00\u001b[0m\n",
            "\u001b[2K   \u001b[90m━━━━━━━━━━━━━━━━━━━━━━━━━━━━━━━━━━━━━━━━\u001b[0m \u001b[32m79.1/79.1 kB\u001b[0m \u001b[31m5.8 MB/s\u001b[0m eta \u001b[36m0:00:00\u001b[0m\n",
            "\u001b[?25h"
          ]
        }
      ]
    },
    {
      "cell_type": "code",
      "execution_count": 10,
      "metadata": {
        "id": "1zyxZfx0o-Bp",
        "colab": {
          "base_uri": "https://localhost:8080/"
        },
        "outputId": "99ff9b3d-3692-4cb7-bfbf-06f3db5ea65c"
      },
      "outputs": [
        {
          "output_type": "stream",
          "name": "stdout",
          "text": [
            "streamlit                             1.45.1\n"
          ]
        }
      ],
      "source": [
        "!pip list | grep streamlit"
      ]
    },
    {
      "cell_type": "code",
      "execution_count": 11,
      "metadata": {
        "id": "VdSqmROmo-_Y"
      },
      "outputs": [],
      "source": [
        "!pip install streamlit -q"
      ]
    },
    {
      "cell_type": "markdown",
      "source": [
        "### Buat File Home.py"
      ],
      "metadata": {
        "id": "sFw9yT5OFsQ-"
      }
    },
    {
      "cell_type": "code",
      "execution_count": 12,
      "metadata": {
        "id": "q2GcvoeHpB_o",
        "colab": {
          "base_uri": "https://localhost:8080/"
        },
        "outputId": "ab01bf76-d004-4b2a-9a08-2400e7c3971e"
      },
      "outputs": [
        {
          "output_type": "stream",
          "name": "stdout",
          "text": [
            "Writing Home.py\n"
          ]
        }
      ],
      "source": [
        "%%writefile Home.py\n",
        "import streamlit as st\n",
        "st.title(\"Pengembangan Machine Learning\")\n",
        "\n",
        "st.header(\"Pertemuan 7\")\n",
        "st.subheader(\"MEMBANGUN DASHBOARD INTERAKTIF\")\n",
        "st.text(\"Tujuan Pembelajaran:\")\n",
        "st.text(\"▪ Menjelaskan pengertian, tujuan dan dashboard\")\n",
        "st.text(\"▪ Menjelaskan elemen dasar dalam dashboard aplikasi web\")\n",
        "st.text(\"▪ Menjelaskan jenis-jenis dashboard\")\n",
        "st.text(\"▪ Menjelaskan langkah-langkah membangun dashboard\")\n",
        "st.text(\"▪ Membangun dashboard interaktif pada apliaksi web streamlit\")"
      ]
    },
    {
      "cell_type": "code",
      "source": [
        "pwd"
      ],
      "metadata": {
        "id": "Y1xnhI7oFwUi",
        "colab": {
          "base_uri": "https://localhost:8080/",
          "height": 36
        },
        "outputId": "720a5174-001d-48f0-e9a1-30c59674dc65"
      },
      "execution_count": 13,
      "outputs": [
        {
          "output_type": "execute_result",
          "data": {
            "text/plain": [
              "'/content/Pengembangan_Machine_Learning'"
            ],
            "application/vnd.google.colaboratory.intrinsic+json": {
              "type": "string"
            }
          },
          "metadata": {},
          "execution_count": 13
        }
      ]
    },
    {
      "cell_type": "code",
      "execution_count": 14,
      "metadata": {
        "id": "ehortH0hpMiz",
        "colab": {
          "base_uri": "https://localhost:8080/"
        },
        "outputId": "5a4bc08d-043f-459c-a3dc-8e4063972f92"
      },
      "outputs": [
        {
          "output_type": "stream",
          "name": "stdout",
          "text": [
            "Home.py  requirements.txt\n"
          ]
        }
      ],
      "source": [
        "!ls"
      ]
    },
    {
      "cell_type": "markdown",
      "source": [
        "### Buat Direktori Pages"
      ],
      "metadata": {
        "id": "RjG4ibb9F0p6"
      }
    },
    {
      "cell_type": "code",
      "execution_count": 15,
      "metadata": {
        "id": "EtthnVTEpJ7t"
      },
      "outputs": [],
      "source": [
        "!mkdir pages"
      ]
    },
    {
      "cell_type": "code",
      "source": [
        "!ls"
      ],
      "metadata": {
        "id": "orQZ8r3EF843",
        "colab": {
          "base_uri": "https://localhost:8080/"
        },
        "outputId": "8a8d0923-b738-400d-d17c-60901e0f7d7a"
      },
      "execution_count": 16,
      "outputs": [
        {
          "output_type": "stream",
          "name": "stdout",
          "text": [
            "Home.py  pages\trequirements.txt\n"
          ]
        }
      ]
    },
    {
      "cell_type": "code",
      "execution_count": 17,
      "metadata": {
        "id": "1EnvvMCRpSnf"
      },
      "outputs": [],
      "source": [
        "!ls pages"
      ]
    },
    {
      "cell_type": "markdown",
      "source": [
        "## Pertemuan 7"
      ],
      "metadata": {
        "id": "OjT-BmIuZ1xN"
      }
    },
    {
      "cell_type": "code",
      "source": [
        "%%writefile pages/Latihan_Pertemuan_7.py\n",
        "import streamlit as st\n",
        "import pandas as pd\n",
        "import matplotlib.pyplot as plt\n",
        "import seaborn as sns\n",
        "\n",
        "# Membaca data dari file CSV\n",
        "df = pd.read_csv('/content/drive/MyDrive/Colab Notebooks/PENGEMBANGAN MACHINE LEARNING/asset/nutrition.csv')\n",
        "\n",
        "# Judul aplikasi\n",
        "st.title('Dashboard Nutrisi')\n",
        "\n",
        "# Sidebar Navigasi\n",
        "tabs = st.sidebar.radio(\"Pilih Tab\", [\"Tabel\", \"Grafik\", \"Metric\", \"Grafik Distribusi\"])\n",
        "\n",
        "# Tab Tabel\n",
        "if tabs == \"Tabel\":\n",
        "    st.header(\"Tabel Data Nutrisi\")\n",
        "    st.write(df)\n",
        "\n",
        "# Tab Grafik\n",
        "elif tabs == \"Grafik\":\n",
        "    st.header(\"Grafik Nutrisi\")\n",
        "    nutrisi = ['calories', 'proteins', 'fat', 'carbohydrate']\n",
        "    st.subheader(\"Grafik Bar Rata-rata Nutrisi\")\n",
        "    fig, ax = plt.subplots(figsize=(10, 6))\n",
        "    df[nutrisi].mean().plot(kind='bar', ax=ax, color='skyblue')\n",
        "    ax.set_title('Rata-rata Nilai Nutrisi')\n",
        "    ax.set_xlabel('Jenis Nutrisi')\n",
        "    ax.set_ylabel('Rata-rata')\n",
        "    st.pyplot(fig)\n",
        "\n",
        "# Tab Metric\n",
        "elif tabs == \"Metric\":\n",
        "    st.header(\"Indikator Nutrisi\")\n",
        "    st.subheader(\"Rata-rata Nilai Nutrisi\")\n",
        "    st.metric(\"Kalori Rata-rata\", f\"{df['calories'].mean():.2f} kcal\")\n",
        "    st.metric(\"Lemak Rata-rata\", f\"{df['fat'].mean():.2f} g\")\n",
        "    st.metric(\"Karbohidrat Rata-rata\", f\"{df['carbohydrate'].mean():.2f} g\")\n",
        "    st.metric(\"Protein Rata-rata\", f\"{df['proteins'].mean():.2f} g\")\n",
        "\n",
        "# Tab Grafik Distribusi\n",
        "elif tabs == \"Grafik Distribusi\":\n",
        "    st.header(\"Distribusi Nutrisi\")\n",
        "    st.subheader(\"Distribusi Kalori\")\n",
        "    fig, ax = plt.subplots(figsize=(10, 6))\n",
        "    sns.histplot(df['calories'], kde=True, ax=ax, color='purple')\n",
        "    ax.set_title('Distribusi Kalori')\n",
        "    ax.set_xlabel('Kalori')\n",
        "    ax.set_ylabel('Frekuensi')\n",
        "    st.pyplot(fig)"
      ],
      "metadata": {
        "id": "e5uTtAvRZ3bg",
        "colab": {
          "base_uri": "https://localhost:8080/"
        },
        "outputId": "fb2e87b9-e2a1-4f65-f947-895a4f5768aa"
      },
      "execution_count": 18,
      "outputs": [
        {
          "output_type": "stream",
          "name": "stdout",
          "text": [
            "Writing pages/Latihan_Pertemuan_7.py\n"
          ]
        }
      ]
    },
    {
      "cell_type": "code",
      "source": [
        "#Cari dataset untuk Tugas 7 dari repositori publik, download, upload ke drive, import.\n",
        "import pandas as pd\n",
        "data = pd.read_csv('/content/drive/MyDrive/Colab Notebooks/PENGEMBANGAN MACHINE LEARNING/asset/dairy_dataset.csv')"
      ],
      "metadata": {
        "id": "5JmzduALbXFZ"
      },
      "execution_count": 19,
      "outputs": []
    },
    {
      "cell_type": "code",
      "source": [
        "#Cek dulu fitur-fitur dari datasetnya, sesuaikan dgn script di sel %%writefile pages/Tugas_Pertemuan_7.py\n",
        "data.info()"
      ],
      "metadata": {
        "id": "1Tk8C3RHbeCS",
        "colab": {
          "base_uri": "https://localhost:8080/"
        },
        "outputId": "15ef8dc4-83b0-449a-bb26-832806c9717e"
      },
      "execution_count": 20,
      "outputs": [
        {
          "output_type": "stream",
          "name": "stdout",
          "text": [
            "<class 'pandas.core.frame.DataFrame'>\n",
            "RangeIndex: 4325 entries, 0 to 4324\n",
            "Data columns (total 23 columns):\n",
            " #   Column                               Non-Null Count  Dtype  \n",
            "---  ------                               --------------  -----  \n",
            " 0   Location                             4325 non-null   object \n",
            " 1   Total Land Area (acres)              4325 non-null   float64\n",
            " 2   Number of Cows                       4325 non-null   int64  \n",
            " 3   Farm Size                            4325 non-null   object \n",
            " 4   Date                                 4325 non-null   object \n",
            " 5   Product ID                           4325 non-null   int64  \n",
            " 6   Product Name                         4325 non-null   object \n",
            " 7   Brand                                4325 non-null   object \n",
            " 8   Quantity (liters/kg)                 4325 non-null   float64\n",
            " 9   Price per Unit                       4325 non-null   float64\n",
            " 10  Total Value                          4325 non-null   float64\n",
            " 11  Shelf Life (days)                    4325 non-null   int64  \n",
            " 12  Storage Condition                    4325 non-null   object \n",
            " 13  Production Date                      4325 non-null   object \n",
            " 14  Expiration Date                      4325 non-null   object \n",
            " 15  Quantity Sold (liters/kg)            4325 non-null   int64  \n",
            " 16  Price per Unit (sold)                4325 non-null   float64\n",
            " 17  Approx. Total Revenue(INR)           4325 non-null   float64\n",
            " 18  Customer Location                    4325 non-null   object \n",
            " 19  Sales Channel                        4325 non-null   object \n",
            " 20  Quantity in Stock (liters/kg)        4325 non-null   int64  \n",
            " 21  Minimum Stock Threshold (liters/kg)  4325 non-null   float64\n",
            " 22  Reorder Quantity (liters/kg)         4325 non-null   float64\n",
            "dtypes: float64(8), int64(5), object(10)\n",
            "memory usage: 777.3+ KB\n"
          ]
        }
      ]
    },
    {
      "cell_type": "code",
      "source": [
        "!pip install altair\n",
        "!pip install plotly"
      ],
      "metadata": {
        "colab": {
          "base_uri": "https://localhost:8080/"
        },
        "id": "JtcBmrPXllgJ",
        "outputId": "3a1fe7bf-c42c-4daf-bcca-0be1da56a33a"
      },
      "execution_count": 21,
      "outputs": [
        {
          "output_type": "stream",
          "name": "stdout",
          "text": [
            "Requirement already satisfied: altair in /usr/local/lib/python3.11/dist-packages (5.5.0)\n",
            "Requirement already satisfied: jinja2 in /usr/local/lib/python3.11/dist-packages (from altair) (3.1.6)\n",
            "Requirement already satisfied: jsonschema>=3.0 in /usr/local/lib/python3.11/dist-packages (from altair) (4.23.0)\n",
            "Requirement already satisfied: narwhals>=1.14.2 in /usr/local/lib/python3.11/dist-packages (from altair) (1.38.2)\n",
            "Requirement already satisfied: packaging in /usr/local/lib/python3.11/dist-packages (from altair) (24.2)\n",
            "Requirement already satisfied: typing-extensions>=4.10.0 in /usr/local/lib/python3.11/dist-packages (from altair) (4.13.2)\n",
            "Requirement already satisfied: attrs>=22.2.0 in /usr/local/lib/python3.11/dist-packages (from jsonschema>=3.0->altair) (25.3.0)\n",
            "Requirement already satisfied: jsonschema-specifications>=2023.03.6 in /usr/local/lib/python3.11/dist-packages (from jsonschema>=3.0->altair) (2025.4.1)\n",
            "Requirement already satisfied: referencing>=0.28.4 in /usr/local/lib/python3.11/dist-packages (from jsonschema>=3.0->altair) (0.36.2)\n",
            "Requirement already satisfied: rpds-py>=0.7.1 in /usr/local/lib/python3.11/dist-packages (from jsonschema>=3.0->altair) (0.24.0)\n",
            "Requirement already satisfied: MarkupSafe>=2.0 in /usr/local/lib/python3.11/dist-packages (from jinja2->altair) (3.0.2)\n",
            "Requirement already satisfied: plotly in /usr/local/lib/python3.11/dist-packages (5.24.1)\n",
            "Requirement already satisfied: tenacity>=6.2.0 in /usr/local/lib/python3.11/dist-packages (from plotly) (9.1.2)\n",
            "Requirement already satisfied: packaging in /usr/local/lib/python3.11/dist-packages (from plotly) (24.2)\n"
          ]
        }
      ]
    },
    {
      "cell_type": "code",
      "source": [
        "%%writefile pages/Tugas_Pertemuan_7.py\n",
        "import streamlit as st\n",
        "import pandas as pd\n",
        "import matplotlib.pyplot as plt\n",
        "import seaborn as sns\n",
        "import plotly.express as px\n",
        "\n",
        "# Konfigurasi tampilan halaman\n",
        "st.set_page_config(layout=\"wide\")\n",
        "\n",
        "# Judul Aplikasi\n",
        "st.title(\"📊 Dashboard Interaktif - Dairy Dataset\")\n",
        "st.markdown(\"Visualisasi penjualan, stok, dan analisis produk susu\")\n",
        "\n",
        "# Membaca data\n",
        "file_path = '/content/drive/MyDrive/Colab Notebooks/PENGEMBANGAN MACHINE LEARNING/asset/dairy_dataset.csv'\n",
        "try:\n",
        "    df = pd.read_csv(file_path)\n",
        "except FileNotFoundError:\n",
        "    st.error(f\"Gagal memuat data dari {file_path}. Pastikan path dan file tersedia.\")\n",
        "    st.stop()\n",
        "\n",
        "# Parsing tanggal\n",
        "date_cols = ['Date', 'Production Date', 'Expiration Date']\n",
        "for col in date_cols:\n",
        "    df[col] = pd.to_datetime(df[col], errors='coerce')\n",
        "\n",
        "# Sidebar Filter\n",
        "st.sidebar.header(\"📌 Filter Data\")\n",
        "\n",
        "locations = df['Location'].dropna().unique().tolist()\n",
        "products = df['Product Name'].dropna().unique().tolist()\n",
        "\n",
        "selected_location = st.sidebar.multiselect(\"Pilih Lokasi\", options=locations, default=locations)\n",
        "selected_product = st.sidebar.multiselect(\"Pilih Produk\", options=products, default=products)\n",
        "min_date, max_date = df['Date'].min(), df['Date'].max()\n",
        "date_range = st.sidebar.date_input(\"Rentang Tanggal\", [min_date, max_date])\n",
        "\n",
        "# Filter DataFrame\n",
        "filtered_df = df[\n",
        "    (df['Location'].isin(selected_location)) &\n",
        "    (df['Product Name'].isin(selected_product)) &\n",
        "    (df['Date'] >= pd.to_datetime(date_range[0])) &\n",
        "    (df['Date'] <= pd.to_datetime(date_range[1]))\n",
        "]\n",
        "\n",
        "st.write(\"### 📄 Data Tersaring\")\n",
        "st.dataframe(filtered_df)\n",
        "\n",
        "# Grafik 1: Tren Pendapatan\n",
        "st.subheader(\"📈 Tren Pendapatan Harian\")\n",
        "if not filtered_df.empty:\n",
        "    revenue_trend = filtered_df.groupby('Date')['Approx. Total Revenue(INR)'].sum().reset_index()\n",
        "    fig1 = px.line(revenue_trend, x='Date', y='Approx. Total Revenue(INR)',\n",
        "                   title=\"Total Revenue per Hari\", labels={'Date': 'Tanggal', 'Approx. Total Revenue(INR)': 'Revenue (INR)'})\n",
        "    st.plotly_chart(fig1, use_container_width=True)\n",
        "else:\n",
        "    st.warning(\"Tidak ada data sesuai filter.\")\n",
        "\n",
        "# Grafik 2: Distribusi Jumlah Produk Terjual\n",
        "st.subheader(\"📊 Distribusi Jumlah Produk Terjual\")\n",
        "fig2, ax2 = plt.subplots(figsize=(10, 4))\n",
        "sns.histplot(filtered_df['Quantity Sold (liters/kg)'], kde=True, bins=30, color='skyblue', ax=ax2)\n",
        "ax2.set_xlabel(\"Quantity Sold (liters/kg)\")\n",
        "ax2.set_ylabel(\"Frekuensi\")\n",
        "st.pyplot(fig2)\n",
        "\n",
        "# Grafik 3: Korelasi Quantity vs Revenue\n",
        "st.subheader(\"🔍 Korelasi Quantity vs Revenue\")\n",
        "fig3, ax3 = plt.subplots(figsize=(8, 5))\n",
        "sns.scatterplot(data=filtered_df, x='Quantity Sold (liters/kg)', y='Approx. Total Revenue(INR)', hue='Product Name', ax=ax3)\n",
        "ax3.set_xlabel(\"Quantity Sold\")\n",
        "ax3.set_ylabel(\"Total Revenue (INR)\")\n",
        "st.pyplot(fig3)\n",
        "\n",
        "# Grafik 4: Rata-rata Harga Unit per Produk\n",
        "st.subheader(\"💰 Rata-rata Harga per Unit per Produk\")\n",
        "avg_price = filtered_df.groupby('Product Name')['Price per Unit'].mean().sort_values()\n",
        "st.bar_chart(avg_price)\n",
        "\n",
        "# Grafik 5: Total Revenue per Produk\n",
        "st.subheader(\"📦 Total Revenue per Produk\")\n",
        "revenue_by_product = filtered_df.groupby('Product Name')['Approx. Total Revenue(INR)'].sum().sort_values(ascending=False)\n",
        "fig4 = px.bar(revenue_by_product, x=revenue_by_product.index, y=revenue_by_product.values,\n",
        "              labels={'x': 'Product Name', 'y': 'Total Revenue (INR)'}, title=\"Pendapatan Total per Produk\")\n",
        "st.plotly_chart(fig4, use_container_width=True)\n",
        "\n",
        "# Grafik 6: Pie Chart Penjualan berdasarkan Channel\n",
        "st.subheader(\"📈 Persentase Penjualan per Channel\")\n",
        "if 'Sales Channel' in filtered_df.columns:\n",
        "    sales_channel = filtered_df['Sales Channel'].value_counts()\n",
        "    fig5 = px.pie(values=sales_channel.values, names=sales_channel.index, title=\"Distribusi Channel Penjualan\")\n",
        "    st.plotly_chart(fig5, use_container_width=True)\n",
        "\n",
        "# Tabel Rekomendasi Reorder\n",
        "st.subheader(\"🔁 Produk yang Harus Segera Diorder Ulang\")\n",
        "reorder_df = filtered_df[\n",
        "    filtered_df['Quantity in Stock (liters/kg)'] < filtered_df['Minimum Stock Threshold (liters/kg)']\n",
        "]\n",
        "st.dataframe(reorder_df[['Product Name', 'Brand', 'Quantity in Stock (liters/kg)',\n",
        "                         'Minimum Stock Threshold (liters/kg)', 'Reorder Quantity (liters/kg)']])"
      ],
      "metadata": {
        "colab": {
          "base_uri": "https://localhost:8080/"
        },
        "id": "xlkBqwblffAK",
        "outputId": "5646c010-61fa-41d5-ae8e-56d0046e61f3"
      },
      "execution_count": 22,
      "outputs": [
        {
          "output_type": "stream",
          "name": "stdout",
          "text": [
            "Writing pages/Tugas_Pertemuan_7.py\n"
          ]
        }
      ]
    },
    {
      "cell_type": "markdown",
      "source": [
        "## Mengecek isi dari Home.py"
      ],
      "metadata": {
        "id": "UbKQi8cWGWKb"
      }
    },
    {
      "cell_type": "code",
      "source": [
        "!cat Home.py"
      ],
      "metadata": {
        "id": "0dzlr2bxGZQu",
        "colab": {
          "base_uri": "https://localhost:8080/"
        },
        "outputId": "3c027818-2326-4f4d-8ed8-0a560c4f3320"
      },
      "execution_count": 23,
      "outputs": [
        {
          "output_type": "stream",
          "name": "stdout",
          "text": [
            "import streamlit as st\n",
            "st.title(\"Pengembangan Machine Learning\")\n",
            "\n",
            "st.header(\"Pertemuan 7\")\n",
            "st.subheader(\"MEMBANGUN DASHBOARD INTERAKTIF\")\n",
            "st.text(\"Tujuan Pembelajaran:\")\n",
            "st.text(\"▪ Menjelaskan pengertian, tujuan dan dashboard\")\n",
            "st.text(\"▪ Menjelaskan elemen dasar dalam dashboard aplikasi web\")\n",
            "st.text(\"▪ Menjelaskan jenis-jenis dashboard\")\n",
            "st.text(\"▪ Menjelaskan langkah-langkah membangun dashboard\")\n",
            "st.text(\"▪ Membangun dashboard interaktif pada apliaksi web streamlit\")\n"
          ]
        }
      ]
    },
    {
      "cell_type": "markdown",
      "metadata": {
        "id": "k4pIIyd86nzn"
      },
      "source": [
        "## Deployment"
      ]
    },
    {
      "cell_type": "code",
      "source": [
        "!npm install localtunnel"
      ],
      "metadata": {
        "id": "m3_PvUwaGfTr",
        "colab": {
          "base_uri": "https://localhost:8080/"
        },
        "outputId": "a84e8934-e635-4d7f-8632-3ff68ec770d8"
      },
      "execution_count": 24,
      "outputs": [
        {
          "output_type": "stream",
          "name": "stdout",
          "text": [
            "\u001b[1G\u001b[0K⠙\u001b[1G\u001b[0K⠹\u001b[1G\u001b[0K⠸\u001b[1G\u001b[0K⠼\u001b[1G\u001b[0K⠴\u001b[1G\u001b[0K⠦\u001b[1G\u001b[0K⠧\u001b[1G\u001b[0K⠇\u001b[1G\u001b[0K⠏\u001b[1G\u001b[0K⠋\u001b[1G\u001b[0K⠙\u001b[1G\u001b[0K⠹\u001b[1G\u001b[0K⠸\u001b[1G\u001b[0K⠼\u001b[1G\u001b[0K⠴\u001b[1G\u001b[0K⠦\u001b[1G\u001b[0K⠧\u001b[1G\u001b[0K⠇\u001b[1G\u001b[0K⠏\u001b[1G\u001b[0K⠋\u001b[1G\u001b[0K⠙\u001b[1G\u001b[0K⠹\u001b[1G\u001b[0K⠸\u001b[1G\u001b[0K⠼\u001b[1G\u001b[0K⠴\u001b[1G\u001b[0K⠦\u001b[1G\u001b[0K⠧\u001b[1G\u001b[0K⠇\u001b[1G\u001b[0K⠏\u001b[1G\u001b[0K⠋\u001b[1G\u001b[0K⠙\u001b[1G\u001b[0K⠹\u001b[1G\u001b[0K⠸\u001b[1G\u001b[0K⠼\u001b[1G\u001b[0K\n",
            "added 22 packages in 4s\n",
            "\u001b[1G\u001b[0K⠼\u001b[1G\u001b[0K\n",
            "\u001b[1G\u001b[0K⠼\u001b[1G\u001b[0K3 packages are looking for funding\n",
            "\u001b[1G\u001b[0K⠼\u001b[1G\u001b[0K  run `npm fund` for details\n",
            "\u001b[1G\u001b[0K⠼\u001b[1G\u001b[0K"
          ]
        }
      ]
    },
    {
      "cell_type": "code",
      "source": [
        "!pwd"
      ],
      "metadata": {
        "id": "1QkFzxI1GhDc",
        "colab": {
          "base_uri": "https://localhost:8080/"
        },
        "outputId": "e45b9bed-c880-4255-83df-0858ff7abf49"
      },
      "execution_count": 25,
      "outputs": [
        {
          "output_type": "stream",
          "name": "stdout",
          "text": [
            "/content/Pengembangan_Machine_Learning\n"
          ]
        }
      ]
    },
    {
      "cell_type": "code",
      "source": [
        "#Kalo ada yg error atau modifikasi, berhentiin dulu tunnelnya. Run sel yg mau dimodifikasi. Baru run lagi dari sini sampe muncul link tunnel yg baru.\n",
        "!streamlit run /content/Pengembangan_Machine_Learning/Home.py &>/content/Pengembangan_Machine_Learning/logs.txt &"
      ],
      "metadata": {
        "id": "CvKsDBl4GkC2"
      },
      "execution_count": 26,
      "outputs": []
    },
    {
      "cell_type": "code",
      "source": [
        "!timeout 30 cat /content/Pengembangan_Machine_Learning/logs.txt"
      ],
      "metadata": {
        "id": "okbzm9pFGmF9"
      },
      "execution_count": 27,
      "outputs": []
    },
    {
      "cell_type": "code",
      "source": [
        "import requests\n",
        "requests.get('https://api.ipify.org').text"
      ],
      "metadata": {
        "id": "4e3bnAGuGol5",
        "colab": {
          "base_uri": "https://localhost:8080/",
          "height": 36
        },
        "outputId": "1c49a0b7-7120-4ab6-b98d-b3246aafbb46"
      },
      "execution_count": 28,
      "outputs": [
        {
          "output_type": "execute_result",
          "data": {
            "text/plain": [
              "'35.194.232.217'"
            ],
            "application/vnd.google.colaboratory.intrinsic+json": {
              "type": "string"
            }
          },
          "metadata": {},
          "execution_count": 28
        }
      ]
    },
    {
      "cell_type": "code",
      "source": [
        "!npx localtunnel --port 8501"
      ],
      "metadata": {
        "colab": {
          "base_uri": "https://localhost:8080/"
        },
        "id": "oVV37RKqGqPg",
        "outputId": "fc4ed0e0-c0bc-465d-bbe9-3f71415e2edc"
      },
      "execution_count": 29,
      "outputs": [
        {
          "output_type": "stream",
          "name": "stdout",
          "text": [
            "\u001b[1G\u001b[0K⠙\u001b[1G\u001b[0K⠹\u001b[1G\u001b[0Kyour url is: https://fuzzy-candles-try.loca.lt\n",
            "^C\n"
          ]
        }
      ]
    }
  ],
  "metadata": {
    "colab": {
      "provenance": [],
      "collapsed_sections": [
        "bUf7uD-v6Y1f"
      ]
    },
    "kernelspec": {
      "display_name": "Python 3",
      "name": "python3"
    },
    "language_info": {
      "name": "python"
    }
  },
  "nbformat": 4,
  "nbformat_minor": 0
}
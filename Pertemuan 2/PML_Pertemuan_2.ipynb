{
  "cells": [
    {
      "cell_type": "markdown",
      "metadata": {
        "id": "bUf7uD-v6Y1f"
      },
      "source": [
        "## Persiapan Streamlit"
      ]
    },
    {
      "cell_type": "code",
      "source": [
        "from google.colab import drive\n",
        "drive.mount('/content/drive')"
      ],
      "metadata": {
        "colab": {
          "base_uri": "https://localhost:8080/"
        },
        "id": "KlOIKApvuiiM",
        "outputId": "e868935f-2c36-4edd-bd46-0deda34da10f"
      },
      "execution_count": 1,
      "outputs": [
        {
          "output_type": "stream",
          "name": "stdout",
          "text": [
            "Mounted at /content/drive\n"
          ]
        }
      ]
    },
    {
      "cell_type": "code",
      "execution_count": 2,
      "metadata": {
        "id": "cdO7QRj7o16X"
      },
      "outputs": [],
      "source": [
        "!mkdir Pengembangan_Machine_Learning"
      ]
    },
    {
      "cell_type": "code",
      "execution_count": 3,
      "metadata": {
        "id": "WlvI0uDLo60H",
        "colab": {
          "base_uri": "https://localhost:8080/"
        },
        "outputId": "11d6adb6-fb2b-4c55-da08-e871c5d4e601"
      },
      "outputs": [
        {
          "output_type": "stream",
          "name": "stdout",
          "text": [
            "/content/Pengembangan_Machine_Learning\n"
          ]
        }
      ],
      "source": [
        "cd Pengembangan_Machine_Learning"
      ]
    },
    {
      "cell_type": "code",
      "source": [
        "!pwd"
      ],
      "metadata": {
        "id": "JO4vXRnYFSTw",
        "colab": {
          "base_uri": "https://localhost:8080/"
        },
        "outputId": "41f7b8ea-318e-4393-b873-aabf10bc0922"
      },
      "execution_count": 4,
      "outputs": [
        {
          "output_type": "stream",
          "name": "stdout",
          "text": [
            "/content/Pengembangan_Machine_Learning\n"
          ]
        }
      ]
    },
    {
      "cell_type": "code",
      "source": [
        "%%writefile requirements.txt\n",
        "# Berikut adalah daftar library yang akan digunakan dalam project ini\n",
        "streamlit"
      ],
      "metadata": {
        "id": "0QI5cEX1FZPG",
        "colab": {
          "base_uri": "https://localhost:8080/"
        },
        "outputId": "dd33dfc0-452e-451f-c088-a3c992b6792a"
      },
      "execution_count": 5,
      "outputs": [
        {
          "output_type": "stream",
          "name": "stdout",
          "text": [
            "Writing requirements.txt\n"
          ]
        }
      ]
    },
    {
      "cell_type": "code",
      "source": [
        "!ls"
      ],
      "metadata": {
        "id": "He4D9HGhFa_y",
        "colab": {
          "base_uri": "https://localhost:8080/"
        },
        "outputId": "a59afff4-032d-42b3-c864-64e0b8df3899"
      },
      "execution_count": 6,
      "outputs": [
        {
          "output_type": "stream",
          "name": "stdout",
          "text": [
            "requirements.txt\n"
          ]
        }
      ]
    },
    {
      "cell_type": "code",
      "source": [
        "!cat requirements.txt"
      ],
      "metadata": {
        "id": "bwQqVrsaFfhd",
        "colab": {
          "base_uri": "https://localhost:8080/"
        },
        "outputId": "27f9eee6-8d39-4526-a0a8-dd97874ae701"
      },
      "execution_count": 7,
      "outputs": [
        {
          "output_type": "stream",
          "name": "stdout",
          "text": [
            "# Berikut adalah daftar library yang akan digunakan dalam project ini\n",
            "streamlit\n"
          ]
        }
      ]
    },
    {
      "cell_type": "code",
      "source": [
        "!pip install -q -r requirements.txt"
      ],
      "metadata": {
        "id": "oHS2JVqYFkbb",
        "colab": {
          "base_uri": "https://localhost:8080/"
        },
        "outputId": "3a7bd944-0314-4375-9469-73728d1b5f0e"
      },
      "execution_count": 8,
      "outputs": [
        {
          "output_type": "stream",
          "name": "stdout",
          "text": [
            "\u001b[?25l     \u001b[90m━━━━━━━━━━━━━━━━━━━━━━━━━━━━━━━━━━━━━━━━\u001b[0m \u001b[32m0.0/44.3 kB\u001b[0m \u001b[31m?\u001b[0m eta \u001b[36m-:--:--\u001b[0m\r\u001b[2K     \u001b[90m━━━━━━━━━━━━━━━━━━━━━━━━━━━━━━━━━━━━━━━━\u001b[0m \u001b[32m44.3/44.3 kB\u001b[0m \u001b[31m3.1 MB/s\u001b[0m eta \u001b[36m0:00:00\u001b[0m\n",
            "\u001b[2K   \u001b[90m━━━━━━━━━━━━━━━━━━━━━━━━━━━━━━━━━━━━━━━━\u001b[0m \u001b[32m9.9/9.9 MB\u001b[0m \u001b[31m103.1 MB/s\u001b[0m eta \u001b[36m0:00:00\u001b[0m\n",
            "\u001b[2K   \u001b[90m━━━━━━━━━━━━━━━━━━━━━━━━━━━━━━━━━━━━━━━━\u001b[0m \u001b[32m6.9/6.9 MB\u001b[0m \u001b[31m125.5 MB/s\u001b[0m eta \u001b[36m0:00:00\u001b[0m\n",
            "\u001b[2K   \u001b[90m━━━━━━━━━━━━━━━━━━━━━━━━━━━━━━━━━━━━━━━━\u001b[0m \u001b[32m79.1/79.1 kB\u001b[0m \u001b[31m7.8 MB/s\u001b[0m eta \u001b[36m0:00:00\u001b[0m\n",
            "\u001b[?25h"
          ]
        }
      ]
    },
    {
      "cell_type": "code",
      "execution_count": 9,
      "metadata": {
        "id": "1zyxZfx0o-Bp",
        "colab": {
          "base_uri": "https://localhost:8080/"
        },
        "outputId": "3e884349-e613-40cb-d931-55ddfe93911a"
      },
      "outputs": [
        {
          "output_type": "stream",
          "name": "stdout",
          "text": [
            "streamlit                             1.45.1\n"
          ]
        }
      ],
      "source": [
        "!pip list | grep streamlit"
      ]
    },
    {
      "cell_type": "code",
      "execution_count": 10,
      "metadata": {
        "id": "VdSqmROmo-_Y"
      },
      "outputs": [],
      "source": [
        "!pip install streamlit -q"
      ]
    },
    {
      "cell_type": "markdown",
      "source": [
        "### Buat File Home.py"
      ],
      "metadata": {
        "id": "sFw9yT5OFsQ-"
      }
    },
    {
      "cell_type": "code",
      "execution_count": 11,
      "metadata": {
        "id": "q2GcvoeHpB_o",
        "colab": {
          "base_uri": "https://localhost:8080/"
        },
        "outputId": "f228e638-281f-43b7-cbef-5e1102489d08"
      },
      "outputs": [
        {
          "output_type": "stream",
          "name": "stdout",
          "text": [
            "Writing Home.py\n"
          ]
        }
      ],
      "source": [
        "%%writefile Home.py\n",
        "import streamlit as st\n",
        "st.title(\"Pengembangan Machine Learning\")\n",
        "\n",
        "st.header(\"Pertemuan 2\")\n",
        "st.subheader(\"PENYAJIAN DAN PEMFORMATAN TEKS PADA APLIKASI WEB\")\n",
        "st.text(\"Tujuan Pembelajaran:\")\n",
        "st.text(\"▪ Menjelaskan pengertian elemen teks dalam pengembangan web\")\n",
        "st.text(\"▪ Mengidentifikasi fungsi utama elemen teks dalam tampilan web\")\n",
        "st.text(\"▪ Menerapkan  elemen teks Streamlit dalam sebuah halaman web\")\n",
        "st.text(\"▪ Membuat halaman web sederhana sesuai dengan rancangan halam web\")"
      ]
    },
    {
      "cell_type": "code",
      "source": [
        "pwd"
      ],
      "metadata": {
        "id": "Y1xnhI7oFwUi",
        "colab": {
          "base_uri": "https://localhost:8080/",
          "height": 36
        },
        "outputId": "7fc3d7c2-5571-4bdf-edf9-16cb2842633d"
      },
      "execution_count": 12,
      "outputs": [
        {
          "output_type": "execute_result",
          "data": {
            "text/plain": [
              "'/content/Pengembangan_Machine_Learning'"
            ],
            "application/vnd.google.colaboratory.intrinsic+json": {
              "type": "string"
            }
          },
          "metadata": {},
          "execution_count": 12
        }
      ]
    },
    {
      "cell_type": "code",
      "execution_count": 13,
      "metadata": {
        "id": "ehortH0hpMiz",
        "colab": {
          "base_uri": "https://localhost:8080/"
        },
        "outputId": "e6c86549-2baa-4087-ae36-088cb8fd378b"
      },
      "outputs": [
        {
          "output_type": "stream",
          "name": "stdout",
          "text": [
            "Home.py  requirements.txt\n"
          ]
        }
      ],
      "source": [
        "!ls"
      ]
    },
    {
      "cell_type": "markdown",
      "source": [
        "### Buat Direktori Pages"
      ],
      "metadata": {
        "id": "RjG4ibb9F0p6"
      }
    },
    {
      "cell_type": "code",
      "execution_count": 14,
      "metadata": {
        "id": "EtthnVTEpJ7t"
      },
      "outputs": [],
      "source": [
        "!mkdir pages"
      ]
    },
    {
      "cell_type": "code",
      "source": [
        "!ls"
      ],
      "metadata": {
        "id": "orQZ8r3EF843",
        "colab": {
          "base_uri": "https://localhost:8080/"
        },
        "outputId": "4804011d-0274-4fd2-a4c4-13ad99f1baab"
      },
      "execution_count": 15,
      "outputs": [
        {
          "output_type": "stream",
          "name": "stdout",
          "text": [
            "Home.py  pages\trequirements.txt\n"
          ]
        }
      ]
    },
    {
      "cell_type": "code",
      "execution_count": 16,
      "metadata": {
        "id": "1EnvvMCRpSnf"
      },
      "outputs": [],
      "source": [
        "!ls pages"
      ]
    },
    {
      "cell_type": "markdown",
      "metadata": {
        "id": "VtB2dJ2v6XI6"
      },
      "source": [
        "## Pertemuan 2"
      ]
    },
    {
      "cell_type": "code",
      "execution_count": 17,
      "metadata": {
        "id": "JcSBak3Yknrt",
        "colab": {
          "base_uri": "https://localhost:8080/"
        },
        "outputId": "5bc65817-b735-4c44-984a-927272e1cf8b"
      },
      "outputs": [
        {
          "output_type": "stream",
          "name": "stdout",
          "text": [
            "Writing pages/Contoh_Pertemuan_2.py\n"
          ]
        }
      ],
      "source": [
        "%%writefile pages/Contoh_Pertemuan_2.py\n",
        "# 1. Menampilkan teks biasa\n",
        "import streamlit as st\n",
        "st.text(\"Selamat datang di aplikasi kami!\")\n",
        "\n",
        "# 2. Heading dan subheading\n",
        "st.title(\"Aplikasi Prediksi Kesegaran Ikan\")\n",
        "st.header(\"Fitur Utama\")\n",
        "st.subheader(\"Menggunakan Machine Learning\")\n",
        "\n",
        "# 3. Menggunakan markdown untuk format teks\n",
        "st.markdown(\"**Teks Tebal** dan *Teks Miring*\")\n",
        "st.markdown(\"> Ini adalah kutipan.\")\n",
        "st.markdown(\"- Item pertama\\n- Item kedua\\n- Item ketiga\")\n",
        "\n",
        "# 4. Menampilkan caption\n",
        "st.caption(\"Dikembangkan oleh Tim Data Science\")\n",
        "\n",
        "# 5. Menampilkan kode program\n",
        "st.code(\"\"\"\n",
        "def hello():\n",
        "    print(\"Hello, Streamlit!\")\n",
        "\"\"\", language=\"python\")\n",
        "\n",
        "# 6. Menampilkan rumus matematika dengan Latex\n",
        "st.latex(r\"\\int_a^b f(x)dx = F(b) - F(a)\")\n",
        "\n",
        "# 7. Menampilkan garis pemisah\n",
        "st.divider()\n",
        "\n",
        "# 8. Menampilkan kode Python beserta outputnya\n",
        "st.title(\"Demonstrasi st.echo()\")\n",
        "\n",
        "with st.echo():\n",
        "    st.write(\"Halo, ini teks yang ditampilkan di Streamlit!\")\n",
        "    angka = 10 + 5\n",
        "    st.write(f\"Hasil perhitungan: {angka}\")"
      ]
    },
    {
      "cell_type": "code",
      "execution_count": 18,
      "metadata": {
        "id": "I2Nk1s8tp5jb",
        "colab": {
          "base_uri": "https://localhost:8080/"
        },
        "outputId": "287b7386-dbc2-414d-9dca-5de9c3a2a02b"
      },
      "outputs": [
        {
          "output_type": "stream",
          "name": "stdout",
          "text": [
            "Writing pages/Latihan_Pertemuan_2.py\n"
          ]
        }
      ],
      "source": [
        "%%writefile pages/Latihan_Pertemuan_2.py\n",
        "import streamlit as st\n",
        "\n",
        "# Menampilkan judul utama aplikasi\n",
        "st.title(\"Aplikasi Prediksi Kualitas Kesegaran Ikan\")\n",
        "\n",
        "# Menampilkan header utama\n",
        "st.header(\"Tentang Aplikasi\")\n",
        "\n",
        "# Menampilkan deskripsi aplikasi\n",
        "st.write(\"Aplikasi ini dirancang untuk membantu pengguna dalam memprediksi kualitas kesegaran ikan berdasarkan berbagai parameter seperti warna insang, tekstur daging, dan bau ikan.\")\n",
        "\n",
        "# Menampilkan subheader\n",
        "st.subheader(\"Fitur Utama\")\n",
        "\n",
        "# Menampilkan daftar fitur dalam format unordered list (ul)\n",
        "st.markdown(\"\"\"\n",
        "- **Analisis Kualitas** berdasarkan data visual dan sensorik\n",
        "- **Model Prediksi** berbasis Machine Learning\n",
        "- **Antarmuka Interaktif** yang mudah digunakan\n",
        "- **Hasil Akurat** dengan tingkat kepercayaan tinggi\n",
        "\"\"\")\n",
        "\n",
        "# Menampilkan daftar langkah kerja aplikasi dalam format ordered list (ol)\n",
        "st.markdown(\"\"\"\n",
        "1. Input data karakteristik ikan\n",
        "2. Pemrosesan dan analisis data\n",
        "3. Prediksi kesegaran ikan\n",
        "4. Menampilkan hasil prediksi\n",
        "\"\"\")\n",
        "\n",
        "# Menampilkan contoh kode penggunaan model prediksi\n",
        "st.subheader(\"Contoh Penggunaan Model Prediksi\")\n",
        "st.code(\"\"\"import joblib\"\"\")\n",
        "\n",
        "# Menampilkan caption pada gambar ilustrasi aplikasi\n",
        "st.image(\"/content/drive/MyDrive/Colab Notebooks/PENGEMBANGAN MACHINE LEARNING/asset/ikan.jfif\", caption=\"Gambar Ilustrasi Kesegaran Ikan\")\n",
        "\n",
        "# Menampilkan pemisah\n",
        "st.divider()\n",
        "\n",
        "# Menampilkan persamaan matematika terkait analisis kesegaran ikan menggunakan LaTeX\n",
        "st.subheader(\"Model Prediksi\")\n",
        "st.latex(r\"\"\"S = \\frac{1}{1+e^{-z}}\"\"\")\n",
        "st.write(\"Di mana \\( S \\) adalah skor kesegaran ikan berdasarkan parameter yang dianalisis.\")\n",
        "\n",
        "# Menampilkan catatan tambahan\n",
        "st.caption(\"Versi 1.0 | Dikembangkan oleh Tim AI Perikanan\")"
      ]
    },
    {
      "cell_type": "code",
      "execution_count": 19,
      "metadata": {
        "id": "902vvdc0sJq1",
        "colab": {
          "base_uri": "https://localhost:8080/"
        },
        "outputId": "06addcbe-bae1-48c2-b766-24450e221c10"
      },
      "outputs": [
        {
          "output_type": "stream",
          "name": "stdout",
          "text": [
            "Writing pages/Tugas_Pertemuan_2.py\n"
          ]
        }
      ],
      "source": [
        "%%writefile pages/Tugas_Pertemuan_2.py\n",
        "import streamlit as st\n",
        "\n",
        "# Menampilkan judul utama aplikasi\n",
        "st.title(\"Pengenalan Machine Learning\")\n",
        "\n",
        "# Menampilkan deskripsi umum tentang topik\n",
        "st.text(\"Machine Learning adalah cabang dari kecerdasan buatan (AI) yang memungkinkan sistem belajar dari data tanpa harus diprogram secara eksplisit.\")\n",
        "\n",
        "# Menampilkan header untuk fitur utama\n",
        "st.subheader(\"Fitur Utama Machine Learning\")\n",
        "\n",
        "# Menampilkan daftar fitur dalam format unordered list\n",
        "st.markdown(\"\"\"\n",
        "- **Belajar dari Data**: Sistem dapat belajar dan meningkat dari pengalaman.\n",
        "- **Prediksi dan Klasifikasi**: Menghasilkan output berdasarkan input baru.\n",
        "- **Deteksi Pola**: Menemukan pola tersembunyi di dalam data besar.\n",
        "- **Pengambilan Keputusan Otomatis**: Membantu otomatisasi dalam berbagai industri.\n",
        "- **Adaptasi Dinamis**: Sistem dapat beradaptasi dengan perubahan data secara real-time.\n",
        "\"\"\")\n",
        "\n",
        "# Menampilkan daftar langkah kerja dalam format ordered list\n",
        "st.markdown(\"\"\"\n",
        "1. Kumpulkan dan siapkan data.\n",
        "2. Pilih model machine learning yang sesuai.\n",
        "3. Latih model menggunakan data pelatihan.\n",
        "4. Evaluasi model dengan data pengujian.\n",
        "5. Gunakan model untuk membuat prediksi pada data baru.\n",
        "\"\"\")\n",
        "\n",
        "# Menampilkan subheader contoh penggunaan kode\n",
        "st.subheader(\"Contoh Kode Machine Learning Sederhana\")\n",
        "\n",
        "# Menampilkan contoh kode\n",
        "st.code(\"\"\"\n",
        "from sklearn.linear_model import LinearRegression\n",
        "import numpy as np\n",
        "\n",
        "# Data sederhana\n",
        "X = np.array([[1], [2], [3], [4], [5]])\n",
        "y = np.array([3, 5, 7, 9, 11])\n",
        "\n",
        "# Membuat dan melatih model\n",
        "model = LinearRegression()\n",
        "model.fit(X, y)\n",
        "\n",
        "# Melakukan prediksi\n",
        "prediksi = model.predict([[6]])\n",
        "print(prediksi)  # Output: [13.]\n",
        "\"\"\")\n",
        "\n",
        "# Menampilkan gambar dengan caption\n",
        "st.image(\"/content/drive/MyDrive/Colab Notebooks/PENGEMBANGAN MACHINE LEARNING/asset/ai.png\", caption=\"Ilustrasi Machine Learning dalam Kehidupan Nyata\") #Ganti gambarnya supaya muncul. Download gambar, upload ke drive\n",
        "\n",
        "# Menampilkan pemisah\n",
        "st.divider()\n",
        "\n",
        "# Menampilkan subheader untuk model matematis\n",
        "st.subheader(\"Rumus Regresi Linier Sederhana\")\n",
        "\n",
        "# Menampilkan rumus matematika\n",
        "st.latex(r\"\"\"\n",
        "y = mx + c\n",
        "\"\"\")\n",
        "\n",
        "st.write(\"Di mana:\")\n",
        "st.markdown(\"\"\"\n",
        "- \\( y \\) adalah nilai yang diprediksi\n",
        "- \\( m \\) adalah koefisien (kemiringan garis)\n",
        "- \\( x \\) adalah fitur input\n",
        "- \\( c \\) adalah intercept (titik potong dengan sumbu Y)\n",
        "\"\"\")\n",
        "\n",
        "# Menampilkan catatan tambahan\n",
        "st.caption(\"Versi 1.0 | Disusun untuk Tugas Pertemuan 2 | Dibuat oleh Tim Pembelajaran Machine Learning\")"
      ]
    },
    {
      "cell_type": "code",
      "execution_count": 20,
      "metadata": {
        "id": "T00HrEZSsluA"
      },
      "outputs": [],
      "source": [
        "!mkdir images"
      ]
    },
    {
      "cell_type": "code",
      "execution_count": 21,
      "metadata": {
        "id": "9tP3TwPSssp6",
        "colab": {
          "base_uri": "https://localhost:8080/"
        },
        "outputId": "600cf789-335a-4d58-ecb3-a580278b108f"
      },
      "outputs": [
        {
          "output_type": "stream",
          "name": "stdout",
          "text": [
            "  % Total    % Received % Xferd  Average Speed   Time    Time     Time  Current\n",
            "                                 Dload  Upload   Total   Spent    Left  Speed\n",
            "\r  0     0    0     0    0     0      0      0 --:--:-- --:--:-- --:--:--     0\r100 11517  100 11517    0     0   107k      0 --:--:-- --:--:-- --:--:--  108k\n"
          ]
        }
      ],
      "source": [
        "!curl https://w7.pngwing.com/pngs/144/944/png-transparent-button-blue-button-miscellaneous-blue-sphere-thumbnail.png -o images/icon.jpg"
      ]
    },
    {
      "cell_type": "markdown",
      "source": [
        "## Mengecek isi dari Home.py"
      ],
      "metadata": {
        "id": "UbKQi8cWGWKb"
      }
    },
    {
      "cell_type": "code",
      "source": [
        "!cat Home.py"
      ],
      "metadata": {
        "id": "0dzlr2bxGZQu",
        "colab": {
          "base_uri": "https://localhost:8080/"
        },
        "outputId": "0aaeb013-ca74-4277-801c-0c67420d87d8"
      },
      "execution_count": 22,
      "outputs": [
        {
          "output_type": "stream",
          "name": "stdout",
          "text": [
            "import streamlit as st\n",
            "st.title(\"Pengembangan Machine Learning\")\n",
            "\n",
            "st.header(\"Pertemuan 2\")\n",
            "st.subheader(\"PENYAJIAN DAN PEMFORMATAN TEKS PADA APLIKASI WEB\")\n",
            "st.text(\"Tujuan Pembelajaran:\")\n",
            "st.text(\"▪ Menjelaskan pengertian elemen teks dalam pengembangan web\")\n",
            "st.text(\"▪ Mengidentifikasi fungsi utama elemen teks dalam tampilan web\")\n",
            "st.text(\"▪ Menerapkan  elemen teks Streamlit dalam sebuah halaman web\")\n",
            "st.text(\"▪ Membuat halaman web sederhana sesuai dengan rancangan halam web\")\n"
          ]
        }
      ]
    },
    {
      "cell_type": "markdown",
      "metadata": {
        "id": "k4pIIyd86nzn"
      },
      "source": [
        "## Deployment"
      ]
    },
    {
      "cell_type": "code",
      "source": [
        "!npm install localtunnel"
      ],
      "metadata": {
        "id": "m3_PvUwaGfTr",
        "colab": {
          "base_uri": "https://localhost:8080/"
        },
        "outputId": "30d9455d-d9b5-49a3-c1de-97c4495b7424"
      },
      "execution_count": 23,
      "outputs": [
        {
          "output_type": "stream",
          "name": "stdout",
          "text": [
            "\u001b[1G\u001b[0K⠙\u001b[1G\u001b[0K⠹\u001b[1G\u001b[0K⠸\u001b[1G\u001b[0K⠼\u001b[1G\u001b[0K⠴\u001b[1G\u001b[0K⠦\u001b[1G\u001b[0K⠧\u001b[1G\u001b[0K⠇\u001b[1G\u001b[0K⠏\u001b[1G\u001b[0K⠋\u001b[1G\u001b[0K⠙\u001b[1G\u001b[0K⠹\u001b[1G\u001b[0K⠸\u001b[1G\u001b[0K⠼\u001b[1G\u001b[0K⠴\u001b[1G\u001b[0K⠦\u001b[1G\u001b[0K⠧\u001b[1G\u001b[0K⠇\u001b[1G\u001b[0K⠏\u001b[1G\u001b[0K⠋\u001b[1G\u001b[0K⠙\u001b[1G\u001b[0K⠹\u001b[1G\u001b[0K⠸\u001b[1G\u001b[0K⠼\u001b[1G\u001b[0K⠴\u001b[1G\u001b[0K⠦\u001b[1G\u001b[0K⠧\u001b[1G\u001b[0K⠇\u001b[1G\u001b[0K\n",
            "added 22 packages in 3s\n",
            "\u001b[1G\u001b[0K⠇\u001b[1G\u001b[0K\n",
            "\u001b[1G\u001b[0K⠇\u001b[1G\u001b[0K3 packages are looking for funding\n",
            "\u001b[1G\u001b[0K⠇\u001b[1G\u001b[0K  run `npm fund` for details\n",
            "\u001b[1G\u001b[0K⠇\u001b[1G\u001b[0K"
          ]
        }
      ]
    },
    {
      "cell_type": "code",
      "source": [
        "!pwd"
      ],
      "metadata": {
        "id": "1QkFzxI1GhDc",
        "colab": {
          "base_uri": "https://localhost:8080/"
        },
        "outputId": "89d85e34-7210-4f2a-8921-93dc073cafc5"
      },
      "execution_count": 24,
      "outputs": [
        {
          "output_type": "stream",
          "name": "stdout",
          "text": [
            "/content/Pengembangan_Machine_Learning\n"
          ]
        }
      ]
    },
    {
      "cell_type": "code",
      "source": [
        "#Kalo ada yg error atau modifikasi, berhentiin dulu tunnelnya. Run sel yg mau dimodifikasi. Baru run lagi dari sini sampe muncul link tunnel yg baru.\n",
        "!streamlit run /content/Pengembangan_Machine_Learning/Home.py &>/content/Pengembangan_Machine_Learning/logs.txt &"
      ],
      "metadata": {
        "id": "CvKsDBl4GkC2"
      },
      "execution_count": 25,
      "outputs": []
    },
    {
      "cell_type": "code",
      "source": [
        "!timeout 30 cat /content/Pengembangan_Machine_Learning/logs.txt"
      ],
      "metadata": {
        "id": "okbzm9pFGmF9"
      },
      "execution_count": 26,
      "outputs": []
    },
    {
      "cell_type": "code",
      "source": [
        "import requests\n",
        "requests.get('https://api.ipify.org').text"
      ],
      "metadata": {
        "id": "4e3bnAGuGol5",
        "colab": {
          "base_uri": "https://localhost:8080/",
          "height": 36
        },
        "outputId": "58def52f-6ed8-4ed8-aa3d-690b72ca9321"
      },
      "execution_count": 27,
      "outputs": [
        {
          "output_type": "execute_result",
          "data": {
            "text/plain": [
              "'34.125.73.110'"
            ],
            "application/vnd.google.colaboratory.intrinsic+json": {
              "type": "string"
            }
          },
          "metadata": {},
          "execution_count": 27
        }
      ]
    },
    {
      "cell_type": "code",
      "source": [
        "!npx localtunnel --port 8501"
      ],
      "metadata": {
        "colab": {
          "base_uri": "https://localhost:8080/"
        },
        "id": "oVV37RKqGqPg",
        "outputId": "d511f82f-b939-4dfe-80b1-e7dcc4a52b3e"
      },
      "execution_count": null,
      "outputs": [
        {
          "output_type": "stream",
          "name": "stdout",
          "text": [
            "\u001b[1G\u001b[0K⠙\u001b[1G\u001b[0K⠹\u001b[1G\u001b[0Kyour url is: https://clever-worms-serve.loca.lt\n"
          ]
        }
      ]
    }
  ],
  "metadata": {
    "colab": {
      "provenance": [],
      "collapsed_sections": [
        "bUf7uD-v6Y1f"
      ]
    },
    "kernelspec": {
      "display_name": "Python 3",
      "name": "python3"
    },
    "language_info": {
      "name": "python"
    }
  },
  "nbformat": 4,
  "nbformat_minor": 0
}